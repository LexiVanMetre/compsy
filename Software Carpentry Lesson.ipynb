{
 "cells": [
  {
   "cell_type": "markdown",
   "id": "5a124704",
   "metadata": {},
   "source": [
    "# Python Fundamentals"
   ]
  },
  {
   "cell_type": "markdown",
   "id": "49723dfd",
   "metadata": {},
   "source": [
    "**Variables**"
   ]
  },
  {
   "cell_type": "code",
   "execution_count": 1,
   "id": "9ffd1939",
   "metadata": {},
   "outputs": [
    {
     "data": {
      "text/plain": [
       "23"
      ]
     },
     "execution_count": 1,
     "metadata": {},
     "output_type": "execute_result"
    }
   ],
   "source": [
    "3 + 5 * 4"
   ]
  },
  {
   "cell_type": "code",
   "execution_count": 2,
   "id": "a59a4e9a",
   "metadata": {},
   "outputs": [],
   "source": [
    "weight_kg = 60"
   ]
  },
  {
   "cell_type": "markdown",
   "id": "5c8d11f9",
   "metadata": {},
   "source": [
    "**Types of Data**"
   ]
  },
  {
   "cell_type": "code",
   "execution_count": 3,
   "id": "f3643821",
   "metadata": {},
   "outputs": [],
   "source": [
    "weight_kg = 60.3 # this is an integer "
   ]
  },
  {
   "cell_type": "code",
   "execution_count": 4,
   "id": "9cb8cf1a",
   "metadata": {},
   "outputs": [],
   "source": [
    "patient_id = '001' # this is a string "
   ]
  },
  {
   "cell_type": "markdown",
   "id": "bd5edf5e",
   "metadata": {},
   "source": [
    "**Using Variables in Python**"
   ]
  },
  {
   "cell_type": "code",
   "execution_count": 5,
   "id": "88214ce2",
   "metadata": {},
   "outputs": [],
   "source": [
    "weight_lb = 2.2 * weight_kg"
   ]
  },
  {
   "cell_type": "code",
   "execution_count": 6,
   "id": "dc45a495",
   "metadata": {},
   "outputs": [],
   "source": [
    "patient_id = 'inflam_' + patient_id"
   ]
  },
  {
   "cell_type": "markdown",
   "id": "c5f7c31b",
   "metadata": {},
   "source": [
    "**Built-in Python functions**"
   ]
  },
  {
   "cell_type": "code",
   "execution_count": 7,
   "id": "6aab3421",
   "metadata": {},
   "outputs": [
    {
     "name": "stdout",
     "output_type": "stream",
     "text": [
      "132.66\n",
      "inflam_001\n"
     ]
    }
   ],
   "source": [
    "print(weight_lb)\n",
    "print(patient_id)"
   ]
  },
  {
   "cell_type": "code",
   "execution_count": 8,
   "id": "72e04dfa",
   "metadata": {},
   "outputs": [
    {
     "name": "stdout",
     "output_type": "stream",
     "text": [
      "inflam_001 weight in kilograms: 60.3\n"
     ]
    }
   ],
   "source": [
    "print(patient_id, 'weight in kilograms:', weight_kg)"
   ]
  },
  {
   "cell_type": "code",
   "execution_count": 9,
   "id": "188a8c41",
   "metadata": {},
   "outputs": [
    {
     "name": "stdout",
     "output_type": "stream",
     "text": [
      "<class 'float'>\n",
      "<class 'str'>\n"
     ]
    }
   ],
   "source": [
    "print(type(60.3))\n",
    "print(type(patient_id))"
   ]
  },
  {
   "cell_type": "code",
   "execution_count": 10,
   "id": "763504fb",
   "metadata": {},
   "outputs": [
    {
     "name": "stdout",
     "output_type": "stream",
     "text": [
      "weight in pounds: 132.66\n"
     ]
    }
   ],
   "source": [
    "print('weight in pounds:', 2.2 * weight_kg)"
   ]
  },
  {
   "cell_type": "code",
   "execution_count": 11,
   "id": "2c1bf12b",
   "metadata": {},
   "outputs": [
    {
     "name": "stdout",
     "output_type": "stream",
     "text": [
      "60.3\n"
     ]
    }
   ],
   "source": [
    "print(weight_kg)"
   ]
  },
  {
   "cell_type": "code",
   "execution_count": 12,
   "id": "c0989539",
   "metadata": {},
   "outputs": [
    {
     "name": "stdout",
     "output_type": "stream",
     "text": [
      "weight in kilograms is now: 65.0\n"
     ]
    }
   ],
   "source": [
    "weight_kg = 65.0\n",
    "print('weight in kilograms is now:', weight_kg)"
   ]
  },
  {
   "cell_type": "code",
   "execution_count": 13,
   "id": "3af9368c",
   "metadata": {},
   "outputs": [
    {
     "name": "stdout",
     "output_type": "stream",
     "text": [
      "weight in kilograms: 65.0 and in pounds: 143.0\n"
     ]
    }
   ],
   "source": [
    "# There are 2.2 pounds per kilogram\n",
    "weight_lb = 2.2 * weight_kg\n",
    "print('weight in kilograms:', weight_kg, 'and in pounds:', weight_lb)"
   ]
  },
  {
   "cell_type": "code",
   "execution_count": 14,
   "id": "dc2b301a",
   "metadata": {},
   "outputs": [
    {
     "name": "stdout",
     "output_type": "stream",
     "text": [
      "weight in kilograms is now: 100.0 and weight in pounds is still: 143.0\n"
     ]
    }
   ],
   "source": [
    "weight_kg = 100.0\n",
    "print('weight in kilograms is now:', weight_kg, 'and weight in pounds is still:', weight_lb)"
   ]
  },
  {
   "cell_type": "markdown",
   "id": "42c6b314",
   "metadata": {},
   "source": [
    "What values do the variables mass and age have after each of the following statements? Test your answer by executing the lines. "
   ]
  },
  {
   "cell_type": "code",
   "execution_count": 15,
   "id": "d5092986",
   "metadata": {},
   "outputs": [],
   "source": [
    "mass = 47.5 \n",
    "age = 122\n",
    "mass = mass * 2.0 \n",
    "age = age - 20"
   ]
  },
  {
   "cell_type": "markdown",
   "id": "3aad5f99",
   "metadata": {},
   "source": [
    "`mass` holds a value of 47.5, `age` does not exist\n",
    "`mass` still holds a value of 47.5, `age` holds a value of 122\n",
    "`mass` now has a value of 95.0, `age`'s value is still 122\n",
    "`mass` still has a value of 95.0, `age` now holds 102"
   ]
  },
  {
   "cell_type": "markdown",
   "id": "56ff2a1b",
   "metadata": {},
   "source": [
    "Python allows you to assign multiple values to multiple variables in one line by separating the variables and values with commas. What does the following program print out?"
   ]
  },
  {
   "cell_type": "code",
   "execution_count": 16,
   "id": "474a1b85",
   "metadata": {},
   "outputs": [
    {
     "name": "stdout",
     "output_type": "stream",
     "text": [
      "Hopper Grace\n"
     ]
    }
   ],
   "source": [
    "first, second = 'Grace', 'Hopper'\n",
    "third, fourth = second, first\n",
    "print(third, fourth)"
   ]
  },
  {
   "cell_type": "markdown",
   "id": "9313c131",
   "metadata": {},
   "source": [
    "What are the data types of the following variables?"
   ]
  },
  {
   "cell_type": "code",
   "execution_count": 17,
   "id": "c2179dcf",
   "metadata": {},
   "outputs": [
    {
     "name": "stdout",
     "output_type": "stream",
     "text": [
      "<class 'str'>\n",
      "<class 'int'>\n",
      "<class 'float'>\n"
     ]
    }
   ],
   "source": [
    "planet = 'Earth'\n",
    "apples = 5\n",
    "distance = 10.5\n",
    "print(type(planet))\n",
    "print(type(apples))\n",
    "print(type(distance))"
   ]
  },
  {
   "cell_type": "markdown",
   "id": "9685c127",
   "metadata": {},
   "source": [
    "# Analyszing Patient Data "
   ]
  },
  {
   "cell_type": "markdown",
   "id": "df539a4a",
   "metadata": {},
   "source": [
    "**Loading data into Python**"
   ]
  },
  {
   "cell_type": "code",
   "execution_count": 19,
   "id": "4c631c32",
   "metadata": {},
   "outputs": [],
   "source": [
    "import numpy as np"
   ]
  },
  {
   "cell_type": "code",
   "execution_count": 20,
   "id": "62869153",
   "metadata": {},
   "outputs": [
    {
     "data": {
      "text/plain": [
       "array([[0., 0., 1., ..., 3., 0., 0.],\n",
       "       [0., 1., 2., ..., 1., 0., 1.],\n",
       "       [0., 1., 1., ..., 2., 1., 1.],\n",
       "       ...,\n",
       "       [0., 1., 1., ..., 1., 1., 1.],\n",
       "       [0., 0., 0., ..., 0., 2., 0.],\n",
       "       [0., 0., 1., ..., 1., 1., 0.]])"
      ]
     },
     "execution_count": 20,
     "metadata": {},
     "output_type": "execute_result"
    }
   ],
   "source": [
    "numpy.loadtxt(fname = 'inflammation-01.csv', delimiter=',')"
   ]
  },
  {
   "cell_type": "code",
   "execution_count": 21,
   "id": "6288f2bc",
   "metadata": {},
   "outputs": [],
   "source": [
    "data = numpy.loadtxt(fname='inflammation-01.csv', delimiter=',')"
   ]
  },
  {
   "cell_type": "code",
   "execution_count": 22,
   "id": "1b4cf0af",
   "metadata": {},
   "outputs": [
    {
     "name": "stdout",
     "output_type": "stream",
     "text": [
      "[[0. 0. 1. ... 3. 0. 0.]\n",
      " [0. 1. 2. ... 1. 0. 1.]\n",
      " [0. 1. 1. ... 2. 1. 1.]\n",
      " ...\n",
      " [0. 1. 1. ... 1. 1. 1.]\n",
      " [0. 0. 0. ... 0. 2. 0.]\n",
      " [0. 0. 1. ... 1. 1. 0.]]\n"
     ]
    }
   ],
   "source": [
    "print(data)"
   ]
  },
  {
   "cell_type": "code",
   "execution_count": 23,
   "id": "908741f2",
   "metadata": {},
   "outputs": [
    {
     "name": "stdout",
     "output_type": "stream",
     "text": [
      "<class 'numpy.ndarray'>\n"
     ]
    }
   ],
   "source": [
    "print(type(data))"
   ]
  },
  {
   "cell_type": "code",
   "execution_count": 24,
   "id": "f5ecd758",
   "metadata": {},
   "outputs": [
    {
     "name": "stdout",
     "output_type": "stream",
     "text": [
      "float64\n"
     ]
    }
   ],
   "source": [
    "print(data.dtype)"
   ]
  },
  {
   "cell_type": "code",
   "execution_count": 25,
   "id": "36010f14",
   "metadata": {},
   "outputs": [
    {
     "name": "stdout",
     "output_type": "stream",
     "text": [
      "(60, 40)\n"
     ]
    }
   ],
   "source": [
    "print(data.shape)"
   ]
  },
  {
   "cell_type": "code",
   "execution_count": 26,
   "id": "e70d9754",
   "metadata": {},
   "outputs": [
    {
     "name": "stdout",
     "output_type": "stream",
     "text": [
      "first value in data: 0.0\n"
     ]
    }
   ],
   "source": [
    "print('first value in data:', data[0, 0])"
   ]
  },
  {
   "cell_type": "code",
   "execution_count": 27,
   "id": "e4417aa6",
   "metadata": {},
   "outputs": [
    {
     "name": "stdout",
     "output_type": "stream",
     "text": [
      "middle value in data: 16.0\n"
     ]
    }
   ],
   "source": [
    "print('middle value in data:', data[29, 19])"
   ]
  },
  {
   "cell_type": "markdown",
   "id": "eb5786e6",
   "metadata": {},
   "source": [
    "**Slicing Data**"
   ]
  },
  {
   "cell_type": "code",
   "execution_count": 28,
   "id": "094a1dc1",
   "metadata": {},
   "outputs": [
    {
     "name": "stdout",
     "output_type": "stream",
     "text": [
      "[[0. 0. 1. 3. 1. 2. 4. 7. 8. 3.]\n",
      " [0. 1. 2. 1. 2. 1. 3. 2. 2. 6.]\n",
      " [0. 1. 1. 3. 3. 2. 6. 2. 5. 9.]\n",
      " [0. 0. 2. 0. 4. 2. 2. 1. 6. 7.]]\n"
     ]
    }
   ],
   "source": [
    "print(data[0:4, 0:10])"
   ]
  },
  {
   "cell_type": "code",
   "execution_count": 29,
   "id": "6650314d",
   "metadata": {},
   "outputs": [
    {
     "name": "stdout",
     "output_type": "stream",
     "text": [
      "[[0. 0. 1. 2. 2. 4. 2. 1. 6. 4.]\n",
      " [0. 0. 2. 2. 4. 2. 2. 5. 5. 8.]\n",
      " [0. 0. 1. 2. 3. 1. 2. 3. 5. 3.]\n",
      " [0. 0. 0. 3. 1. 5. 6. 5. 5. 8.]\n",
      " [0. 1. 1. 2. 1. 3. 5. 3. 5. 8.]]\n"
     ]
    }
   ],
   "source": [
    "print(data[5:10, 0:10])"
   ]
  },
  {
   "cell_type": "code",
   "execution_count": 30,
   "id": "77b3a4c7",
   "metadata": {},
   "outputs": [
    {
     "name": "stdout",
     "output_type": "stream",
     "text": [
      "small is:\n",
      "[[2. 3. 0. 0.]\n",
      " [1. 1. 0. 1.]\n",
      " [2. 2. 1. 1.]]\n"
     ]
    }
   ],
   "source": [
    "small = data[:3, 36:]\n",
    "print('small is:')\n",
    "print(small)"
   ]
  },
  {
   "cell_type": "markdown",
   "id": "3c04a632",
   "metadata": {},
   "source": [
    "**Analyzing data**"
   ]
  },
  {
   "cell_type": "code",
   "execution_count": 31,
   "id": "d3df7cad",
   "metadata": {},
   "outputs": [
    {
     "name": "stdout",
     "output_type": "stream",
     "text": [
      "6.14875\n"
     ]
    }
   ],
   "source": [
    "print(numpy.mean(data))"
   ]
  },
  {
   "cell_type": "code",
   "execution_count": 32,
   "id": "3f282f17",
   "metadata": {},
   "outputs": [
    {
     "name": "stdout",
     "output_type": "stream",
     "text": [
      "Thu Aug 31 14:48:08 2023\n"
     ]
    }
   ],
   "source": [
    "import time \n",
    "print(time.ctime())"
   ]
  },
  {
   "cell_type": "code",
   "execution_count": 33,
   "id": "af617f44",
   "metadata": {},
   "outputs": [
    {
     "name": "stdout",
     "output_type": "stream",
     "text": [
      "maximum inflammation: 20.0\n",
      "minimum inflammation: 0.0\n",
      "standard deviation: 4.613833197118566\n"
     ]
    }
   ],
   "source": [
    "maxval, minval, stdval = numpy.amax(data), numpy.amin(data), numpy.std(data)\n",
    "\n",
    "print('maximum inflammation:', maxval)\n",
    "print('minimum inflammation:', minval)\n",
    "print('standard deviation:', stdval)"
   ]
  },
  {
   "cell_type": "code",
   "execution_count": 34,
   "id": "019db41d",
   "metadata": {},
   "outputs": [],
   "source": [
    "# If you type the name of something followed by a dot, then you can use tab completion (e.g. type numpy. and then press Tab) to see a list of all functions and attributes that you can use. After selecting one, you can also add a question mark (e.g. numpy.cumprod?), and IPython will return an explanation of the method"
   ]
  },
  {
   "cell_type": "code",
   "execution_count": 35,
   "id": "3ebc367c",
   "metadata": {},
   "outputs": [
    {
     "name": "stdout",
     "output_type": "stream",
     "text": [
      "maximum inflammation for patient 0: 18.0\n"
     ]
    }
   ],
   "source": [
    "patient_0 = data[0, :] # 0 on the first axis (rows), everything on the second (columns)\n",
    "print('maximum inflammation for patient 0:', numpy.amax(patient_0))"
   ]
  },
  {
   "cell_type": "code",
   "execution_count": 36,
   "id": "a883d12a",
   "metadata": {},
   "outputs": [
    {
     "name": "stdout",
     "output_type": "stream",
     "text": [
      "maximum inflammation for patient 2: 19.0\n"
     ]
    }
   ],
   "source": [
    "print('maximum inflammation for patient 2:', numpy.amax(data[2, :]))"
   ]
  },
  {
   "cell_type": "code",
   "execution_count": 37,
   "id": "47a4a979",
   "metadata": {},
   "outputs": [
    {
     "name": "stdout",
     "output_type": "stream",
     "text": [
      "[ 0.          0.45        1.11666667  1.75        2.43333333  3.15\n",
      "  3.8         3.88333333  5.23333333  5.51666667  5.95        5.9\n",
      "  8.35        7.73333333  8.36666667  9.5         9.58333333 10.63333333\n",
      " 11.56666667 12.35       13.25       11.96666667 11.03333333 10.16666667\n",
      " 10.          8.66666667  9.15        7.25        7.33333333  6.58333333\n",
      "  6.06666667  5.95        5.11666667  3.6         3.3         3.56666667\n",
      "  2.48333333  1.5         1.13333333  0.56666667]\n"
     ]
    }
   ],
   "source": [
    "print(numpy.mean(data, axis=0))\n",
    "# averaging an entire dataset based on the rows "
   ]
  },
  {
   "cell_type": "code",
   "execution_count": 38,
   "id": "aa63e1f7",
   "metadata": {},
   "outputs": [
    {
     "name": "stdout",
     "output_type": "stream",
     "text": [
      "(40,)\n"
     ]
    }
   ],
   "source": [
    "print(numpy.mean(data, axis=0).shape)"
   ]
  },
  {
   "cell_type": "code",
   "execution_count": 39,
   "id": "68ec73de",
   "metadata": {},
   "outputs": [
    {
     "name": "stdout",
     "output_type": "stream",
     "text": [
      "[5.45  5.425 6.1   5.9   5.55  6.225 5.975 6.65  6.625 6.525 6.775 5.8\n",
      " 6.225 5.75  5.225 6.3   6.55  5.7   5.85  6.55  5.775 5.825 6.175 6.1\n",
      " 5.8   6.425 6.05  6.025 6.175 6.55  6.175 6.35  6.725 6.125 7.075 5.725\n",
      " 5.925 6.15  6.075 5.75  5.975 5.725 6.3   5.9   6.75  5.925 7.225 6.15\n",
      " 5.95  6.275 5.7   6.1   6.825 5.975 6.725 5.7   6.25  6.4   7.05  5.9  ]\n"
     ]
    }
   ],
   "source": [
    "print(numpy.mean(data, axis=1))\n",
    "# averaging an entire dataset based on the columns "
   ]
  },
  {
   "cell_type": "markdown",
   "id": "6c1880ba",
   "metadata": {},
   "source": [
    "**Slicing Strings**"
   ]
  },
  {
   "cell_type": "code",
   "execution_count": 40,
   "id": "4af644f0",
   "metadata": {},
   "outputs": [
    {
     "name": "stdout",
     "output_type": "stream",
     "text": [
      "first three characters: oxy\n",
      "last three characters: gen\n"
     ]
    }
   ],
   "source": [
    "element = 'oxygen'\n",
    "print('first three characters:', element[0:3])\n",
    "print('last three characters:', element[3:6])"
   ]
  },
  {
   "cell_type": "markdown",
   "id": "99cc7a91",
   "metadata": {},
   "source": [
    "What is element[-1]? What is element[-2]?"
   ]
  },
  {
   "cell_type": "code",
   "execution_count": 41,
   "id": "2d572fd2",
   "metadata": {},
   "outputs": [
    {
     "name": "stdout",
     "output_type": "stream",
     "text": [
      "n\n",
      "e\n"
     ]
    }
   ],
   "source": [
    "print(element[-1])\n",
    "print(element[-2])"
   ]
  },
  {
   "cell_type": "markdown",
   "id": "1d91f067",
   "metadata": {},
   "source": [
    "Given those answers, explain what element[1:-1] does."
   ]
  },
  {
   "cell_type": "code",
   "execution_count": 42,
   "id": "cc4a075e",
   "metadata": {},
   "outputs": [
    {
     "data": {
      "text/plain": [
       "'xyge'"
      ]
     },
     "execution_count": 42,
     "metadata": {},
     "output_type": "execute_result"
    }
   ],
   "source": [
    "element[1:-1]\n",
    "# this will give the index 1 up to not including the final index "
   ]
  },
  {
   "cell_type": "markdown",
   "id": "7e20d18e",
   "metadata": {},
   "source": [
    "How can we rewrite the slice for getting the last three characters of element, so that it works even if we assign a different string to element? Test your solution with the following strings: carpentry, clone, hi."
   ]
  },
  {
   "cell_type": "code",
   "execution_count": 43,
   "id": "2831ee18",
   "metadata": {},
   "outputs": [
    {
     "name": "stdout",
     "output_type": "stream",
     "text": [
      "last three characters: gen\n",
      "last three characters: try\n",
      "last three characters: one\n",
      "last three characters: hi\n"
     ]
    }
   ],
   "source": [
    "element = 'oxygen'\n",
    "print('last three characters:', element[-3:])\n",
    "element = 'carpentry'\n",
    "print('last three characters:', element[-3:])\n",
    "element = 'clone'\n",
    "print('last three characters:', element[-3:])\n",
    "element = 'hi'\n",
    "print('last three characters:', element[-3:])"
   ]
  },
  {
   "cell_type": "markdown",
   "id": "b5c2bd32",
   "metadata": {},
   "source": [
    "The expression element[3:3] produces an empty string, i.e., a string that contains no characters. If data holds our array of patient data, what does data[3:3, 4:4] produce? What about data[3:3, :]?"
   ]
  },
  {
   "cell_type": "markdown",
   "id": "7d3e34d6",
   "metadata": {},
   "source": [
    "**Thin Slices**"
   ]
  },
  {
   "cell_type": "code",
   "execution_count": 44,
   "id": "b47c339c",
   "metadata": {},
   "outputs": [
    {
     "data": {
      "text/plain": [
       "array([], shape=(0, 40), dtype=float64)"
      ]
     },
     "execution_count": 44,
     "metadata": {},
     "output_type": "execute_result"
    }
   ],
   "source": [
    "data[3:3, 4:4]\n",
    "data[3:3, :]"
   ]
  },
  {
   "cell_type": "markdown",
   "id": "2d7a1563",
   "metadata": {},
   "source": [
    "**Stacking Arrays**"
   ]
  },
  {
   "cell_type": "code",
   "execution_count": 47,
   "id": "dbb0dde6",
   "metadata": {},
   "outputs": [
    {
     "name": "stdout",
     "output_type": "stream",
     "text": [
      "A = \n",
      "[[1 2 3]\n",
      " [4 5 6]\n",
      " [7 8 9]]\n",
      "B = \n",
      "[[1 2 3 1 2 3]\n",
      " [4 5 6 4 5 6]\n",
      " [7 8 9 7 8 9]]\n",
      "C = \n",
      "[[1 2 3]\n",
      " [4 5 6]\n",
      " [7 8 9]\n",
      " [1 2 3]\n",
      " [4 5 6]\n",
      " [7 8 9]]\n"
     ]
    }
   ],
   "source": [
    "import numpy\n",
    "\n",
    "A = numpy.array([[1,2,3], [4,5,6], [7, 8, 9]])\n",
    "print('A = ')\n",
    "print(A)\n",
    "\n",
    "B = numpy.hstack([A, A])\n",
    "print('B = ')\n",
    "print(B)\n",
    "\n",
    "C = numpy.vstack([A, A])\n",
    "print('C = ')\n",
    "print(C)"
   ]
  },
  {
   "cell_type": "markdown",
   "id": "07b88da6",
   "metadata": {},
   "source": [
    "Write some additional code that slices the first and last columns of A, and stacks them into a 3x2 array. Make sure to print the results to verify your solution."
   ]
  },
  {
   "cell_type": "code",
   "execution_count": 48,
   "id": "7473dd13",
   "metadata": {},
   "outputs": [
    {
     "name": "stdout",
     "output_type": "stream",
     "text": [
      "D = \n",
      "[[1 3]\n",
      " [4 6]\n",
      " [7 9]]\n"
     ]
    }
   ],
   "source": [
    "D = numpy.hstack((A[:, :1], A[:, -1:]))\n",
    "print('D = ')\n",
    "print(D)"
   ]
  },
  {
   "cell_type": "code",
   "execution_count": 49,
   "id": "15c0005f",
   "metadata": {},
   "outputs": [
    {
     "name": "stdout",
     "output_type": "stream",
     "text": [
      "D = \n",
      "[[1 3]\n",
      " [4 6]\n",
      " [7 9]]\n"
     ]
    }
   ],
   "source": [
    "D = numpy.delete(arr=A, obj=1, axis=1)\n",
    "print('D = ')\n",
    "print(D)"
   ]
  },
  {
   "cell_type": "markdown",
   "id": "57259883",
   "metadata": {},
   "source": [
    "**Change in Inflammation**"
   ]
  },
  {
   "cell_type": "code",
   "execution_count": 50,
   "id": "e6a27a20",
   "metadata": {},
   "outputs": [
    {
     "name": "stdout",
     "output_type": "stream",
     "text": [
      "[0. 0. 2. 0. 4. 2. 2.]\n"
     ]
    }
   ],
   "source": [
    "patient3_week1 = data[3, :7]\n",
    "print(patient3_week1)"
   ]
  },
  {
   "cell_type": "code",
   "execution_count": 51,
   "id": "9b3dd8cc",
   "metadata": {},
   "outputs": [
    {
     "data": {
      "text/plain": [
       "array([ 0.,  2., -2.,  4., -2.,  0.])"
      ]
     },
     "execution_count": 51,
     "metadata": {},
     "output_type": "execute_result"
    }
   ],
   "source": [
    "numpy.diff(patient3_week1)"
   ]
  },
  {
   "cell_type": "markdown",
   "id": "48cfa5e6",
   "metadata": {},
   "source": [
    "When calling numpy.diff with a multi-dimensional array, an axis argument may be passed to the function to specify which axis to process. When applying numpy.diff to our 2D inflammation array data, which axis would we specify?"
   ]
  },
  {
   "cell_type": "code",
   "execution_count": 52,
   "id": "44a43633",
   "metadata": {},
   "outputs": [
    {
     "data": {
      "text/plain": [
       "array([[ 0.,  1.,  2., ...,  1., -3.,  0.],\n",
       "       [ 1.,  1., -1., ...,  0., -1.,  1.],\n",
       "       [ 1.,  0.,  2., ...,  0., -1.,  0.],\n",
       "       ...,\n",
       "       [ 1.,  0.,  0., ..., -1.,  0.,  0.],\n",
       "       [ 0.,  0.,  1., ..., -2.,  2., -2.],\n",
       "       [ 0.,  1., -1., ..., -2.,  0., -1.]])"
      ]
     },
     "execution_count": 52,
     "metadata": {},
     "output_type": "execute_result"
    }
   ],
   "source": [
    "numpy.diff(data, axis=1) # Since the row axis (0) is patients, it does not make sense to get the difference between two arbitrary patients. The column axis (1) is in days, so the difference is the change in inflammation – a meaningful concept."
   ]
  },
  {
   "cell_type": "markdown",
   "id": "68b684ea",
   "metadata": {},
   "source": [
    "If the shape of an individual data file is (60, 40) (60 rows and 40 columns), what would the shape of the array be after you run the diff() function and why?"
   ]
  },
  {
   "cell_type": "markdown",
   "id": "f7b8bd77",
   "metadata": {},
   "source": [
    "The shape will be (60, 39) because there is one fewer difference between columns than there are columns in the data."
   ]
  },
  {
   "cell_type": "markdown",
   "id": "265f479d",
   "metadata": {},
   "source": [
    "How would you find the largest change in inflammation for each patient? Does it matter if the change in inflammation is an increase or a decrease?"
   ]
  },
  {
   "cell_type": "code",
   "execution_count": 53,
   "id": "edcf32a5",
   "metadata": {},
   "outputs": [
    {
     "data": {
      "text/plain": [
       "array([12., 14., 11., 13., 11., 13., 10., 12., 10., 10., 10., 12., 13.,\n",
       "       10., 11., 10., 12., 13.,  9., 10., 13.,  9., 12.,  9., 12., 11.,\n",
       "       10., 13.,  9., 13., 11., 11.,  8., 11., 12., 13.,  9., 10., 13.,\n",
       "       11., 11., 13., 11., 13., 13., 10.,  9., 10., 10.,  9.,  9., 13.,\n",
       "       10.,  9., 10., 11., 13., 10., 10., 12.])"
      ]
     },
     "execution_count": 53,
     "metadata": {},
     "output_type": "execute_result"
    }
   ],
   "source": [
    "numpy.amax(numpy.diff(data, axis=1), axis=1)\n",
    "\n",
    "numpy.amax(numpy.absolute(numpy.diff(data, axis=1)), axis=1) # if looking for largest change in magnitude"
   ]
  },
  {
   "cell_type": "markdown",
   "id": "a175b738",
   "metadata": {},
   "source": [
    "# Visualizing data"
   ]
  },
  {
   "cell_type": "code",
   "execution_count": 54,
   "id": "ca062d46",
   "metadata": {},
   "outputs": [
    {
     "data": {
      "image/png": "[encoded data removed]",
      "text/plain": [
       "<Figure size 432x288 with 1 Axes>"
      ]
     },
     "metadata": {
      "needs_background": "light"
     },
     "output_type": "display_data"
    }
   ],
   "source": [
    "import matplotlib.pyplot\n",
    "image = matplotlib.pyplot.imshow(data)\n",
    "matplotlib.pyplot.show()\n",
    "\n",
    "# blue pixels represent low values \n",
    "# yellow pixels represent high values\n",
    "\n",
    "# The heat map shows the general number of inflammation flare-ups for the patient rises and falls over a 40-day period. "
   ]
  },
  {
   "cell_type": "code",
   "execution_count": 55,
   "id": "dac5e4d7",
   "metadata": {},
   "outputs": [
    {
     "data": {
      "image/png": "[encoded data removed]",
      "text/plain": [
       "<Figure size 432x288 with 1 Axes>"
      ]
     },
     "metadata": {
      "needs_background": "light"
     },
     "output_type": "display_data"
    }
   ],
   "source": [
    "ave_inflammation = numpy.mean(data, axis=0)\n",
    "ave_plot = matplotlib.pyplot.plot(ave_inflammation)\n",
    "matplotlib.pyplot.show()"
   ]
  },
  {
   "cell_type": "code",
   "execution_count": 56,
   "id": "c4db4e7d",
   "metadata": {},
   "outputs": [
    {
     "data": {
      "image/png": "[encoded data removed]",
      "text/plain": [
       "<Figure size 432x288 with 1 Axes>"
      ]
     },
     "metadata": {
      "needs_background": "light"
     },
     "output_type": "display_data"
    }
   ],
   "source": [
    "max_plot = matplotlib.pyplot.plot(numpy.amax(data, axis=0))\n",
    "matplotlib.pyplot.show()"
   ]
  },
  {
   "cell_type": "code",
   "execution_count": 57,
   "id": "c2432e87",
   "metadata": {},
   "outputs": [
    {
     "data": {
      "image/png": "[encoded data removed]",
      "text/plain": [
       "<Figure size 432x288 with 1 Axes>"
      ]
     },
     "metadata": {
      "needs_background": "light"
     },
     "output_type": "display_data"
    }
   ],
   "source": [
    "min_plot = matplotlib.pyplot.plot(numpy.amin(data, axis=0))\n",
    "matplotlib.pyplot.show()"
   ]
  },
  {
   "cell_type": "markdown",
   "id": "77ea657d",
   "metadata": {},
   "source": [
    "**Grouping plots**"
   ]
  },
  {
   "cell_type": "code",
   "execution_count": 58,
   "id": "4302a517",
   "metadata": {},
   "outputs": [
    {
     "data": {
      "image/png": "[encoded data removed]",
      "text/plain": [
       "<Figure size 720x216 with 3 Axes>"
      ]
     },
     "metadata": {
      "needs_background": "light"
     },
     "output_type": "display_data"
    }
   ],
   "source": [
    "import numpy\n",
    "import matplotlib.pyplot\n",
    "\n",
    "data = numpy.loadtxt(fname='inflammation-01.csv', delimiter=',')\n",
    "\n",
    "fig = matplotlib.pyplot.figure(figsize=(10.0, 3.0))\n",
    "\n",
    "axes1 = fig.add_subplot(1, 3, 1)\n",
    "axes2 = fig.add_subplot(1, 3, 2)\n",
    "axes3 = fig.add_subplot(1, 3, 3)\n",
    "\n",
    "axes1.set_ylabel('average')\n",
    "axes1.plot(numpy.mean(data, axis=0))\n",
    "\n",
    "axes2.set_ylabel('max')\n",
    "axes2.plot(numpy.amax(data, axis=0))\n",
    "\n",
    "axes3.set_ylabel('min')\n",
    "axes3.plot(numpy.amin(data, axis=0))\n",
    "\n",
    "fig.tight_layout()\n",
    "\n",
    "matplotlib.pyplot.savefig('inflammation.png')\n",
    "matplotlib.pyplot.show()"
   ]
  },
  {
   "cell_type": "markdown",
   "id": "1442a8c9",
   "metadata": {},
   "source": [
    "**Plot Scaling**"
   ]
  },
  {
   "cell_type": "markdown",
   "id": "4ab73123",
   "metadata": {},
   "source": [
    "Why do all of our plots stop just short of the upper end of our graph? "
   ]
  },
  {
   "cell_type": "markdown",
   "id": "780d481e",
   "metadata": {},
   "source": [
    "Because matplotlib normally sets x and y axes limits to the min and max of our data (depending on data range)"
   ]
  },
  {
   "cell_type": "code",
   "execution_count": 59,
   "id": "9343ab16",
   "metadata": {},
   "outputs": [
    {
     "data": {
      "text/plain": [
       "(0.0, 6.0)"
      ]
     },
     "execution_count": 59,
     "metadata": {},
     "output_type": "execute_result"
    }
   ],
   "source": [
    "axes3.set_ylim(0,6) # if we want to change the scale of the plot"
   ]
  },
  {
   "cell_type": "code",
   "execution_count": 60,
   "id": "e4a58ec2",
   "metadata": {},
   "outputs": [
    {
     "data": {
      "text/plain": [
       "(0.0, 5.5)"
      ]
     },
     "execution_count": 60,
     "metadata": {},
     "output_type": "execute_result"
    }
   ],
   "source": [
    "# One method\n",
    "axes3.set_ylabel('min')\n",
    "axes3.plot(numpy.amin(data, axis=0))\n",
    "axes3.set_ylim(0,6)\n",
    "# A more automated approach\n",
    "min_data = numpy.amin(data, axis=0)\n",
    "axes3.set_ylabel('min')\n",
    "axes3.plot(min_data)\n",
    "axes3.set_ylim(numpy.amin(min_data), numpy.amax(min_data) * 1.1)"
   ]
  },
  {
   "cell_type": "markdown",
   "id": "dcd82dbb",
   "metadata": {},
   "source": [
    "**Drawing Straight Lines**"
   ]
  },
  {
   "cell_type": "markdown",
   "id": "36103b98",
   "metadata": {},
   "source": [
    "In the center and right subplots above, we expect all lines to look like step functions because non-integer value are not realistic for the minimum and maximum values. However, you can see that the lines are not always vertical or horizontal, and in particular the step function in the subplot on the right looks slanted. Why is this?"
   ]
  },
  {
   "cell_type": "markdown",
   "id": "88f0e42f",
   "metadata": {},
   "source": [
    "Because matplotlib interpolates (draws a straight line) between the points. One way to do avoid this is to use the Matplotlib drawstyle option:"
   ]
  },
  {
   "cell_type": "code",
   "execution_count": 61,
   "id": "1520cccd",
   "metadata": {},
   "outputs": [
    {
     "data": {
      "image/png": "[encoded data removed]",
      "text/plain": [
       "<Figure size 720x216 with 3 Axes>"
      ]
     },
     "metadata": {
      "needs_background": "light"
     },
     "output_type": "display_data"
    }
   ],
   "source": [
    "import numpy\n",
    "import matplotlib.pyplot\n",
    "\n",
    "data = numpy.loadtxt(fname='inflammation-01.csv', delimiter=',')\n",
    "\n",
    "fig = matplotlib.pyplot.figure(figsize=(10.0, 3.0))\n",
    "\n",
    "axes1 = fig.add_subplot(1, 3, 1)\n",
    "axes2 = fig.add_subplot(1, 3, 2)\n",
    "axes3 = fig.add_subplot(1, 3, 3)\n",
    "\n",
    "axes1.set_ylabel('average')\n",
    "axes1.plot(numpy.mean(data, axis=0), drawstyle='steps-mid')\n",
    "\n",
    "axes2.set_ylabel('max')\n",
    "axes2.plot(numpy.amax(data, axis=0), drawstyle='steps-mid')\n",
    "\n",
    "axes3.set_ylabel('min')\n",
    "axes3.plot(numpy.amin(data, axis=0), drawstyle='steps-mid')\n",
    "\n",
    "fig.tight_layout()\n",
    "\n",
    "matplotlib.pyplot.show()"
   ]
  },
  {
   "cell_type": "markdown",
   "id": "0dce241b",
   "metadata": {},
   "source": [
    "**Make Your Own Plot**"
   ]
  },
  {
   "cell_type": "markdown",
   "id": "1637fb3c",
   "metadata": {},
   "source": [
    "Create a plot showing the standard deviation (numpy.std) of the inflammation data for each day across all patients."
   ]
  },
  {
   "cell_type": "code",
   "execution_count": 62,
   "id": "7705ebb1",
   "metadata": {},
   "outputs": [
    {
     "data": {
      "image/png": "[encoded data removed]",
      "text/plain": [
       "<Figure size 432x288 with 1 Axes>"
      ]
     },
     "metadata": {
      "needs_background": "light"
     },
     "output_type": "display_data"
    }
   ],
   "source": [
    "std_plot = matplotlib.pyplot.plot(numpy.std(data, axis=0))\n",
    "matplotlib.pyplot.show()"
   ]
  },
  {
   "cell_type": "markdown",
   "id": "8c965281",
   "metadata": {},
   "source": [
    "**Moving Plots Around**"
   ]
  },
  {
   "cell_type": "markdown",
   "id": "6e3611b9",
   "metadata": {},
   "source": [
    "Modify the program to display the three plots on top of one another instead of side by side."
   ]
  },
  {
   "cell_type": "code",
   "execution_count": 63,
   "id": "95d311f6",
   "metadata": {},
   "outputs": [
    {
     "data": {
      "image/png": "[encoded data removed]",
      "text/plain": [
       "<Figure size 216x720 with 3 Axes>"
      ]
     },
     "metadata": {
      "needs_background": "light"
     },
     "output_type": "display_data"
    }
   ],
   "source": [
    "import numpy\n",
    "import matplotlib.pyplot\n",
    "\n",
    "data = numpy.loadtxt(fname='inflammation-01.csv', delimiter=',')\n",
    "\n",
    "# change figsize (swap width and height)\n",
    "fig = matplotlib.pyplot.figure(figsize=(3.0, 10.0))\n",
    "\n",
    "# change add_subplot (swap first two parameters)\n",
    "axes1 = fig.add_subplot(3, 1, 1)\n",
    "axes2 = fig.add_subplot(3, 1, 2)\n",
    "axes3 = fig.add_subplot(3, 1, 3)\n",
    "\n",
    "axes1.set_ylabel('average')\n",
    "axes1.plot(numpy.mean(data, axis=0))\n",
    "\n",
    "axes2.set_ylabel('max')\n",
    "axes2.plot(numpy.amax(data, axis=0))\n",
    "\n",
    "axes3.set_ylabel('min')\n",
    "axes3.plot(numpy.amin(data, axis=0))\n",
    "\n",
    "fig.tight_layout()\n",
    "\n",
    "matplotlib.pyplot.show()"
   ]
  },
  {
   "cell_type": "markdown",
   "id": "ba2f6393",
   "metadata": {},
   "source": [
    "# Storing Multiple Values in Lists"
   ]
  },
  {
   "cell_type": "markdown",
   "id": "1c103173",
   "metadata": {},
   "source": [
    "**Python Lists**"
   ]
  },
  {
   "cell_type": "code",
   "execution_count": 64,
   "id": "cb7493bb",
   "metadata": {},
   "outputs": [
    {
     "name": "stdout",
     "output_type": "stream",
     "text": [
      "odds are: [1, 3, 5, 7]\n"
     ]
    }
   ],
   "source": [
    "odds = [1, 3, 5, 7]\n",
    "print('odds are:', odds)"
   ]
  },
  {
   "cell_type": "code",
   "execution_count": 65,
   "id": "5b04ccd7",
   "metadata": {},
   "outputs": [
    {
     "name": "stdout",
     "output_type": "stream",
     "text": [
      "first element: 1\n",
      "last element: 7\n",
      "\"-1\" element: 7\n"
     ]
    }
   ],
   "source": [
    "print('first element:', odds[0])\n",
    "print('last element:', odds[3])\n",
    "print('\"-1\" element:', odds[-1])"
   ]
  },
  {
   "cell_type": "code",
   "execution_count": 66,
   "id": "d4307729",
   "metadata": {},
   "outputs": [
    {
     "name": "stdout",
     "output_type": "stream",
     "text": [
      "names is originally: ['Curie', 'Darwing', 'Turing']\n",
      "final value of names: ['Curie', 'Darwin', 'Turing']\n"
     ]
    }
   ],
   "source": [
    "names = ['Curie', 'Darwing', 'Turing']  # typo in Darwin's name\n",
    "print('names is originally:', names)\n",
    "names[1] = 'Darwin'  # correct the name\n",
    "print('final value of names:', names)"
   ]
  },
  {
   "cell_type": "code",
   "execution_count": 67,
   "id": "9ce9363d",
   "metadata": {},
   "outputs": [
    {
     "ename": "TypeError",
     "evalue": "'str' object does not support item assignment",
     "output_type": "error",
     "traceback": [
      "\u001b[0;31m---------------------------------------------------------------------------\u001b[0m",
      "\u001b[0;31mTypeError\u001b[0m                                 Traceback (most recent call last)",
      "Input \u001b[0;32mIn [67]\u001b[0m, in \u001b[0;36m<cell line: 2>\u001b[0;34m()\u001b[0m\n\u001b[1;32m      1\u001b[0m name \u001b[38;5;241m=\u001b[39m \u001b[38;5;124m'\u001b[39m\u001b[38;5;124mDarwin\u001b[39m\u001b[38;5;124m'\u001b[39m\n\u001b[0;32m----> 2\u001b[0m name[\u001b[38;5;241m0\u001b[39m] \u001b[38;5;241m=\u001b[39m \u001b[38;5;124m'\u001b[39m\u001b[38;5;124md\u001b[39m\u001b[38;5;124m'\u001b[39m\n",
      "\u001b[0;31mTypeError\u001b[0m: 'str' object does not support item assignment"
     ]
    }
   ],
   "source": [
    "name = 'Darwin'\n",
    "name[0] = 'd'"
   ]
  },
  {
   "cell_type": "markdown",
   "id": "8f040afe",
   "metadata": {},
   "source": [
    "Strings and numbers are immutable \n",
    "Lists and arrays are mutable "
   ]
  },
  {
   "cell_type": "code",
   "execution_count": 68,
   "id": "e5e5970f",
   "metadata": {},
   "outputs": [
    {
     "name": "stdout",
     "output_type": "stream",
     "text": [
      "Ingredients in mild salsa: ['hot peppers', 'onions', 'cilantro', 'tomatoes']\n",
      "Ingredients in hot salsa: ['hot peppers', 'onions', 'cilantro', 'tomatoes']\n"
     ]
    }
   ],
   "source": [
    "mild_salsa = ['peppers', 'onions', 'cilantro', 'tomatoes']\n",
    "hot_salsa = mild_salsa        # <-- mild_salsa and hot_salsa point to the *same* list data in memory\n",
    "hot_salsa[0] = 'hot peppers'\n",
    "print('Ingredients in mild salsa:', mild_salsa)\n",
    "print('Ingredients in hot salsa:', hot_salsa)"
   ]
  },
  {
   "cell_type": "code",
   "execution_count": 69,
   "id": "0e68c4f1",
   "metadata": {},
   "outputs": [
    {
     "name": "stdout",
     "output_type": "stream",
     "text": [
      "Ingredients in mild salsa: ['peppers', 'onions', 'cilantro', 'tomatoes']\n",
      "Ingredients in hot salsa: ['hot peppers', 'onions', 'cilantro', 'tomatoes']\n"
     ]
    }
   ],
   "source": [
    "mild_salsa = ['peppers', 'onions', 'cilantro', 'tomatoes']\n",
    "hot_salsa = list(mild_salsa)        # <-- makes a *copy* of the list\n",
    "hot_salsa[0] = 'hot peppers'\n",
    "print('Ingredients in mild salsa:', mild_salsa)\n",
    "print('Ingredients in hot salsa:', hot_salsa)"
   ]
  },
  {
   "cell_type": "markdown",
   "id": "d73132a6",
   "metadata": {},
   "source": [
    "**Nested Lists**"
   ]
  },
  {
   "cell_type": "code",
   "execution_count": 70,
   "id": "faa977c3",
   "metadata": {},
   "outputs": [],
   "source": [
    "veg = [['lettuce', 'lettuce', 'peppers', 'zucchini'],\n",
    "     ['lettuce', 'lettuce', 'peppers', 'zucchini'],\n",
    "     ['lettuce', 'cilantro', 'peppers', 'zucchini']]"
   ]
  },
  {
   "cell_type": "code",
   "execution_count": 71,
   "id": "3895763b",
   "metadata": {},
   "outputs": [
    {
     "name": "stdout",
     "output_type": "stream",
     "text": [
      "['lettuce', 'cilantro', 'peppers', 'zucchini']\n"
     ]
    }
   ],
   "source": [
    "print(veg[2])"
   ]
  },
  {
   "cell_type": "code",
   "execution_count": 72,
   "id": "7f40662f",
   "metadata": {},
   "outputs": [
    {
     "name": "stdout",
     "output_type": "stream",
     "text": [
      "['lettuce', 'lettuce', 'peppers', 'zucchini']\n"
     ]
    }
   ],
   "source": [
    "print(veg[0])"
   ]
  },
  {
   "cell_type": "code",
   "execution_count": 73,
   "id": "6200fd1b",
   "metadata": {},
   "outputs": [
    {
     "name": "stdout",
     "output_type": "stream",
     "text": [
      "lettuce\n"
     ]
    }
   ],
   "source": [
    "print(veg[0][0])"
   ]
  },
  {
   "cell_type": "code",
   "execution_count": 74,
   "id": "9b996f13",
   "metadata": {},
   "outputs": [
    {
     "name": "stdout",
     "output_type": "stream",
     "text": [
      "peppers\n"
     ]
    }
   ],
   "source": [
    "print(veg[1][2])"
   ]
  },
  {
   "cell_type": "markdown",
   "id": "beadf925",
   "metadata": {},
   "source": [
    "**Heterogenous Lists**"
   ]
  },
  {
   "cell_type": "code",
   "execution_count": 75,
   "id": "093dffff",
   "metadata": {},
   "outputs": [],
   "source": [
    "sample_ages = [10, 12.5, 'Unknown']"
   ]
  },
  {
   "cell_type": "code",
   "execution_count": 76,
   "id": "2b105b42",
   "metadata": {},
   "outputs": [
    {
     "name": "stdout",
     "output_type": "stream",
     "text": [
      "odds after adding a value: [1, 3, 5, 7, 11]\n"
     ]
    }
   ],
   "source": [
    "odds.append(11)\n",
    "print('odds after adding a value:', odds)"
   ]
  },
  {
   "cell_type": "code",
   "execution_count": 77,
   "id": "e4cf2d38",
   "metadata": {},
   "outputs": [
    {
     "name": "stdout",
     "output_type": "stream",
     "text": [
      "odds after removing the first element: [3, 5, 7, 11]\n",
      "removed_element: 1\n"
     ]
    }
   ],
   "source": [
    "removed_element = odds.pop(0)\n",
    "print('odds after removing the first element:', odds)\n",
    "print('removed_element:', removed_element)"
   ]
  },
  {
   "cell_type": "code",
   "execution_count": 78,
   "id": "05d80c65",
   "metadata": {},
   "outputs": [
    {
     "name": "stdout",
     "output_type": "stream",
     "text": [
      "odds after reversing: [11, 7, 5, 3]\n"
     ]
    }
   ],
   "source": [
    "odds.reverse()\n",
    "print('odds after reversing:', odds)"
   ]
  },
  {
   "cell_type": "code",
   "execution_count": 79,
   "id": "eb2c6395",
   "metadata": {},
   "outputs": [
    {
     "name": "stdout",
     "output_type": "stream",
     "text": [
      "primes: [3, 5, 7, 2]\n",
      "odds: [3, 5, 7, 2]\n"
     ]
    }
   ],
   "source": [
    "odds = [3, 5, 7]\n",
    "primes = odds\n",
    "primes.append(2)\n",
    "print('primes:', primes)\n",
    "print('odds:', odds)"
   ]
  },
  {
   "cell_type": "code",
   "execution_count": 80,
   "id": "7df320c9",
   "metadata": {},
   "outputs": [
    {
     "name": "stdout",
     "output_type": "stream",
     "text": [
      "primes: [3, 5, 7, 2]\n",
      "odds: [3, 5, 7]\n"
     ]
    }
   ],
   "source": [
    "odds = [3, 5, 7]\n",
    "primes = list(odds)\n",
    "primes.append(2)\n",
    "print('primes:', primes)\n",
    "print('odds:', odds)"
   ]
  },
  {
   "cell_type": "code",
   "execution_count": 81,
   "id": "15c739ee",
   "metadata": {},
   "outputs": [
    {
     "name": "stdout",
     "output_type": "stream",
     "text": [
      "group: Drosophila\n",
      "species: melanogaster\n",
      "autosomes: ['2', '3', '4']\n",
      "last: 4\n"
     ]
    }
   ],
   "source": [
    "binomial_name = 'Drosophila melanogaster'\n",
    "group = binomial_name[0:10]\n",
    "print('group:', group)\n",
    "\n",
    "species = binomial_name[11:23]\n",
    "print('species:', species)\n",
    "\n",
    "chromosomes = ['X', 'Y', '2', '3', '4']\n",
    "autosomes = chromosomes[2:5]\n",
    "print('autosomes:', autosomes)\n",
    "\n",
    "last = chromosomes[-1]\n",
    "print('last:', last)"
   ]
  },
  {
   "cell_type": "markdown",
   "id": "9192dbac",
   "metadata": {},
   "source": [
    "**Slicing From the End**"
   ]
  },
  {
   "cell_type": "markdown",
   "id": "46bc26a2",
   "metadata": {},
   "source": [
    "Use slicing to access only the last four characters of a string or entries of a list."
   ]
  },
  {
   "cell_type": "code",
   "execution_count": 82,
   "id": "3915db5f",
   "metadata": {},
   "outputs": [
    {
     "name": "stdout",
     "output_type": "stream",
     "text": [
      "2013\n",
      "[['chlorine', 'Cl'], ['bromine', 'Br'], ['iodine', 'I'], ['astatine', 'At']]\n"
     ]
    }
   ],
   "source": [
    "string_for_slicing = 'Observation date: 02-Feb-2013'\n",
    "list_for_slicing = [['fluorine', 'F'],\n",
    "                    ['chlorine', 'Cl'],\n",
    "                    ['bromine', 'Br'],\n",
    "                    ['iodine', 'I'],\n",
    "                    ['astatine', 'At']]\n",
    "\n",
    "print(string_for_slicing[-4:])\n",
    "print(list_for_slicing[-4:])"
   ]
  },
  {
   "cell_type": "markdown",
   "id": "e06bf4d7",
   "metadata": {},
   "source": [
    "**Non-Continous Slices**"
   ]
  },
  {
   "cell_type": "code",
   "execution_count": 83,
   "id": "81d699e2",
   "metadata": {},
   "outputs": [
    {
     "name": "stdout",
     "output_type": "stream",
     "text": [
      "subset [2, 7, 17, 29]\n"
     ]
    }
   ],
   "source": [
    "primes = [2, 3, 5, 7, 11, 13, 17, 19, 23, 29, 31, 37]\n",
    "subset = primes[0:12:3] # last number is the step size, so taking every 3 \n",
    "print('subset', subset)"
   ]
  },
  {
   "cell_type": "code",
   "execution_count": 84,
   "id": "6cd947ef",
   "metadata": {},
   "outputs": [
    {
     "name": "stdout",
     "output_type": "stream",
     "text": [
      "subset [5, 13, 23, 37]\n"
     ]
    }
   ],
   "source": [
    "primes = [2, 3, 5, 7, 11, 13, 17, 19, 23, 29, 31, 37]\n",
    "subset = primes[2:12:3]\n",
    "print('subset', subset)"
   ]
  },
  {
   "cell_type": "code",
   "execution_count": 85,
   "id": "fd24451d",
   "metadata": {},
   "outputs": [],
   "source": [
    "beatles = \"In an octopus's garden in the shade\""
   ]
  },
  {
   "cell_type": "markdown",
   "id": "b2295c10",
   "metadata": {},
   "source": [
    "What slice of beatles will produce the following output (i.e., the first character, third character, and every other character through the end of the string)?"
   ]
  },
  {
   "cell_type": "code",
   "execution_count": 86,
   "id": "887b7655",
   "metadata": {},
   "outputs": [
    {
     "data": {
      "text/plain": [
       "'I notpssgre ntesae'"
      ]
     },
     "execution_count": 86,
     "metadata": {},
     "output_type": "execute_result"
    }
   ],
   "source": [
    "beatles[0::2]"
   ]
  },
  {
   "cell_type": "code",
   "execution_count": 87,
   "id": "b671cc82",
   "metadata": {},
   "outputs": [
    {
     "name": "stdout",
     "output_type": "stream",
     "text": [
      "Using 0 to begin range: Monday\n",
      "Omitting beginning index: Monday\n"
     ]
    }
   ],
   "source": [
    "date = 'Monday 4 January 2016'\n",
    "day = date[0:6]\n",
    "print('Using 0 to begin range:', day)\n",
    "day = date[:6]\n",
    "print('Omitting beginning index:', day)"
   ]
  },
  {
   "cell_type": "code",
   "execution_count": 88,
   "id": "37d66ace",
   "metadata": {},
   "outputs": [
    {
     "name": "stdout",
     "output_type": "stream",
     "text": [
      "With known last position: ['sep', 'oct', 'nov', 'dec']\n",
      "Using len() to get last entry: ['sep', 'oct', 'nov', 'dec']\n",
      "Omitting ending index: ['sep', 'oct', 'nov', 'dec']\n"
     ]
    }
   ],
   "source": [
    "months = ['jan', 'feb', 'mar', 'apr', 'may', 'jun', 'jul', 'aug', 'sep', 'oct', 'nov', 'dec']\n",
    "sond = months[8:12]\n",
    "print('With known last position:', sond)\n",
    "sond = months[8:len(months)]\n",
    "print('Using len() to get last entry:', sond)\n",
    "sond = months[8:]\n",
    "print('Omitting ending index:', sond)"
   ]
  },
  {
   "cell_type": "markdown",
   "id": "041be158",
   "metadata": {},
   "source": [
    "**Overloading**"
   ]
  },
  {
   "cell_type": "code",
   "execution_count": 89,
   "id": "1145cdda",
   "metadata": {},
   "outputs": [
    {
     "name": "stdout",
     "output_type": "stream",
     "text": [
      "[2, 4, 6, 8, 10, 2, 4, 6, 8, 10]\n"
     ]
    }
   ],
   "source": [
    "counts = [2, 4, 6, 8, 10]\n",
    "repeats = counts * 2\n",
    "print(repeats)"
   ]
  },
  {
   "cell_type": "markdown",
   "id": "f886d3e7",
   "metadata": {},
   "source": [
    "# Repeating Actions with Loops"
   ]
  },
  {
   "cell_type": "code",
   "execution_count": 90,
   "id": "42803246",
   "metadata": {},
   "outputs": [],
   "source": [
    "odds = [1, 3, 5, 7]"
   ]
  },
  {
   "cell_type": "code",
   "execution_count": 91,
   "id": "592594dc",
   "metadata": {},
   "outputs": [
    {
     "name": "stdout",
     "output_type": "stream",
     "text": [
      "1\n",
      "3\n",
      "5\n",
      "7\n"
     ]
    }
   ],
   "source": [
    "print(odds[0])\n",
    "print(odds[1])\n",
    "print(odds[2])\n",
    "print(odds[3])"
   ]
  },
  {
   "cell_type": "code",
   "execution_count": 92,
   "id": "6aa72b54",
   "metadata": {},
   "outputs": [
    {
     "name": "stdout",
     "output_type": "stream",
     "text": [
      "1\n",
      "3\n",
      "5\n"
     ]
    },
    {
     "ename": "IndexError",
     "evalue": "list index out of range",
     "output_type": "error",
     "traceback": [
      "\u001b[0;31m---------------------------------------------------------------------------\u001b[0m",
      "\u001b[0;31mIndexError\u001b[0m                                Traceback (most recent call last)",
      "Input \u001b[0;32mIn [92]\u001b[0m, in \u001b[0;36m<cell line: 5>\u001b[0;34m()\u001b[0m\n\u001b[1;32m      3\u001b[0m \u001b[38;5;28mprint\u001b[39m(odds[\u001b[38;5;241m1\u001b[39m])\n\u001b[1;32m      4\u001b[0m \u001b[38;5;28mprint\u001b[39m(odds[\u001b[38;5;241m2\u001b[39m])\n\u001b[0;32m----> 5\u001b[0m \u001b[38;5;28mprint\u001b[39m(\u001b[43modds\u001b[49m\u001b[43m[\u001b[49m\u001b[38;5;241;43m3\u001b[39;49m\u001b[43m]\u001b[49m)\n",
      "\u001b[0;31mIndexError\u001b[0m: list index out of range"
     ]
    }
   ],
   "source": [
    "odds = [1, 3, 5]\n",
    "print(odds[0])\n",
    "print(odds[1])\n",
    "print(odds[2])\n",
    "print(odds[3])"
   ]
  },
  {
   "cell_type": "code",
   "execution_count": 93,
   "id": "be7a8eba",
   "metadata": {},
   "outputs": [
    {
     "name": "stdout",
     "output_type": "stream",
     "text": [
      "1\n",
      "3\n",
      "5\n",
      "7\n"
     ]
    }
   ],
   "source": [
    "odds = [1, 3, 5, 7]\n",
    "for num in odds:\n",
    "    print(num)"
   ]
  },
  {
   "cell_type": "code",
   "execution_count": 94,
   "id": "fbe368e0",
   "metadata": {},
   "outputs": [
    {
     "name": "stdout",
     "output_type": "stream",
     "text": [
      "1\n",
      "3\n",
      "5\n",
      "7\n",
      "9\n",
      "11\n"
     ]
    }
   ],
   "source": [
    "odds = [1, 3, 5, 7, 9, 11]\n",
    "for num in odds:\n",
    "    print(num)"
   ]
  },
  {
   "cell_type": "markdown",
   "id": "cced28ba",
   "metadata": {},
   "source": [
    "for variable in collection:\n",
    "    # do things using variable, such as print"
   ]
  },
  {
   "cell_type": "markdown",
   "id": "1ed75ef5",
   "metadata": {},
   "source": [
    "**What's in a name?**"
   ]
  },
  {
   "cell_type": "code",
   "execution_count": 102,
   "id": "290c604a",
   "metadata": {},
   "outputs": [
    {
     "name": "stdout",
     "output_type": "stream",
     "text": [
      "1\n",
      "3\n",
      "5\n",
      "7\n",
      "9\n",
      "11\n"
     ]
    }
   ],
   "source": [
    "odds = [1, 3, 5, 7, 9, 11]\n",
    "for banana in odds:\n",
    "    print(banana)"
   ]
  },
  {
   "cell_type": "code",
   "execution_count": 103,
   "id": "2a4da73e",
   "metadata": {},
   "outputs": [
    {
     "name": "stdout",
     "output_type": "stream",
     "text": [
      "There are 3 names in the list.\n"
     ]
    }
   ],
   "source": [
    "length = 0\n",
    "names = ['Curie', 'Darwin', 'Turing']\n",
    "for value in names:\n",
    "    length = length + 1\n",
    "print('There are', length, 'names in the list.')"
   ]
  },
  {
   "cell_type": "code",
   "execution_count": 104,
   "id": "65233475",
   "metadata": {},
   "outputs": [
    {
     "name": "stdout",
     "output_type": "stream",
     "text": [
      "Curie\n",
      "Darwin\n",
      "Turing\n",
      "after the loop, name is Turing\n"
     ]
    }
   ],
   "source": [
    "name = 'Rosalind'\n",
    "for name in ['Curie', 'Darwin', 'Turing']:\n",
    "    print(name)\n",
    "print('after the loop, name is', name)"
   ]
  },
  {
   "cell_type": "code",
   "execution_count": 105,
   "id": "a2dc06a6",
   "metadata": {},
   "outputs": [
    {
     "name": "stdout",
     "output_type": "stream",
     "text": [
      "4\n"
     ]
    }
   ],
   "source": [
    "print(len([0, 1, 2, 3]))"
   ]
  },
  {
   "cell_type": "markdown",
   "id": "86c89c80",
   "metadata": {},
   "source": [
    "**From 1 to N**"
   ]
  },
  {
   "cell_type": "markdown",
   "id": "3f9b3e48",
   "metadata": {},
   "source": [
    "Using range, write a loop that prints the first 3 natural numbers:"
   ]
  },
  {
   "cell_type": "code",
   "execution_count": 106,
   "id": "4f84bbb1",
   "metadata": {},
   "outputs": [
    {
     "name": "stdout",
     "output_type": "stream",
     "text": [
      "1\n",
      "2\n",
      "3\n"
     ]
    }
   ],
   "source": [
    "for number in range(1,4):\n",
    "    print(number)"
   ]
  },
  {
   "cell_type": "markdown",
   "id": "b843789c",
   "metadata": {},
   "source": [
    "**Understanding the Loops**"
   ]
  },
  {
   "cell_type": "code",
   "execution_count": 107,
   "id": "276e4251",
   "metadata": {},
   "outputs": [
    {
     "name": "stdout",
     "output_type": "stream",
     "text": [
      "o\n",
      "x\n",
      "y\n",
      "g\n",
      "e\n",
      "n\n"
     ]
    }
   ],
   "source": [
    "word = 'oxygen'\n",
    "for letter in word:\n",
    "    print(letter)\n",
    "    \n",
    "# the body of the loop is executed 6 times "
   ]
  },
  {
   "cell_type": "markdown",
   "id": "b2f39024",
   "metadata": {},
   "source": [
    "**Computing Powers with Loops**"
   ]
  },
  {
   "cell_type": "code",
   "execution_count": 108,
   "id": "47d0cf4b",
   "metadata": {},
   "outputs": [
    {
     "name": "stdout",
     "output_type": "stream",
     "text": [
      "125\n"
     ]
    }
   ],
   "source": [
    "print(5**3)"
   ]
  },
  {
   "cell_type": "code",
   "execution_count": 109,
   "id": "6a7a0b2e",
   "metadata": {},
   "outputs": [
    {
     "name": "stdout",
     "output_type": "stream",
     "text": [
      "10\n"
     ]
    }
   ],
   "source": [
    "solution = 1\n",
    "for solution in range(0,3):\n",
    "    solution = solution * 5\n",
    "print(solution)\n",
    "\n",
    "# THIS IS WRONG NOT SURE WHY"
   ]
  },
  {
   "cell_type": "markdown",
   "id": "1400d16b",
   "metadata": {},
   "source": [
    "**Summing a List**"
   ]
  },
  {
   "cell_type": "markdown",
   "id": "6cb90ff5",
   "metadata": {},
   "source": [
    "Write a loop that calculates the sum of elements in a list by adding each element and printing the final value, so [124, 402, 36] prints 562"
   ]
  },
  {
   "cell_type": "code",
   "execution_count": 110,
   "id": "523a1eb8",
   "metadata": {},
   "outputs": [
    {
     "name": "stdout",
     "output_type": "stream",
     "text": [
      "562\n"
     ]
    }
   ],
   "source": [
    "numbers = [124, 402, 36]\n",
    "summed = 0\n",
    "for num in numbers:\n",
    "    summed = summed + num\n",
    "print(summed)"
   ]
  },
  {
   "cell_type": "markdown",
   "id": "81b54d23",
   "metadata": {},
   "source": [
    "**Computing the Value of a Polynomial**"
   ]
  },
  {
   "cell_type": "markdown",
   "id": "0936a7f3",
   "metadata": {},
   "source": [
    "for idx, val in enumerate(a_list):\n",
    "    # Do something using idx and val"
   ]
  },
  {
   "cell_type": "code",
   "execution_count": 117,
   "id": "74e566b9",
   "metadata": {},
   "outputs": [
    {
     "name": "stdout",
     "output_type": "stream",
     "text": [
      "97\n"
     ]
    }
   ],
   "source": [
    "x = 5\n",
    "coefs = [2, 4, 3]\n",
    "y = coefs[0] * x**0 + coefs[1] * x**1 + coefs[2] * x**2\n",
    "print(y)"
   ]
  },
  {
   "cell_type": "markdown",
   "id": "d54eecc6",
   "metadata": {},
   "source": [
    "Write a loop using enumerate(coefs) which computes the value y of any polynomial, given x and coefs."
   ]
  },
  {
   "cell_type": "code",
   "execution_count": 118,
   "id": "d49922c2",
   "metadata": {},
   "outputs": [],
   "source": [
    "y = 0\n",
    "for idx, coef in enumerate(coefs):\n",
    "    y = y + coef * x**idx"
   ]
  },
  {
   "cell_type": "markdown",
   "id": "6320dac0",
   "metadata": {},
   "source": [
    "# Analyzing Data from Multiple Files"
   ]
  },
  {
   "cell_type": "code",
   "execution_count": 119,
   "id": "f66c0e62",
   "metadata": {},
   "outputs": [],
   "source": [
    "import glob"
   ]
  },
  {
   "cell_type": "code",
   "execution_count": 120,
   "id": "964ab9b3",
   "metadata": {},
   "outputs": [
    {
     "name": "stdout",
     "output_type": "stream",
     "text": [
      "['inflammation-05.csv', 'inflammation-11.csv', 'inflammation-10.csv', 'inflammation-04.csv', 'inflammation-12.csv', 'inflammation-06.csv', 'inflammation-07.csv', 'inflammation-03.csv', 'inflammation-02.csv', 'inflammation-01.csv', 'inflammation-09.csv', 'inflammation-08.csv']\n"
     ]
    }
   ],
   "source": [
    "print(glob.glob('inflammation*.csv'))"
   ]
  },
  {
   "cell_type": "code",
   "execution_count": 121,
   "id": "ce9e2220",
   "metadata": {},
   "outputs": [
    {
     "name": "stdout",
     "output_type": "stream",
     "text": [
      "inflammation-01.csv\n"
     ]
    },
    {
     "data": {
      "image/png": "[encoded data removed]",
      "text/plain": [
       "<Figure size 720x216 with 3 Axes>"
      ]
     },
     "metadata": {
      "needs_background": "light"
     },
     "output_type": "display_data"
    },
    {
     "name": "stdout",
     "output_type": "stream",
     "text": [
      "inflammation-02.csv\n"
     ]
    },
    {
     "data": {
      "image/png": "[encoded data removed]",
      "text/plain": [
       "<Figure size 720x216 with 3 Axes>"
      ]
     },
     "metadata": {
      "needs_background": "light"
     },
     "output_type": "display_data"
    },
    {
     "name": "stdout",
     "output_type": "stream",
     "text": [
      "inflammation-03.csv\n"
     ]
    },
    {
     "data": {
      "image/png": "[encoded data removed]",
      "text/plain": [
       "<Figure size 720x216 with 3 Axes>"
      ]
     },
     "metadata": {
      "needs_background": "light"
     },
     "output_type": "display_data"
    }
   ],
   "source": [
    "import glob\n",
    "import numpy\n",
    "import matplotlib.pyplot\n",
    "\n",
    "filenames = sorted(glob.glob('inflammation*.csv'))\n",
    "filenames = filenames[0:3]\n",
    "for filename in filenames:\n",
    "    print(filename)\n",
    "\n",
    "    data = numpy.loadtxt(fname=filename, delimiter=',')\n",
    "\n",
    "    fig = matplotlib.pyplot.figure(figsize=(10.0, 3.0))\n",
    "\n",
    "    axes1 = fig.add_subplot(1, 3, 1)\n",
    "    axes2 = fig.add_subplot(1, 3, 2)\n",
    "    axes3 = fig.add_subplot(1, 3, 3)\n",
    "\n",
    "    axes1.set_ylabel('average')\n",
    "    axes1.plot(numpy.mean(data, axis=0))\n",
    "\n",
    "    axes2.set_ylabel('max')\n",
    "    axes2.plot(numpy.amax(data, axis=0))\n",
    "\n",
    "    axes3.set_ylabel('min')\n",
    "    axes3.plot(numpy.amin(data, axis=0))\n",
    "\n",
    "    fig.tight_layout()\n",
    "    matplotlib.pyplot.show()"
   ]
  },
  {
   "cell_type": "markdown",
   "id": "6f5208f3",
   "metadata": {},
   "source": [
    "**Ploting Differences**"
   ]
  },
  {
   "cell_type": "markdown",
   "id": "f75c6ad4",
   "metadata": {},
   "source": [
    "Plot the difference between the average inflammations reported in the first and second datasets (stored in inflammation-01.csv and inflammation-02.csv, correspondingly), i.e., the difference between the leftmost plots of the first two figures."
   ]
  },
  {
   "cell_type": "code",
   "execution_count": 122,
   "id": "2343a67c",
   "metadata": {},
   "outputs": [
    {
     "data": {
      "image/png": "[encoded data removed]",
      "text/plain": [
       "<Figure size 720x216 with 1 Axes>"
      ]
     },
     "metadata": {
      "needs_background": "light"
     },
     "output_type": "display_data"
    }
   ],
   "source": [
    "import glob\n",
    "import numpy\n",
    "import matplotlib.pyplot\n",
    "\n",
    "filenames = sorted(glob.glob('inflammation*.csv'))\n",
    "\n",
    "data0 = numpy.loadtxt(fname=filenames[0], delimiter=',')\n",
    "data1 = numpy.loadtxt(fname=filenames[1], delimiter=',')\n",
    "\n",
    "fig = matplotlib.pyplot.figure(figsize=(10.0, 3.0))\n",
    "\n",
    "matplotlib.pyplot.ylabel('Difference in average')\n",
    "matplotlib.pyplot.plot(numpy.mean(data0, axis=0) - numpy.mean(data1, axis=0))\n",
    "\n",
    "fig.tight_layout()\n",
    "matplotlib.pyplot.show()"
   ]
  },
  {
   "cell_type": "markdown",
   "id": "6b89903c",
   "metadata": {},
   "source": [
    "**Generate Composite Statistics**"
   ]
  },
  {
   "cell_type": "code",
   "execution_count": 123,
   "id": "08649386",
   "metadata": {},
   "outputs": [
    {
     "data": {
      "image/png": "[encoded data removed]",
      "text/plain": [
       "<Figure size 720x216 with 3 Axes>"
      ]
     },
     "metadata": {
      "needs_background": "light"
     },
     "output_type": "display_data"
    }
   ],
   "source": [
    "import glob\n",
    "import numpy\n",
    "import matplotlib.pyplot\n",
    "\n",
    "filenames = glob.glob('inflammation*.csv')\n",
    "composite_data = numpy.zeros((60,40))\n",
    "\n",
    "for filename in filenames:\n",
    "    data = numpy.loadtxt(fname = filename, delimiter=',')\n",
    "    composite_data = composite_data + data\n",
    "\n",
    "composite_data = composite_data / len(filenames)\n",
    "\n",
    "fig = matplotlib.pyplot.figure(figsize=(10.0, 3.0))\n",
    "\n",
    "axes1 = fig.add_subplot(1, 3, 1)\n",
    "axes2 = fig.add_subplot(1, 3, 2)\n",
    "axes3 = fig.add_subplot(1, 3, 3)\n",
    "\n",
    "axes1.set_ylabel('average')\n",
    "axes1.plot(numpy.mean(composite_data, axis=0))\n",
    "\n",
    "axes2.set_ylabel('max')\n",
    "axes2.plot(numpy.amax(composite_data, axis=0))\n",
    "\n",
    "axes3.set_ylabel('min')\n",
    "axes3.plot(numpy.amin(composite_data, axis=0))\n",
    "\n",
    "fig.tight_layout()\n",
    "\n",
    "matplotlib.pyplot.show()\n"
   ]
  },
  {
   "cell_type": "markdown",
   "id": "b08809fd",
   "metadata": {},
   "source": [
    "# Making Choices"
   ]
  },
  {
   "cell_type": "markdown",
   "id": "6293cf5a",
   "metadata": {},
   "source": [
    "**Conditionals**"
   ]
  },
  {
   "cell_type": "code",
   "execution_count": 124,
   "id": "596e9823",
   "metadata": {},
   "outputs": [
    {
     "name": "stdout",
     "output_type": "stream",
     "text": [
      "not greater\n",
      "done\n"
     ]
    }
   ],
   "source": [
    "num = 37\n",
    "if num > 100:\n",
    "    print('greater')\n",
    "else:\n",
    "    print('not greater')\n",
    "print('done')"
   ]
  },
  {
   "cell_type": "code",
   "execution_count": 125,
   "id": "b915c714",
   "metadata": {},
   "outputs": [
    {
     "name": "stdout",
     "output_type": "stream",
     "text": [
      "before conditional...\n",
      "...after conditional\n"
     ]
    }
   ],
   "source": [
    "num = 53\n",
    "print('before conditional...')\n",
    "if num > 100:\n",
    "    print(num, 'is greater than 100')\n",
    "print('...after conditional')"
   ]
  },
  {
   "cell_type": "code",
   "execution_count": 126,
   "id": "42d97759",
   "metadata": {},
   "outputs": [
    {
     "name": "stdout",
     "output_type": "stream",
     "text": [
      "-3 is negative\n"
     ]
    }
   ],
   "source": [
    "num = -3\n",
    "\n",
    "if num > 0:\n",
    "    print(num, 'is positive')\n",
    "elif num == 0:\n",
    "    print(num, 'is zero')\n",
    "else:\n",
    "    print(num, 'is negative')"
   ]
  },
  {
   "cell_type": "markdown",
   "id": "89c20574",
   "metadata": {},
   "source": [
    "**Comparing in Python**\n",
    "\n",
    "'>: greater than\n",
    "<: less than\n",
    "==: equal to\n",
    "!=: does not equal'\n",
    "'>=: greater than or equal to\n",
    "<=: less than or equal to'"
   ]
  },
  {
   "cell_type": "code",
   "execution_count": 127,
   "id": "2473a7de",
   "metadata": {},
   "outputs": [
    {
     "name": "stdout",
     "output_type": "stream",
     "text": [
      "at least one part is false\n"
     ]
    }
   ],
   "source": [
    "if (1 > 0) and (-1 >= 0):\n",
    "    print('both parts are true')\n",
    "else:\n",
    "    print('at least one part is false')"
   ]
  },
  {
   "cell_type": "code",
   "execution_count": 128,
   "id": "e9a93f83",
   "metadata": {},
   "outputs": [
    {
     "name": "stdout",
     "output_type": "stream",
     "text": [
      "at least one test is true\n"
     ]
    }
   ],
   "source": [
    "if (1 < 0) or (1 >= 0):\n",
    "    print('at least one test is true')"
   ]
  },
  {
   "cell_type": "markdown",
   "id": "78adba37",
   "metadata": {},
   "source": [
    "**Checking our Data**"
   ]
  },
  {
   "cell_type": "code",
   "execution_count": 132,
   "id": "1386451f",
   "metadata": {},
   "outputs": [
    {
     "name": "stdout",
     "output_type": "stream",
     "text": [
      "Minima add up to zero!\n"
     ]
    }
   ],
   "source": [
    "max_inflammation_0 = numpy.amax(data, axis=0)[0]\n",
    "max_inflammation_20 = numpy.amax(data, axis=0)[20]\n",
    "\n",
    "if max_inflammation_0 == 0 and max_inflammation_20 == 20:\n",
    "    print('Suspicious looking maxima!')\n",
    "elif numpy.sum(numpy.amin(data, axis=0)) == 0:\n",
    "    print('Minima add up to zero!')\n",
    "else:\n",
    "    print('Seems OK!')"
   ]
  },
  {
   "cell_type": "code",
   "execution_count": 133,
   "id": "1baf92a8",
   "metadata": {},
   "outputs": [
    {
     "name": "stdout",
     "output_type": "stream",
     "text": [
      "Suspicious looking maxima!\n"
     ]
    }
   ],
   "source": [
    "data = numpy.loadtxt(fname='inflammation-01.csv', delimiter=',')\n",
    "\n",
    "max_inflammation_0 = numpy.amax(data, axis=0)[0]\n",
    "max_inflammation_20 = numpy.amax(data, axis=0)[20]\n",
    "\n",
    "if max_inflammation_0 == 0 and max_inflammation_20 == 20:\n",
    "    print('Suspicious looking maxima!')\n",
    "elif numpy.sum(numpy.amin(data, axis=0)) == 0:\n",
    "    print('Minima add up to zero!')\n",
    "else:\n",
    "    print('Seems OK!')"
   ]
  },
  {
   "cell_type": "code",
   "execution_count": 134,
   "id": "2ce0f2d9",
   "metadata": {},
   "outputs": [
    {
     "name": "stdout",
     "output_type": "stream",
     "text": [
      "Minima add up to zero!\n"
     ]
    }
   ],
   "source": [
    "data = numpy.loadtxt(fname='inflammation-03.csv', delimiter=',')\n",
    "\n",
    "max_inflammation_0 = numpy.amax(data, axis=0)[0]\n",
    "max_inflammation_20 = numpy.amax(data, axis=0)[20]\n",
    "\n",
    "if max_inflammation_0 == 0 and max_inflammation_20 == 20:\n",
    "    print('Suspicious looking maxima!')\n",
    "elif numpy.sum(numpy.amin(data, axis=0)) == 0:\n",
    "    print('Minima add up to zero!')\n",
    "else:\n",
    "    print('Seems OK!')"
   ]
  },
  {
   "cell_type": "markdown",
   "id": "5fc6e9fc",
   "metadata": {},
   "source": [
    "**How many paths?**"
   ]
  },
  {
   "cell_type": "code",
   "execution_count": 135,
   "id": "2f63d839",
   "metadata": {},
   "outputs": [
    {
     "name": "stdout",
     "output_type": "stream",
     "text": [
      "C\n"
     ]
    }
   ],
   "source": [
    "if 4 > 5:\n",
    "    print('A')\n",
    "elif 4 == 5:\n",
    "    print('B')\n",
    "elif 4 < 5:\n",
    "    print('C')"
   ]
  },
  {
   "cell_type": "markdown",
   "id": "65fc8236",
   "metadata": {},
   "source": [
    "Which of the following would be printed if you were to run this code? Why did you pick this answer?\n",
    "\n",
    "A\n",
    "B\n",
    "C\n",
    "B and C"
   ]
  },
  {
   "cell_type": "code",
   "execution_count": 136,
   "id": "709c7a8f",
   "metadata": {},
   "outputs": [
    {
     "data": {
      "text/plain": [
       "array([[1, 2, 3],\n",
       "       [4, 5, 6],\n",
       "       [7, 8, 9],\n",
       "       [1, 2, 3],\n",
       "       [4, 5, 6],\n",
       "       [7, 8, 9]])"
      ]
     },
     "execution_count": 136,
     "metadata": {},
     "output_type": "execute_result"
    }
   ],
   "source": [
    "C"
   ]
  },
  {
   "cell_type": "markdown",
   "id": "24d7cbf8",
   "metadata": {},
   "source": [
    "**What is truth?**"
   ]
  },
  {
   "cell_type": "code",
   "execution_count": 137,
   "id": "395bbe1c",
   "metadata": {},
   "outputs": [
    {
     "name": "stdout",
     "output_type": "stream",
     "text": [
      "word is true\n",
      "non-empty list is true\n",
      "one is true\n"
     ]
    }
   ],
   "source": [
    "if '':\n",
    "    print('empty string is true')\n",
    "if 'word':\n",
    "    print('word is true')\n",
    "if []:\n",
    "    print('empty list is true')\n",
    "if [1, 2, 3]:\n",
    "    print('non-empty list is true')\n",
    "if 0:\n",
    "    print('zero is true')\n",
    "if 1:\n",
    "    print('one is true')\n"
   ]
  },
  {
   "cell_type": "markdown",
   "id": "ae402901",
   "metadata": {},
   "source": [
    "**That's not what I meant**"
   ]
  },
  {
   "cell_type": "code",
   "execution_count": 138,
   "id": "55cc8435",
   "metadata": {},
   "outputs": [
    {
     "name": "stdout",
     "output_type": "stream",
     "text": [
      "empty string is not true\n",
      "not not True is true\n"
     ]
    }
   ],
   "source": [
    "if not '':\n",
    "    print('empty string is not true')\n",
    "if not 'word':\n",
    "    print('word is not true')\n",
    "if not not True:\n",
    "    print('not not True is true')\n"
   ]
  },
  {
   "cell_type": "markdown",
   "id": "f1d31ec7",
   "metadata": {},
   "source": [
    "**Close Enough**"
   ]
  },
  {
   "cell_type": "markdown",
   "id": "826e0c78",
   "metadata": {},
   "source": [
    "Write some conditions that print True if the variable a is within 10% of the variable b and False otherwise. Compare your implementation with your partner’s: do you get the same answer for all possible pairs of numbers?"
   ]
  },
  {
   "cell_type": "code",
   "execution_count": 139,
   "id": "2fe80325",
   "metadata": {},
   "outputs": [
    {
     "name": "stdout",
     "output_type": "stream",
     "text": [
      "True\n"
     ]
    }
   ],
   "source": [
    "a = 5\n",
    "b = 5.1\n",
    "\n",
    "if abs(a - b) <= 0.1 * abs(b):\n",
    "    print('True')\n",
    "else:\n",
    "    print('False')"
   ]
  },
  {
   "cell_type": "markdown",
   "id": "4bf5a44a",
   "metadata": {},
   "source": [
    "**Sorting A List Into Buckets**"
   ]
  },
  {
   "cell_type": "code",
   "execution_count": 140,
   "id": "2b194353",
   "metadata": {},
   "outputs": [
    {
     "data": {
      "text/plain": [
       "True"
      ]
     },
     "execution_count": 140,
     "metadata": {},
     "output_type": "execute_result"
    }
   ],
   "source": [
    "'String'.startswith('Str')"
   ]
  },
  {
   "cell_type": "code",
   "execution_count": 141,
   "id": "0bd5eb54",
   "metadata": {},
   "outputs": [
    {
     "data": {
      "text/plain": [
       "False"
      ]
     },
     "execution_count": 141,
     "metadata": {},
     "output_type": "execute_result"
    }
   ],
   "source": [
    "'String'.startswith('str')"
   ]
  },
  {
   "cell_type": "code",
   "execution_count": 142,
   "id": "4f7ddb08",
   "metadata": {},
   "outputs": [],
   "source": [
    "filenames = ['inflammation-01.csv',\n",
    "         'myscript.py',\n",
    "         'inflammation-02.csv',\n",
    "         'small-01.csv',\n",
    "         'small-02.csv']\n",
    "large_files = []\n",
    "small_files = []\n",
    "other_files = []"
   ]
  },
  {
   "cell_type": "markdown",
   "id": "5ea6e8be",
   "metadata": {},
   "source": [
    "How do we get this? \n",
    "large_files = ['inflammation-01.csv', 'inflammation-02.csv']\n",
    "small_files = ['small-01.csv', 'small-02.csv']\n",
    "other_files = ['myscript.py']"
   ]
  },
  {
   "cell_type": "code",
   "execution_count": 143,
   "id": "3c91652e",
   "metadata": {},
   "outputs": [
    {
     "name": "stdout",
     "output_type": "stream",
     "text": [
      "large_files: ['inflammation-01.csv', 'inflammation-02.csv']\n",
      "small_files: ['small-01.csv', 'small-02.csv']\n",
      "other_files: ['myscript.py']\n"
     ]
    }
   ],
   "source": [
    "for filename in filenames:\n",
    "    if filename.startswith('inflammation-'):\n",
    "        large_files.append(filename)\n",
    "    elif filename.startswith('small-'):\n",
    "        small_files.append(filename)\n",
    "    else:\n",
    "        other_files.append(filename)\n",
    "\n",
    "print('large_files:', large_files)\n",
    "print('small_files:', small_files)\n",
    "print('other_files:', other_files)"
   ]
  },
  {
   "cell_type": "markdown",
   "id": "2324aa9e",
   "metadata": {},
   "source": [
    "**Counting Vowels**\n",
    "1. Write a loop that counts the number of vowels in a character string.\n",
    "2. Test it on a few individual words and full sentences.\n",
    "3. Once you are done, compare your solution to your neighbor’s. Did you make the same decisions about how to handle the letter ‘y’ (which some people think is a vowel, and some do not)?"
   ]
  },
  {
   "cell_type": "code",
   "execution_count": 144,
   "id": "d4400779",
   "metadata": {},
   "outputs": [
    {
     "name": "stdout",
     "output_type": "stream",
     "text": [
      "The number of vowels in this string is 6\n"
     ]
    }
   ],
   "source": [
    "vowels = 'aeiouAEIOU'\n",
    "sentence = 'Mary had a little lamb.'\n",
    "count = 0\n",
    "for char in sentence:\n",
    "    if char in vowels:\n",
    "        count += 1\n",
    "\n",
    "print('The number of vowels in this string is ' + str(count))"
   ]
  },
  {
   "cell_type": "markdown",
   "id": "5d05a040",
   "metadata": {},
   "source": [
    "# Creating Functions"
   ]
  },
  {
   "cell_type": "code",
   "execution_count": 145,
   "id": "2e56ee02",
   "metadata": {},
   "outputs": [],
   "source": [
    "fahrenheit_val = 99\n",
    "celsius_val = ((fahrenheit_val - 32) * (5/9))"
   ]
  },
  {
   "cell_type": "code",
   "execution_count": 146,
   "id": "165cc9f8",
   "metadata": {},
   "outputs": [],
   "source": [
    "fahrenheit_val = 99\n",
    "celsius_val = ((fahrenheit_val - 32) * (5/9))\n",
    "\n",
    "fahrenheit_val2 = 43\n",
    "celsius_val2 = ((fahrenheit_val2 - 32) * (5/9))"
   ]
  },
  {
   "cell_type": "code",
   "execution_count": 147,
   "id": "f629b71d",
   "metadata": {},
   "outputs": [],
   "source": [
    "def explicit_fahr_to_celsius(temp):\n",
    "    # Assign the converted value to a variable\n",
    "    converted = ((temp - 32) * (5/9))\n",
    "    # Return the value of the new variable\n",
    "    return converted\n",
    "    \n",
    "def fahr_to_celsius(temp):\n",
    "    # Return converted value more efficiently using the return\n",
    "    # function without creating a new variable. This code does\n",
    "    # the same thing as the previous function but it is more explicit\n",
    "    # in explaining how the return command works.\n",
    "    return ((temp - 32) * (5/9))\n"
   ]
  },
  {
   "cell_type": "code",
   "execution_count": 148,
   "id": "594141ba",
   "metadata": {},
   "outputs": [
    {
     "data": {
      "text/plain": [
       "0.0"
      ]
     },
     "execution_count": 148,
     "metadata": {},
     "output_type": "execute_result"
    }
   ],
   "source": [
    "fahr_to_celsius(32)"
   ]
  },
  {
   "cell_type": "code",
   "execution_count": 149,
   "id": "66807122",
   "metadata": {},
   "outputs": [
    {
     "name": "stdout",
     "output_type": "stream",
     "text": [
      "freezing point of water: 0.0 C\n",
      "boiling point of water: 100.0 C\n"
     ]
    }
   ],
   "source": [
    "print('freezing point of water:', fahr_to_celsius(32), 'C')\n",
    "print('boiling point of water:', fahr_to_celsius(212), 'C')\n"
   ]
  },
  {
   "cell_type": "markdown",
   "id": "613c8919",
   "metadata": {},
   "source": [
    "**Composing Functions**"
   ]
  },
  {
   "cell_type": "code",
   "execution_count": 150,
   "id": "a4bc2f10",
   "metadata": {},
   "outputs": [
    {
     "name": "stdout",
     "output_type": "stream",
     "text": [
      "freezing point of water in Kelvin: 273.15\n"
     ]
    }
   ],
   "source": [
    "def celsius_to_kelvin(temp_c):\n",
    "    return temp_c + 273.15\n",
    "\n",
    "print('freezing point of water in Kelvin:', celsius_to_kelvin(0.))"
   ]
  },
  {
   "cell_type": "code",
   "execution_count": 151,
   "id": "3d430ab1",
   "metadata": {},
   "outputs": [
    {
     "name": "stdout",
     "output_type": "stream",
     "text": [
      "boiling point of water in Kelvin: 373.15\n"
     ]
    }
   ],
   "source": [
    "def fahr_to_kelvin(temp_f):\n",
    "    temp_c = fahr_to_celsius(temp_f)\n",
    "    temp_k = celsius_to_kelvin(temp_c)\n",
    "    return temp_k\n",
    "\n",
    "print('boiling point of water in Kelvin:', fahr_to_kelvin(212.0))"
   ]
  },
  {
   "cell_type": "markdown",
   "id": "e9da2492",
   "metadata": {},
   "source": [
    "**Variable Scope**"
   ]
  },
  {
   "cell_type": "code",
   "execution_count": 152,
   "id": "1a1e6094",
   "metadata": {},
   "outputs": [
    {
     "ename": "NameError",
     "evalue": "name 'temp_k' is not defined",
     "output_type": "error",
     "traceback": [
      "\u001b[0;31m---------------------------------------------------------------------------\u001b[0m",
      "\u001b[0;31mNameError\u001b[0m                                 Traceback (most recent call last)",
      "Input \u001b[0;32mIn [152]\u001b[0m, in \u001b[0;36m<cell line: 1>\u001b[0;34m()\u001b[0m\n\u001b[0;32m----> 1\u001b[0m \u001b[38;5;28mprint\u001b[39m(\u001b[38;5;124m'\u001b[39m\u001b[38;5;124mAgain, temperature in Kelvin was:\u001b[39m\u001b[38;5;124m'\u001b[39m, \u001b[43mtemp_k\u001b[49m)\n",
      "\u001b[0;31mNameError\u001b[0m: name 'temp_k' is not defined"
     ]
    }
   ],
   "source": [
    "print('Again, temperature in Kelvin was:', temp_k)"
   ]
  },
  {
   "cell_type": "code",
   "execution_count": 153,
   "id": "61b7dedf",
   "metadata": {},
   "outputs": [
    {
     "name": "stdout",
     "output_type": "stream",
     "text": [
      "temperature in Kelvin was: 373.15\n"
     ]
    }
   ],
   "source": [
    "temp_kelvin = fahr_to_kelvin(212.0)\n",
    "print('temperature in Kelvin was:', temp_kelvin)"
   ]
  },
  {
   "cell_type": "code",
   "execution_count": 154,
   "id": "9578acc5",
   "metadata": {},
   "outputs": [
    {
     "name": "stdout",
     "output_type": "stream",
     "text": [
      "temperature in Fahrenheit was: 212.0\n",
      "temperature in Kelvin was: 373.15\n"
     ]
    }
   ],
   "source": [
    "def print_temperatures():\n",
    "  print('temperature in Fahrenheit was:', temp_fahr)\n",
    "  print('temperature in Kelvin was:', temp_kelvin)\n",
    "\n",
    "temp_fahr = 212.0\n",
    "temp_kelvin = fahr_to_kelvin(temp_fahr)\n",
    "\n",
    "print_temperatures()"
   ]
  },
  {
   "cell_type": "markdown",
   "id": "692b91cd",
   "metadata": {},
   "source": [
    "**Tidying up**"
   ]
  },
  {
   "cell_type": "code",
   "execution_count": 155,
   "id": "14920970",
   "metadata": {},
   "outputs": [],
   "source": [
    "def visualize(filename):\n",
    "\n",
    "    data = numpy.loadtxt(fname=filename, delimiter=',')\n",
    "\n",
    "    fig = matplotlib.pyplot.figure(figsize=(10.0, 3.0))\n",
    "\n",
    "    axes1 = fig.add_subplot(1, 3, 1)\n",
    "    axes2 = fig.add_subplot(1, 3, 2)\n",
    "    axes3 = fig.add_subplot(1, 3, 3)\n",
    "\n",
    "    axes1.set_ylabel('average')\n",
    "    axes1.plot(numpy.mean(data, axis=0))\n",
    "\n",
    "    axes2.set_ylabel('max')\n",
    "    axes2.plot(numpy.amax(data, axis=0))\n",
    "\n",
    "    axes3.set_ylabel('min')\n",
    "    axes3.plot(numpy.amin(data, axis=0))\n",
    "\n",
    "    fig.tight_layout()\n",
    "    matplotlib.pyplot.show()"
   ]
  },
  {
   "cell_type": "code",
   "execution_count": 156,
   "id": "3580b56f",
   "metadata": {},
   "outputs": [],
   "source": [
    "def detect_problems(filename):\n",
    "\n",
    "    data = numpy.loadtxt(fname=filename, delimiter=',')\n",
    "\n",
    "    if numpy.amax(data, axis=0)[0] == 0 and numpy.amax(data, axis=0)[20] == 20:\n",
    "        print('Suspicious looking maxima!')\n",
    "    elif numpy.sum(numpy.amin(data, axis=0)) == 0:\n",
    "        print('Minima add up to zero!')\n",
    "    else:\n",
    "        print('Seems OK!')"
   ]
  },
  {
   "cell_type": "code",
   "execution_count": 157,
   "id": "9cbbfd06",
   "metadata": {},
   "outputs": [
    {
     "name": "stdout",
     "output_type": "stream",
     "text": [
      "inflammation-01.csv\n"
     ]
    },
    {
     "data": {
      "image/png": "[encoded data removed]",
      "text/plain": [
       "<Figure size 720x216 with 3 Axes>"
      ]
     },
     "metadata": {
      "needs_background": "light"
     },
     "output_type": "display_data"
    },
    {
     "name": "stdout",
     "output_type": "stream",
     "text": [
      "Suspicious looking maxima!\n",
      "inflammation-02.csv\n"
     ]
    },
    {
     "data": {
      "image/png": "[encoded data removed]",
      "text/plain": [
       "<Figure size 720x216 with 3 Axes>"
      ]
     },
     "metadata": {
      "needs_background": "light"
     },
     "output_type": "display_data"
    },
    {
     "name": "stdout",
     "output_type": "stream",
     "text": [
      "Suspicious looking maxima!\n",
      "inflammation-03.csv\n"
     ]
    },
    {
     "data": {
      "image/png": "[encoded data removed]",
      "text/plain": [
       "<Figure size 720x216 with 3 Axes>"
      ]
     },
     "metadata": {
      "needs_background": "light"
     },
     "output_type": "display_data"
    },
    {
     "name": "stdout",
     "output_type": "stream",
     "text": [
      "Minima add up to zero!\n"
     ]
    }
   ],
   "source": [
    "filenames = sorted(glob.glob('inflammation*.csv'))\n",
    "\n",
    "for filename in filenames[:3]:\n",
    "    print(filename)\n",
    "    visualize(filename)\n",
    "    detect_problems(filename)"
   ]
  },
  {
   "cell_type": "markdown",
   "id": "d468ee34",
   "metadata": {},
   "source": [
    "**Testing and Documenting**"
   ]
  },
  {
   "cell_type": "code",
   "execution_count": 158,
   "id": "9b20c7e4",
   "metadata": {},
   "outputs": [],
   "source": [
    "def offset_mean(data, target_mean_value):\n",
    "    return (data - numpy.mean(data)) + target_mean_value"
   ]
  },
  {
   "cell_type": "code",
   "execution_count": 159,
   "id": "c9f75b5a",
   "metadata": {},
   "outputs": [
    {
     "name": "stdout",
     "output_type": "stream",
     "text": [
      "[[3. 3.]\n",
      " [3. 3.]]\n"
     ]
    }
   ],
   "source": [
    "z = numpy.zeros((2,2))\n",
    "print(offset_mean(z, 3))"
   ]
  },
  {
   "cell_type": "code",
   "execution_count": 160,
   "id": "082a7dd5",
   "metadata": {},
   "outputs": [
    {
     "name": "stdout",
     "output_type": "stream",
     "text": [
      "[[-6.14875 -6.14875 -5.14875 ... -3.14875 -6.14875 -6.14875]\n",
      " [-6.14875 -5.14875 -4.14875 ... -5.14875 -6.14875 -5.14875]\n",
      " [-6.14875 -5.14875 -5.14875 ... -4.14875 -5.14875 -5.14875]\n",
      " ...\n",
      " [-6.14875 -5.14875 -5.14875 ... -5.14875 -5.14875 -5.14875]\n",
      " [-6.14875 -6.14875 -6.14875 ... -6.14875 -4.14875 -6.14875]\n",
      " [-6.14875 -6.14875 -5.14875 ... -5.14875 -5.14875 -6.14875]]\n"
     ]
    }
   ],
   "source": [
    "data = numpy.loadtxt(fname='inflammation-01.csv', delimiter=',')\n",
    "print(offset_mean(data, 0))"
   ]
  },
  {
   "cell_type": "code",
   "execution_count": 161,
   "id": "6031c14d",
   "metadata": {},
   "outputs": [
    {
     "name": "stdout",
     "output_type": "stream",
     "text": [
      "original min, mean, and max are: 0.0 6.14875 20.0\n",
      "min, mean, and max of offset data are: -6.14875 2.842170943040401e-16 13.85125\n"
     ]
    }
   ],
   "source": [
    "print('original min, mean, and max are:', numpy.amin(data), numpy.mean(data), numpy.amax(data))\n",
    "offset_data = offset_mean(data, 0)\n",
    "print('min, mean, and max of offset data are:',\n",
    "      numpy.amin(offset_data),\n",
    "      numpy.mean(offset_data),\n",
    "      numpy.amax(offset_data))"
   ]
  },
  {
   "cell_type": "code",
   "execution_count": 162,
   "id": "a522dae9",
   "metadata": {},
   "outputs": [
    {
     "name": "stdout",
     "output_type": "stream",
     "text": [
      "std dev before and after: 4.613833197118566 4.613833197118566\n"
     ]
    }
   ],
   "source": [
    "print('std dev before and after:', numpy.std(data), numpy.std(offset_data))"
   ]
  },
  {
   "cell_type": "code",
   "execution_count": 163,
   "id": "8a8df10f",
   "metadata": {},
   "outputs": [
    {
     "name": "stdout",
     "output_type": "stream",
     "text": [
      "difference in standard deviations before and after: 0.0\n"
     ]
    }
   ],
   "source": [
    "print('difference in standard deviations before and after:',\n",
    "      numpy.std(data) - numpy.std(offset_data))"
   ]
  },
  {
   "cell_type": "code",
   "execution_count": 164,
   "id": "6669106a",
   "metadata": {},
   "outputs": [],
   "source": [
    "# offset_mean(data, target_mean_value):\n",
    "# return a new array containing the original data with its mean offset to match the desired value.\n",
    "def offset_mean(data, target_mean_value):\n",
    "    return (data - numpy.mean(data)) + target_mean_value"
   ]
  },
  {
   "cell_type": "code",
   "execution_count": 165,
   "id": "b84720d2",
   "metadata": {},
   "outputs": [],
   "source": [
    "def offset_mean(data, target_mean_value):\n",
    "    \"\"\"Return a new array containing the original data\n",
    "       with its mean offset to match the desired value.\"\"\"\n",
    "    return (data - numpy.mean(data)) + target_mean_value"
   ]
  },
  {
   "cell_type": "code",
   "execution_count": 166,
   "id": "962150a4",
   "metadata": {},
   "outputs": [
    {
     "name": "stdout",
     "output_type": "stream",
     "text": [
      "Help on function offset_mean in module __main__:\n",
      "\n",
      "offset_mean(data, target_mean_value)\n",
      "    Return a new array containing the original data\n",
      "    with its mean offset to match the desired value.\n",
      "\n"
     ]
    }
   ],
   "source": [
    "help(offset_mean)"
   ]
  },
  {
   "cell_type": "code",
   "execution_count": 167,
   "id": "20fcb4b5",
   "metadata": {},
   "outputs": [
    {
     "name": "stdout",
     "output_type": "stream",
     "text": [
      "Help on function offset_mean in module __main__:\n",
      "\n",
      "offset_mean(data, target_mean_value)\n",
      "    Return a new array containing the original data\n",
      "       with its mean offset to match the desired value.\n",
      "    \n",
      "    Examples\n",
      "    --------\n",
      "    >>> offset_mean([1, 2, 3], 0)\n",
      "    array([-1.,  0.,  1.])\n",
      "\n"
     ]
    }
   ],
   "source": [
    "def offset_mean(data, target_mean_value):\n",
    "    \"\"\"Return a new array containing the original data\n",
    "       with its mean offset to match the desired value.\n",
    "\n",
    "    Examples\n",
    "    --------\n",
    "    >>> offset_mean([1, 2, 3], 0)\n",
    "    array([-1.,  0.,  1.])\n",
    "    \"\"\"\n",
    "    return (data - numpy.mean(data)) + target_mean_value\n",
    "\n",
    "help(offset_mean)"
   ]
  },
  {
   "cell_type": "markdown",
   "id": "45085f9e",
   "metadata": {},
   "source": [
    "**Defining Defaults**"
   ]
  },
  {
   "cell_type": "code",
   "execution_count": 168,
   "id": "3e9b70a2",
   "metadata": {},
   "outputs": [
    {
     "data": {
      "text/plain": [
       "array([[0., 0., 1., ..., 3., 0., 0.],\n",
       "       [0., 1., 2., ..., 1., 0., 1.],\n",
       "       [0., 1., 1., ..., 2., 1., 1.],\n",
       "       ...,\n",
       "       [0., 1., 1., ..., 1., 1., 1.],\n",
       "       [0., 0., 0., ..., 0., 2., 0.],\n",
       "       [0., 0., 1., ..., 1., 1., 0.]])"
      ]
     },
     "execution_count": 168,
     "metadata": {},
     "output_type": "execute_result"
    }
   ],
   "source": [
    "numpy.loadtxt('inflammation-01.csv', delimiter=',')"
   ]
  },
  {
   "cell_type": "code",
   "execution_count": 169,
   "id": "89310876",
   "metadata": {},
   "outputs": [
    {
     "ename": "SyntaxError",
     "evalue": "unexpected EOF while parsing (<unknown>, line 1)",
     "output_type": "error",
     "traceback": [
      "Traceback \u001b[0;36m(most recent call last)\u001b[0m:\n",
      "  File \u001b[1;32m~/opt/anaconda3/lib/python3.9/site-packages/IPython/core/interactiveshell.py:3369\u001b[0m in \u001b[1;35mrun_code\u001b[0m\n    exec(code_obj, self.user_global_ns, self.user_ns)\n",
      "  Input \u001b[1;32mIn [169]\u001b[0m in \u001b[1;35m<cell line: 1>\u001b[0m\n    numpy.loadtxt('inflammation-01.csv', ',')\n",
      "  File \u001b[1;32m~/opt/anaconda3/lib/python3.9/site-packages/numpy/lib/npyio.py:1057\u001b[0m in \u001b[1;35mloadtxt\u001b[0m\n    dtype = np.dtype(dtype)\n",
      "  File \u001b[1;32m~/opt/anaconda3/lib/python3.9/site-packages/numpy/core/_internal.py:200\u001b[0m in \u001b[1;35m_commastring\u001b[0m\n    newitem = (dtype, ast.literal_eval(repeats))\n",
      "  File \u001b[1;32m~/opt/anaconda3/lib/python3.9/ast.py:62\u001b[0m in \u001b[1;35mliteral_eval\u001b[0m\n    node_or_string = parse(node_or_string, mode='eval')\n",
      "\u001b[0;36m  File \u001b[0;32m~/opt/anaconda3/lib/python3.9/ast.py:50\u001b[0;36m in \u001b[0;35mparse\u001b[0;36m\u001b[0m\n\u001b[0;31m    return compile(source, filename, mode, flags,\u001b[0m\n",
      "\u001b[0;36m  File \u001b[0;32m<unknown>:1\u001b[0;36m\u001b[0m\n\u001b[0;31m    ,\u001b[0m\n\u001b[0m    ^\u001b[0m\n\u001b[0;31mSyntaxError\u001b[0m\u001b[0;31m:\u001b[0m unexpected EOF while parsing\n"
     ]
    }
   ],
   "source": [
    "numpy.loadtxt('inflammation-01.csv', ',')"
   ]
  },
  {
   "cell_type": "code",
   "execution_count": 181,
   "id": "ddc22469",
   "metadata": {},
   "outputs": [],
   "source": [
    "def offset_mean(data, target_mean_value=0.0):\n",
    "    \"\"\"Return a new array containing the original data\n",
    "       with its mean offset to match the desired value, (0 by default).\n",
    "\n",
    "    Examples\n",
    "    --------\n",
    "    >>> offset_mean([1, 2, 3])\n",
    "    array([-1.,  0.,  1.])\n",
    "    \"\"\"\n",
    "    return (data - numpy.mean(data)) + target_mean_value"
   ]
  },
  {
   "cell_type": "code",
   "execution_count": 182,
   "id": "7117fa73",
   "metadata": {},
   "outputs": [
    {
     "name": "stdout",
     "output_type": "stream",
     "text": [
      "[[3. 3.]\n",
      " [3. 3.]]\n"
     ]
    }
   ],
   "source": [
    "test_data = numpy.zeros((2, 2))\n",
    "print(offset_mean(test_data, 3))"
   ]
  },
  {
   "cell_type": "code",
   "execution_count": 183,
   "id": "5365af30",
   "metadata": {},
   "outputs": [
    {
     "name": "stdout",
     "output_type": "stream",
     "text": [
      "data before mean offset:\n",
      "[[5. 5.]\n",
      " [5. 5.]]\n",
      "offset data:\n",
      "[[0. 0.]\n",
      " [0. 0.]]\n"
     ]
    }
   ],
   "source": [
    "more_data = 5 + numpy.zeros((2, 2))\n",
    "print('data before mean offset:')\n",
    "print(more_data)\n",
    "print('offset data:')\n",
    "print(offset_mean(more_data))"
   ]
  },
  {
   "cell_type": "code",
   "execution_count": 184,
   "id": "14037fd9",
   "metadata": {},
   "outputs": [
    {
     "name": "stdout",
     "output_type": "stream",
     "text": [
      "no parameters:\n",
      "a: 1 b: 2 c: 3\n",
      "one parameter:\n",
      "a: 55 b: 2 c: 3\n",
      "two parameters:\n",
      "a: 55 b: 66 c: 3\n"
     ]
    }
   ],
   "source": [
    "def display(a=1, b=2, c=3):\n",
    "    print('a:', a, 'b:', b, 'c:', c)\n",
    "\n",
    "print('no parameters:')\n",
    "display()\n",
    "print('one parameter:')\n",
    "display(55)\n",
    "print('two parameters:')\n",
    "display(55, 66)"
   ]
  },
  {
   "cell_type": "code",
   "execution_count": 185,
   "id": "ed088426",
   "metadata": {},
   "outputs": [
    {
     "name": "stdout",
     "output_type": "stream",
     "text": [
      "only setting the value of c\n",
      "a: 1 b: 2 c: 77\n"
     ]
    }
   ],
   "source": [
    "print('only setting the value of c')\n",
    "display(c=77)"
   ]
  },
  {
   "cell_type": "code",
   "execution_count": 186,
   "id": "b415760d",
   "metadata": {},
   "outputs": [
    {
     "name": "stdout",
     "output_type": "stream",
     "text": [
      "Help on function loadtxt in module numpy:\n",
      "\n",
      "loadtxt(fname, dtype=<class 'float'>, comments='#', delimiter=None, converters=None, skiprows=0, usecols=None, unpack=False, ndmin=0, encoding='bytes', max_rows=None, *, like=None)\n",
      "    Load data from a text file.\n",
      "    \n",
      "    Each row in the text file must have the same number of values.\n",
      "    \n",
      "    Parameters\n",
      "    ----------\n",
      "    fname : file, str, or pathlib.Path\n",
      "        File, filename, or generator to read.  If the filename extension is\n",
      "        ``.gz`` or ``.bz2``, the file is first decompressed. Note that\n",
      "        generators should return byte strings.\n",
      "    dtype : data-type, optional\n",
      "        Data-type of the resulting array; default: float.  If this is a\n",
      "        structured data-type, the resulting array will be 1-dimensional, and\n",
      "        each row will be interpreted as an element of the array.  In this\n",
      "        case, the number of columns used must match the number of fields in\n",
      "        the data-type.\n",
      "    comments : str or sequence of str, optional\n",
      "        The characters or list of characters used to indicate the start of a\n",
      "        comment. None implies no comments. For backwards compatibility, byte\n",
      "        strings will be decoded as 'latin1'. The default is '#'.\n",
      "    delimiter : str, optional\n",
      "        The string used to separate values. For backwards compatibility, byte\n",
      "        strings will be decoded as 'latin1'. The default is whitespace.\n",
      "    converters : dict, optional\n",
      "        A dictionary mapping column number to a function that will parse the\n",
      "        column string into the desired value.  E.g., if column 0 is a date\n",
      "        string: ``converters = {0: datestr2num}``.  Converters can also be\n",
      "        used to provide a default value for missing data (but see also\n",
      "        `genfromtxt`): ``converters = {3: lambda s: float(s.strip() or 0)}``.\n",
      "        Default: None.\n",
      "    skiprows : int, optional\n",
      "        Skip the first `skiprows` lines, including comments; default: 0.\n",
      "    usecols : int or sequence, optional\n",
      "        Which columns to read, with 0 being the first. For example,\n",
      "        ``usecols = (1,4,5)`` will extract the 2nd, 5th and 6th columns.\n",
      "        The default, None, results in all columns being read.\n",
      "    \n",
      "        .. versionchanged:: 1.11.0\n",
      "            When a single column has to be read it is possible to use\n",
      "            an integer instead of a tuple. E.g ``usecols = 3`` reads the\n",
      "            fourth column the same way as ``usecols = (3,)`` would.\n",
      "    unpack : bool, optional\n",
      "        If True, the returned array is transposed, so that arguments may be\n",
      "        unpacked using ``x, y, z = loadtxt(...)``.  When used with a\n",
      "        structured data-type, arrays are returned for each field.\n",
      "        Default is False.\n",
      "    ndmin : int, optional\n",
      "        The returned array will have at least `ndmin` dimensions.\n",
      "        Otherwise mono-dimensional axes will be squeezed.\n",
      "        Legal values: 0 (default), 1 or 2.\n",
      "    \n",
      "        .. versionadded:: 1.6.0\n",
      "    encoding : str, optional\n",
      "        Encoding used to decode the inputfile. Does not apply to input streams.\n",
      "        The special value 'bytes' enables backward compatibility workarounds\n",
      "        that ensures you receive byte arrays as results if possible and passes\n",
      "        'latin1' encoded strings to converters. Override this value to receive\n",
      "        unicode arrays and pass strings as input to converters.  If set to None\n",
      "        the system default is used. The default value is 'bytes'.\n",
      "    \n",
      "        .. versionadded:: 1.14.0\n",
      "    max_rows : int, optional\n",
      "        Read `max_rows` lines of content after `skiprows` lines. The default\n",
      "        is to read all the lines.\n",
      "    \n",
      "        .. versionadded:: 1.16.0\n",
      "    like : array_like\n",
      "        Reference object to allow the creation of arrays which are not\n",
      "        NumPy arrays. If an array-like passed in as ``like`` supports\n",
      "        the ``__array_function__`` protocol, the result will be defined\n",
      "        by it. In this case, it ensures the creation of an array object\n",
      "        compatible with that passed in via this argument.\n",
      "    \n",
      "        .. versionadded:: 1.20.0\n",
      "    \n",
      "    Returns\n",
      "    -------\n",
      "    out : ndarray\n",
      "        Data read from the text file.\n",
      "    \n",
      "    See Also\n",
      "    --------\n",
      "    load, fromstring, fromregex\n",
      "    genfromtxt : Load data with missing values handled as specified.\n",
      "    scipy.io.loadmat : reads MATLAB data files\n",
      "    \n",
      "    Notes\n",
      "    -----\n",
      "    This function aims to be a fast reader for simply formatted files.  The\n",
      "    `genfromtxt` function provides more sophisticated handling of, e.g.,\n",
      "    lines with missing values.\n",
      "    \n",
      "    .. versionadded:: 1.10.0\n",
      "    \n",
      "    The strings produced by the Python float.hex method can be used as\n",
      "    input for floats.\n",
      "    \n",
      "    Examples\n",
      "    --------\n",
      "    >>> from io import StringIO   # StringIO behaves like a file object\n",
      "    >>> c = StringIO(\"0 1\\n2 3\")\n",
      "    >>> np.loadtxt(c)\n",
      "    array([[0., 1.],\n",
      "           [2., 3.]])\n",
      "    \n",
      "    >>> d = StringIO(\"M 21 72\\nF 35 58\")\n",
      "    >>> np.loadtxt(d, dtype={'names': ('gender', 'age', 'weight'),\n",
      "    ...                      'formats': ('S1', 'i4', 'f4')})\n",
      "    array([(b'M', 21, 72.), (b'F', 35, 58.)],\n",
      "          dtype=[('gender', 'S1'), ('age', '<i4'), ('weight', '<f4')])\n",
      "    \n",
      "    >>> c = StringIO(\"1,0,2\\n3,0,4\")\n",
      "    >>> x, y = np.loadtxt(c, delimiter=',', usecols=(0, 2), unpack=True)\n",
      "    >>> x\n",
      "    array([1., 3.])\n",
      "    >>> y\n",
      "    array([2., 4.])\n",
      "    \n",
      "    This example shows how `converters` can be used to convert a field\n",
      "    with a trailing minus sign into a negative number.\n",
      "    \n",
      "    >>> s = StringIO('10.01 31.25-\\n19.22 64.31\\n17.57- 63.94')\n",
      "    >>> def conv(fld):\n",
      "    ...     return -float(fld[:-1]) if fld.endswith(b'-') else float(fld)\n",
      "    ...\n",
      "    >>> np.loadtxt(s, converters={0: conv, 1: conv})\n",
      "    array([[ 10.01, -31.25],\n",
      "           [ 19.22,  64.31],\n",
      "           [-17.57,  63.94]])\n",
      "\n"
     ]
    }
   ],
   "source": [
    "help(numpy.loadtxt)"
   ]
  },
  {
   "cell_type": "code",
   "execution_count": 176,
   "id": "894a6c39",
   "metadata": {},
   "outputs": [
    {
     "ename": "SyntaxError",
     "evalue": "unexpected EOF while parsing (<unknown>, line 1)",
     "output_type": "error",
     "traceback": [
      "Traceback \u001b[0;36m(most recent call last)\u001b[0m:\n",
      "  File \u001b[1;32m~/opt/anaconda3/lib/python3.9/site-packages/IPython/core/interactiveshell.py:3369\u001b[0m in \u001b[1;35mrun_code\u001b[0m\n    exec(code_obj, self.user_global_ns, self.user_ns)\n",
      "  Input \u001b[1;32mIn [176]\u001b[0m in \u001b[1;35m<cell line: 1>\u001b[0m\n    numpy.loadtxt('inflammation-01.csv', ',')\n",
      "  File \u001b[1;32m~/opt/anaconda3/lib/python3.9/site-packages/numpy/lib/npyio.py:1057\u001b[0m in \u001b[1;35mloadtxt\u001b[0m\n    dtype = np.dtype(dtype)\n",
      "  File \u001b[1;32m~/opt/anaconda3/lib/python3.9/site-packages/numpy/core/_internal.py:200\u001b[0m in \u001b[1;35m_commastring\u001b[0m\n    newitem = (dtype, ast.literal_eval(repeats))\n",
      "  File \u001b[1;32m~/opt/anaconda3/lib/python3.9/ast.py:62\u001b[0m in \u001b[1;35mliteral_eval\u001b[0m\n    node_or_string = parse(node_or_string, mode='eval')\n",
      "\u001b[0;36m  File \u001b[0;32m~/opt/anaconda3/lib/python3.9/ast.py:50\u001b[0;36m in \u001b[0;35mparse\u001b[0;36m\u001b[0m\n\u001b[0;31m    return compile(source, filename, mode, flags,\u001b[0m\n",
      "\u001b[0;36m  File \u001b[0;32m<unknown>:1\u001b[0;36m\u001b[0m\n\u001b[0;31m    ,\u001b[0m\n\u001b[0m    ^\u001b[0m\n\u001b[0;31mSyntaxError\u001b[0m\u001b[0;31m:\u001b[0m unexpected EOF while parsing\n"
     ]
    }
   ],
   "source": [
    "numpy.loadtxt('inflammation-01.csv', ',')"
   ]
  },
  {
   "cell_type": "markdown",
   "id": "bf9f924f",
   "metadata": {},
   "source": [
    "**Readable functions**"
   ]
  },
  {
   "cell_type": "code",
   "execution_count": 187,
   "id": "c8ed2868",
   "metadata": {},
   "outputs": [],
   "source": [
    "def s(p):\n",
    "    a = 0\n",
    "    for v in p:\n",
    "        a += v\n",
    "    m = a / len(p)\n",
    "    d = 0\n",
    "    for v in p:\n",
    "        d += (v - m) * (v - m)\n",
    "    return numpy.sqrt(d / (len(p) - 1))\n",
    "\n",
    "def std_dev(sample):\n",
    "    sample_sum = 0\n",
    "    for value in sample:\n",
    "        sample_sum += value\n",
    "\n",
    "    sample_mean = sample_sum / len(sample)\n",
    "\n",
    "    sum_squared_devs = 0\n",
    "    for value in sample:\n",
    "        sum_squared_devs += (value - sample_mean) * (value - sample_mean)\n",
    "\n",
    "    return numpy.sqrt(sum_squared_devs / (len(sample) - 1))"
   ]
  },
  {
   "cell_type": "markdown",
   "id": "73abb955",
   "metadata": {},
   "source": [
    "**Combining strings**"
   ]
  },
  {
   "cell_type": "code",
   "execution_count": 188,
   "id": "b9af9c0a",
   "metadata": {},
   "outputs": [],
   "source": [
    "def fence(original, wrapper):\n",
    "    return wrapper + original + wrapper"
   ]
  },
  {
   "cell_type": "code",
   "execution_count": 189,
   "id": "78f5c806",
   "metadata": {},
   "outputs": [
    {
     "name": "stdout",
     "output_type": "stream",
     "text": [
      "*name*\n"
     ]
    }
   ],
   "source": [
    "print(fence('name', '*'))"
   ]
  },
  {
   "cell_type": "markdown",
   "id": "1682ce48",
   "metadata": {},
   "source": [
    "**Return versus Print**"
   ]
  },
  {
   "cell_type": "code",
   "execution_count": 190,
   "id": "38bcd375",
   "metadata": {},
   "outputs": [],
   "source": [
    "def add(a, b):\n",
    "    print(a + b)"
   ]
  },
  {
   "cell_type": "code",
   "execution_count": 191,
   "id": "6c2bc4e6",
   "metadata": {},
   "outputs": [
    {
     "name": "stdout",
     "output_type": "stream",
     "text": [
      "10\n",
      "None\n"
     ]
    }
   ],
   "source": [
    "A = add(7, 3)\n",
    "print(A)"
   ]
  },
  {
   "cell_type": "markdown",
   "id": "0d1b70c3",
   "metadata": {},
   "source": [
    "**Selecting Characters from Strings**"
   ]
  },
  {
   "cell_type": "code",
   "execution_count": 193,
   "id": "be1c820a",
   "metadata": {},
   "outputs": [],
   "source": [
    "def outer(input_string):\n",
    "    return input_string[0] + input_string[-1]"
   ]
  },
  {
   "cell_type": "code",
   "execution_count": 194,
   "id": "511d49f4",
   "metadata": {},
   "outputs": [
    {
     "name": "stdout",
     "output_type": "stream",
     "text": [
      "hm\n"
     ]
    }
   ],
   "source": [
    "print(outer('helium'))"
   ]
  },
  {
   "cell_type": "markdown",
   "id": "cae2b827",
   "metadata": {},
   "source": [
    "**Rescaling an Array**"
   ]
  },
  {
   "cell_type": "markdown",
   "id": "0cf0a085",
   "metadata": {},
   "source": [
    "Write a function rescale that takes an array as input and returns a corresponding array of values scaled to lie in the range 0.0 to 1.0. (Hint: If L and H are the lowest and highest values in the original array, then the replacement for a value v should be (v-L) / (H-L).)"
   ]
  },
  {
   "cell_type": "code",
   "execution_count": 195,
   "id": "64af450f",
   "metadata": {},
   "outputs": [],
   "source": [
    "def rescale(input_array):\n",
    "    L = numpy.amin(input_array)\n",
    "    H = numpy.amax(input_array)\n",
    "    output_array = (input_array - L) / (H - L)\n",
    "    return output_array"
   ]
  },
  {
   "cell_type": "markdown",
   "id": "83555d5a",
   "metadata": {},
   "source": [
    "**Testing and Documenting Your Function**"
   ]
  },
  {
   "cell_type": "markdown",
   "id": "8e556994",
   "metadata": {},
   "source": [
    "Run the commands help(numpy.arange) and help(numpy.linspace) to see how to use these functions to generate regularly-spaced values, then use those values to test your rescale function. Once you’ve successfully tested your function, add a docstring that explains what it does."
   ]
  },
  {
   "cell_type": "code",
   "execution_count": 196,
   "id": "e1ebfa0e",
   "metadata": {},
   "outputs": [
    {
     "data": {
      "text/plain": [
       "'Takes an array as input, and returns a corresponding array scaled so\\nthat 0 corresponds to the minimum and 1 to the maximum value of the input array.\\n\\nExamples:\\n>>> rescale(numpy.arange(10.0))\\narray([ 0.        ,  0.11111111,  0.22222222,  0.33333333,  0.44444444,\\n       0.55555556,  0.66666667,  0.77777778,  0.88888889,  1.        ])\\n>>> rescale(numpy.linspace(0, 100, 5))\\narray([ 0.  ,  0.25,  0.5 ,  0.75,  1.  ])\\n'"
      ]
     },
     "execution_count": 196,
     "metadata": {},
     "output_type": "execute_result"
    }
   ],
   "source": [
    "\"\"\"Takes an array as input, and returns a corresponding array scaled so\n",
    "that 0 corresponds to the minimum and 1 to the maximum value of the input array.\n",
    "\n",
    "Examples:\n",
    ">>> rescale(numpy.arange(10.0))\n",
    "array([ 0.        ,  0.11111111,  0.22222222,  0.33333333,  0.44444444,\n",
    "       0.55555556,  0.66666667,  0.77777778,  0.88888889,  1.        ])\n",
    ">>> rescale(numpy.linspace(0, 100, 5))\n",
    "array([ 0.  ,  0.25,  0.5 ,  0.75,  1.  ])\n",
    "\"\"\""
   ]
  },
  {
   "cell_type": "markdown",
   "id": "b7ccc306",
   "metadata": {},
   "source": [
    "**Defining Defaults**"
   ]
  },
  {
   "cell_type": "markdown",
   "id": "ec2c08f5",
   "metadata": {},
   "source": [
    "Rewrite the rescale function so that it scales data to lie between 0.0 and 1.0 by default, but will allow the caller to specify lower and upper bounds if they want. Compare your implementation to your neighbor’s: do the two functions always behave the same way?"
   ]
  },
  {
   "cell_type": "code",
   "execution_count": 197,
   "id": "950e5fb5",
   "metadata": {},
   "outputs": [],
   "source": [
    "def rescale(input_array, low_val=0.0, high_val=1.0):\n",
    "    \"\"\"rescales input array values to lie between low_val and high_val\"\"\"\n",
    "    L = numpy.amin(input_array)\n",
    "    H = numpy.amax(input_array)\n",
    "    intermed_array = (input_array - L) / (H - L)\n",
    "    output_array = intermed_array * (high_val - low_val) + low_val\n",
    "    return output_array"
   ]
  },
  {
   "cell_type": "markdown",
   "id": "259502f6",
   "metadata": {},
   "source": [
    "**Variables Inside and Outside Functions**"
   ]
  },
  {
   "cell_type": "code",
   "execution_count": 198,
   "id": "db6488e0",
   "metadata": {},
   "outputs": [
    {
     "name": "stdout",
     "output_type": "stream",
     "text": [
      "259.81666666666666\n",
      "278.15\n",
      "273.15\n",
      "0\n"
     ]
    }
   ],
   "source": [
    "f = 0\n",
    "k = 0\n",
    "\n",
    "def f2k(f):\n",
    "    k = ((f - 32) * (5.0 / 9.0)) + 273.15\n",
    "    return k\n",
    "\n",
    "print(f2k(8))\n",
    "print(f2k(41))\n",
    "print(f2k(32))\n",
    "\n",
    "print(k)"
   ]
  },
  {
   "cell_type": "markdown",
   "id": "8d7319eb",
   "metadata": {},
   "source": [
    "What does it print and why? \n",
    "k is 0 because the k inside the function f2k doesn’t know about the k defined outside the function. When the f2k function is called, it creates a local variable k. The function does not return any values and does not alter k outside of its local copy. Therefore the original value of k remains unchanged. Beware that a local k is created because f2k internal statements affect a new value to it. If k was only read, it would simply retrieve the global k value."
   ]
  },
  {
   "cell_type": "markdown",
   "id": "f5c21935",
   "metadata": {},
   "source": [
    "**Mixing Default and Non-Default Parameters*"
   ]
  },
  {
   "cell_type": "code",
   "execution_count": 199,
   "id": "bf82b4d4",
   "metadata": {},
   "outputs": [
    {
     "ename": "SyntaxError",
     "evalue": "non-default argument follows default argument (2814296850.py, line 1)",
     "output_type": "error",
     "traceback": [
      "\u001b[0;36m  Input \u001b[0;32mIn [199]\u001b[0;36m\u001b[0m\n\u001b[0;31m    def numbers(one, two=2, three, four=4):\u001b[0m\n\u001b[0m                                   ^\u001b[0m\n\u001b[0;31mSyntaxError\u001b[0m\u001b[0;31m:\u001b[0m non-default argument follows default argument\n"
     ]
    }
   ],
   "source": [
    "def numbers(one, two=2, three, four=4):\n",
    "    n = str(one) + str(two) + str(three) + str(four)\n",
    "    return n\n",
    "\n",
    "print(numbers(1, three=3))\n",
    "\n",
    "#The defined parameters two and four are given default values. Because one and three are not given default values, they are required to be included as arguments when the function is called and must be placed before any parameters that have default values in the function definition."
   ]
  },
  {
   "cell_type": "code",
   "execution_count": 200,
   "id": "4ee243aa",
   "metadata": {},
   "outputs": [
    {
     "name": "stdout",
     "output_type": "stream",
     "text": [
      "a:  -1 b:  2 c: 6\n"
     ]
    }
   ],
   "source": [
    "def func(a, b=3, c=6):\n",
    "    print('a: ', a, 'b: ', b, 'c:', c)\n",
    "\n",
    "func(-1, 2)"
   ]
  },
  {
   "cell_type": "markdown",
   "id": "4e092a15",
   "metadata": {},
   "source": [
    "# Errors and Exceptions"
   ]
  },
  {
   "cell_type": "code",
   "execution_count": 201,
   "id": "42cfd7b1",
   "metadata": {},
   "outputs": [
    {
     "ename": "IndexError",
     "evalue": "list index out of range",
     "output_type": "error",
     "traceback": [
      "\u001b[0;31m---------------------------------------------------------------------------\u001b[0m",
      "\u001b[0;31mIndexError\u001b[0m                                Traceback (most recent call last)",
      "Input \u001b[0;32mIn [201]\u001b[0m, in \u001b[0;36m<cell line: 11>\u001b[0;34m()\u001b[0m\n\u001b[1;32m      4\u001b[0m     ice_creams \u001b[38;5;241m=\u001b[39m [\n\u001b[1;32m      5\u001b[0m         \u001b[38;5;124m'\u001b[39m\u001b[38;5;124mchocolate\u001b[39m\u001b[38;5;124m'\u001b[39m,\n\u001b[1;32m      6\u001b[0m         \u001b[38;5;124m'\u001b[39m\u001b[38;5;124mvanilla\u001b[39m\u001b[38;5;124m'\u001b[39m,\n\u001b[1;32m      7\u001b[0m         \u001b[38;5;124m'\u001b[39m\u001b[38;5;124mstrawberry\u001b[39m\u001b[38;5;124m'\u001b[39m\n\u001b[1;32m      8\u001b[0m     ]\n\u001b[1;32m      9\u001b[0m     \u001b[38;5;28mprint\u001b[39m(ice_creams[\u001b[38;5;241m3\u001b[39m])\n\u001b[0;32m---> 11\u001b[0m \u001b[43mfavorite_ice_cream\u001b[49m\u001b[43m(\u001b[49m\u001b[43m)\u001b[49m\n",
      "Input \u001b[0;32mIn [201]\u001b[0m, in \u001b[0;36mfavorite_ice_cream\u001b[0;34m()\u001b[0m\n\u001b[1;32m      3\u001b[0m \u001b[38;5;28;01mdef\u001b[39;00m \u001b[38;5;21mfavorite_ice_cream\u001b[39m():\n\u001b[1;32m      4\u001b[0m     ice_creams \u001b[38;5;241m=\u001b[39m [\n\u001b[1;32m      5\u001b[0m         \u001b[38;5;124m'\u001b[39m\u001b[38;5;124mchocolate\u001b[39m\u001b[38;5;124m'\u001b[39m,\n\u001b[1;32m      6\u001b[0m         \u001b[38;5;124m'\u001b[39m\u001b[38;5;124mvanilla\u001b[39m\u001b[38;5;124m'\u001b[39m,\n\u001b[1;32m      7\u001b[0m         \u001b[38;5;124m'\u001b[39m\u001b[38;5;124mstrawberry\u001b[39m\u001b[38;5;124m'\u001b[39m\n\u001b[1;32m      8\u001b[0m     ]\n\u001b[0;32m----> 9\u001b[0m     \u001b[38;5;28mprint\u001b[39m(\u001b[43mice_creams\u001b[49m\u001b[43m[\u001b[49m\u001b[38;5;241;43m3\u001b[39;49m\u001b[43m]\u001b[49m)\n",
      "\u001b[0;31mIndexError\u001b[0m: list index out of range"
     ]
    }
   ],
   "source": [
    "# This code has an intentional error. You can type it directly or\n",
    "# use it for reference to understand the error message below.\n",
    "def favorite_ice_cream():\n",
    "    ice_creams = [\n",
    "        'chocolate',\n",
    "        'vanilla',\n",
    "        'strawberry'\n",
    "    ]\n",
    "    print(ice_creams[3])\n",
    "\n",
    "favorite_ice_cream()"
   ]
  },
  {
   "cell_type": "markdown",
   "id": "135d332c",
   "metadata": {},
   "source": [
    "**Reading Error Messages**"
   ]
  },
  {
   "cell_type": "markdown",
   "id": "a83057e9",
   "metadata": {},
   "source": [
    "How many levels does the traceback have?\n",
    "What is the function name where the error occurred?\n",
    "On which line number in this function did the error occur?\n",
    "What is the type of error?\n",
    "What is the error message?"
   ]
  },
  {
   "cell_type": "code",
   "execution_count": 202,
   "id": "5d3f38fe",
   "metadata": {},
   "outputs": [
    {
     "ename": "IndexError",
     "evalue": "list index out of range",
     "output_type": "error",
     "traceback": [
      "\u001b[0;31m---------------------------------------------------------------------------\u001b[0m",
      "\u001b[0;31mIndexError\u001b[0m                                Traceback (most recent call last)",
      "Input \u001b[0;32mIn [202]\u001b[0m, in \u001b[0;36m<cell line: 18>\u001b[0;34m()\u001b[0m\n\u001b[1;32m     15\u001b[0m \u001b[38;5;28;01mdef\u001b[39;00m \u001b[38;5;21mprint_sunday_message\u001b[39m():\n\u001b[1;32m     16\u001b[0m     print_message(\u001b[38;5;241m7\u001b[39m)\n\u001b[0;32m---> 18\u001b[0m \u001b[43mprint_sunday_message\u001b[49m\u001b[43m(\u001b[49m\u001b[43m)\u001b[49m\n",
      "Input \u001b[0;32mIn [202]\u001b[0m, in \u001b[0;36mprint_sunday_message\u001b[0;34m()\u001b[0m\n\u001b[1;32m     15\u001b[0m \u001b[38;5;28;01mdef\u001b[39;00m \u001b[38;5;21mprint_sunday_message\u001b[39m():\n\u001b[0;32m---> 16\u001b[0m     \u001b[43mprint_message\u001b[49m\u001b[43m(\u001b[49m\u001b[38;5;241;43m7\u001b[39;49m\u001b[43m)\u001b[49m\n",
      "Input \u001b[0;32mIn [202]\u001b[0m, in \u001b[0;36mprint_message\u001b[0;34m(day)\u001b[0m\n\u001b[1;32m      3\u001b[0m \u001b[38;5;28;01mdef\u001b[39;00m \u001b[38;5;21mprint_message\u001b[39m(day):\n\u001b[1;32m      4\u001b[0m     messages \u001b[38;5;241m=\u001b[39m [\n\u001b[1;32m      5\u001b[0m         \u001b[38;5;124m'\u001b[39m\u001b[38;5;124mHello, world!\u001b[39m\u001b[38;5;124m'\u001b[39m,\n\u001b[1;32m      6\u001b[0m         \u001b[38;5;124m'\u001b[39m\u001b[38;5;124mToday is Tuesday!\u001b[39m\u001b[38;5;124m'\u001b[39m,\n\u001b[0;32m   (...)\u001b[0m\n\u001b[1;32m     11\u001b[0m         \u001b[38;5;124m'\u001b[39m\u001b[38;5;124mAw, the weekend is almost over.\u001b[39m\u001b[38;5;124m'\u001b[39m\n\u001b[1;32m     12\u001b[0m     ]\n\u001b[0;32m---> 13\u001b[0m     \u001b[38;5;28mprint\u001b[39m(\u001b[43mmessages\u001b[49m\u001b[43m[\u001b[49m\u001b[43mday\u001b[49m\u001b[43m]\u001b[49m)\n",
      "\u001b[0;31mIndexError\u001b[0m: list index out of range"
     ]
    }
   ],
   "source": [
    "# This code has an intentional error. Do not type it directly;\n",
    "# use it for reference to understand the error message below.\n",
    "def print_message(day):\n",
    "    messages = [\n",
    "        'Hello, world!',\n",
    "        'Today is Tuesday!',\n",
    "        'It is the middle of the week.',\n",
    "        'Today is Donnerstag in German!',\n",
    "        'Last day of the week!',\n",
    "        'Hooray for the weekend!',\n",
    "        'Aw, the weekend is almost over.'\n",
    "    ]\n",
    "    print(messages[day])\n",
    "\n",
    "def print_sunday_message():\n",
    "    print_message(7)\n",
    "\n",
    "print_sunday_message()"
   ]
  },
  {
   "cell_type": "markdown",
   "id": "adf218e6",
   "metadata": {},
   "source": [
    "1. 3 levels \n",
    "2. print_message \n",
    "3. 12\n",
    "4. IndexError\n",
    "5. list index out of range You can then infer that 7 is not the right index to use with messages "
   ]
  },
  {
   "cell_type": "markdown",
   "id": "6642f39d",
   "metadata": {},
   "source": [
    "**Syntax Errors**"
   ]
  },
  {
   "cell_type": "code",
   "execution_count": 203,
   "id": "04847478",
   "metadata": {},
   "outputs": [
    {
     "ename": "SyntaxError",
     "evalue": "invalid syntax (1947819108.py, line 1)",
     "output_type": "error",
     "traceback": [
      "\u001b[0;36m  Input \u001b[0;32mIn [203]\u001b[0;36m\u001b[0m\n\u001b[0;31m    def some_function()\u001b[0m\n\u001b[0m                       ^\u001b[0m\n\u001b[0;31mSyntaxError\u001b[0m\u001b[0;31m:\u001b[0m invalid syntax\n"
     ]
    }
   ],
   "source": [
    "def some_function()\n",
    "    msg = 'hello, world!'\n",
    "    print(msg)\n",
    "     return msg"
   ]
  },
  {
   "cell_type": "code",
   "execution_count": 204,
   "id": "e129613b",
   "metadata": {},
   "outputs": [
    {
     "ename": "IndentationError",
     "evalue": "unexpected indent (329577338.py, line 4)",
     "output_type": "error",
     "traceback": [
      "\u001b[0;36m  Input \u001b[0;32mIn [204]\u001b[0;36m\u001b[0m\n\u001b[0;31m    return msg\u001b[0m\n\u001b[0m    ^\u001b[0m\n\u001b[0;31mIndentationError\u001b[0m\u001b[0;31m:\u001b[0m unexpected indent\n"
     ]
    }
   ],
   "source": [
    "def some_function():\n",
    "    msg = 'hello, world!'\n",
    "    print(msg)\n",
    "     return msg"
   ]
  },
  {
   "cell_type": "markdown",
   "id": "63b235d4",
   "metadata": {},
   "source": [
    "**Variable Name Errors**"
   ]
  },
  {
   "cell_type": "code",
   "execution_count": 205,
   "id": "8bac10d1",
   "metadata": {},
   "outputs": [
    {
     "ename": "NameError",
     "evalue": "name 'u' is not defined",
     "output_type": "error",
     "traceback": [
      "\u001b[0;31m---------------------------------------------------------------------------\u001b[0m",
      "\u001b[0;31mNameError\u001b[0m                                 Traceback (most recent call last)",
      "Input \u001b[0;32mIn [205]\u001b[0m, in \u001b[0;36m<cell line: 1>\u001b[0;34m()\u001b[0m\n\u001b[0;32m----> 1\u001b[0m \u001b[38;5;28mprint\u001b[39m(\u001b[43mu\u001b[49m)\n",
      "\u001b[0;31mNameError\u001b[0m: name 'u' is not defined"
     ]
    }
   ],
   "source": [
    "print(u)"
   ]
  },
  {
   "cell_type": "code",
   "execution_count": 206,
   "id": "8da76d87",
   "metadata": {},
   "outputs": [
    {
     "ename": "NameError",
     "evalue": "name 'hello' is not defined",
     "output_type": "error",
     "traceback": [
      "\u001b[0;31m---------------------------------------------------------------------------\u001b[0m",
      "\u001b[0;31mNameError\u001b[0m                                 Traceback (most recent call last)",
      "Input \u001b[0;32mIn [206]\u001b[0m, in \u001b[0;36m<cell line: 1>\u001b[0;34m()\u001b[0m\n\u001b[0;32m----> 1\u001b[0m \u001b[38;5;28mprint\u001b[39m(\u001b[43mhello\u001b[49m)\n",
      "\u001b[0;31mNameError\u001b[0m: name 'hello' is not defined"
     ]
    }
   ],
   "source": [
    "print(hello)"
   ]
  },
  {
   "cell_type": "code",
   "execution_count": 207,
   "id": "4d906e5c",
   "metadata": {},
   "outputs": [
    {
     "ename": "NameError",
     "evalue": "name 'countx' is not defined",
     "output_type": "error",
     "traceback": [
      "\u001b[0;31m---------------------------------------------------------------------------\u001b[0m",
      "\u001b[0;31mNameError\u001b[0m                                 Traceback (most recent call last)",
      "Input \u001b[0;32mIn [207]\u001b[0m, in \u001b[0;36m<cell line: 1>\u001b[0;34m()\u001b[0m\n\u001b[1;32m      1\u001b[0m \u001b[38;5;28;01mfor\u001b[39;00m number \u001b[38;5;129;01min\u001b[39;00m \u001b[38;5;28mrange\u001b[39m(\u001b[38;5;241m10\u001b[39m): \n\u001b[0;32m----> 2\u001b[0m     countx \u001b[38;5;241m=\u001b[39m \u001b[43mcountx\u001b[49m \u001b[38;5;241m+\u001b[39m number \n\u001b[1;32m      3\u001b[0m \u001b[38;5;28mprint\u001b[39m(\u001b[38;5;124m\"\u001b[39m\u001b[38;5;124mThe countx is:\u001b[39m\u001b[38;5;124m\"\u001b[39m, countx)\n",
      "\u001b[0;31mNameError\u001b[0m: name 'countx' is not defined"
     ]
    }
   ],
   "source": [
    "for number in range(10): \n",
    "    countx = countx + number \n",
    "print(\"The countx is:\", countx)"
   ]
  },
  {
   "cell_type": "code",
   "execution_count": 208,
   "id": "9a0bb25d",
   "metadata": {},
   "outputs": [
    {
     "ename": "TypeError",
     "evalue": "can only concatenate list (not \"int\") to list",
     "output_type": "error",
     "traceback": [
      "\u001b[0;31m---------------------------------------------------------------------------\u001b[0m",
      "\u001b[0;31mTypeError\u001b[0m                                 Traceback (most recent call last)",
      "Input \u001b[0;32mIn [208]\u001b[0m, in \u001b[0;36m<cell line: 2>\u001b[0;34m()\u001b[0m\n\u001b[1;32m      1\u001b[0m Count \u001b[38;5;241m=\u001b[39m \u001b[38;5;241m0\u001b[39m\n\u001b[1;32m      2\u001b[0m \u001b[38;5;28;01mfor\u001b[39;00m number \u001b[38;5;129;01min\u001b[39;00m \u001b[38;5;28mrange\u001b[39m(\u001b[38;5;241m10\u001b[39m):\n\u001b[0;32m----> 3\u001b[0m     counts \u001b[38;5;241m=\u001b[39m \u001b[43mcounts\u001b[49m\u001b[43m \u001b[49m\u001b[38;5;241;43m+\u001b[39;49m\u001b[43m \u001b[49m\u001b[43mnumber\u001b[49m\n\u001b[1;32m      4\u001b[0m \u001b[38;5;28mprint\u001b[39m(\u001b[38;5;124m'\u001b[39m\u001b[38;5;124mThe counts is:\u001b[39m\u001b[38;5;124m'\u001b[39m, count)\n",
      "\u001b[0;31mTypeError\u001b[0m: can only concatenate list (not \"int\") to list"
     ]
    }
   ],
   "source": [
    "Count = 0\n",
    "for number in range(10):\n",
    "    counts = counts + number\n",
    "print('The counts is:', count)"
   ]
  },
  {
   "cell_type": "markdown",
   "id": "e074ced7",
   "metadata": {},
   "source": [
    "**Index Errors**"
   ]
  },
  {
   "cell_type": "code",
   "execution_count": 209,
   "id": "0d40e4c2",
   "metadata": {},
   "outputs": [
    {
     "name": "stdout",
     "output_type": "stream",
     "text": [
      "Letter #1 is a\n",
      "Letter #2 is b\n",
      "Letter #3 is c\n"
     ]
    },
    {
     "ename": "IndexError",
     "evalue": "list index out of range",
     "output_type": "error",
     "traceback": [
      "\u001b[0;31m---------------------------------------------------------------------------\u001b[0m",
      "\u001b[0;31mIndexError\u001b[0m                                Traceback (most recent call last)",
      "Input \u001b[0;32mIn [209]\u001b[0m, in \u001b[0;36m<cell line: 5>\u001b[0;34m()\u001b[0m\n\u001b[1;32m      3\u001b[0m \u001b[38;5;28mprint\u001b[39m(\u001b[38;5;124m'\u001b[39m\u001b[38;5;124mLetter #2 is\u001b[39m\u001b[38;5;124m'\u001b[39m, letters[\u001b[38;5;241m1\u001b[39m])\n\u001b[1;32m      4\u001b[0m \u001b[38;5;28mprint\u001b[39m(\u001b[38;5;124m'\u001b[39m\u001b[38;5;124mLetter #3 is\u001b[39m\u001b[38;5;124m'\u001b[39m, letters[\u001b[38;5;241m2\u001b[39m])\n\u001b[0;32m----> 5\u001b[0m \u001b[38;5;28mprint\u001b[39m(\u001b[38;5;124m'\u001b[39m\u001b[38;5;124mLetter #4 is\u001b[39m\u001b[38;5;124m'\u001b[39m, \u001b[43mletters\u001b[49m\u001b[43m[\u001b[49m\u001b[38;5;241;43m3\u001b[39;49m\u001b[43m]\u001b[49m)\n",
      "\u001b[0;31mIndexError\u001b[0m: list index out of range"
     ]
    }
   ],
   "source": [
    "letters = ['a', 'b', 'c']\n",
    "print('Letter #1 is', letters[0])\n",
    "print('Letter #2 is', letters[1])\n",
    "print('Letter #3 is', letters[2])\n",
    "print('Letter #4 is', letters[3])"
   ]
  },
  {
   "cell_type": "markdown",
   "id": "9f4de846",
   "metadata": {},
   "source": [
    "**File Errors**"
   ]
  },
  {
   "cell_type": "code",
   "execution_count": 210,
   "id": "5417b66d",
   "metadata": {},
   "outputs": [
    {
     "ename": "FileNotFoundError",
     "evalue": "[Errno 2] No such file or directory: 'myfile.txt'",
     "output_type": "error",
     "traceback": [
      "\u001b[0;31m---------------------------------------------------------------------------\u001b[0m",
      "\u001b[0;31mFileNotFoundError\u001b[0m                         Traceback (most recent call last)",
      "Input \u001b[0;32mIn [210]\u001b[0m, in \u001b[0;36m<cell line: 1>\u001b[0;34m()\u001b[0m\n\u001b[0;32m----> 1\u001b[0m file_handle \u001b[38;5;241m=\u001b[39m \u001b[38;5;28;43mopen\u001b[39;49m\u001b[43m(\u001b[49m\u001b[38;5;124;43m'\u001b[39;49m\u001b[38;5;124;43mmyfile.txt\u001b[39;49m\u001b[38;5;124;43m'\u001b[39;49m\u001b[43m,\u001b[49m\u001b[43m \u001b[49m\u001b[38;5;124;43m'\u001b[39;49m\u001b[38;5;124;43mr\u001b[39;49m\u001b[38;5;124;43m'\u001b[39;49m\u001b[43m)\u001b[49m\n",
      "\u001b[0;31mFileNotFoundError\u001b[0m: [Errno 2] No such file or directory: 'myfile.txt'"
     ]
    }
   ],
   "source": [
    "file_handle = open('myfile.txt', 'r')"
   ]
  },
  {
   "cell_type": "code",
   "execution_count": 211,
   "id": "dfe38868",
   "metadata": {},
   "outputs": [
    {
     "ename": "UnsupportedOperation",
     "evalue": "not readable",
     "output_type": "error",
     "traceback": [
      "\u001b[0;31m---------------------------------------------------------------------------\u001b[0m",
      "\u001b[0;31mUnsupportedOperation\u001b[0m                      Traceback (most recent call last)",
      "Input \u001b[0;32mIn [211]\u001b[0m, in \u001b[0;36m<cell line: 2>\u001b[0;34m()\u001b[0m\n\u001b[1;32m      1\u001b[0m file_handle \u001b[38;5;241m=\u001b[39m \u001b[38;5;28mopen\u001b[39m(\u001b[38;5;124m'\u001b[39m\u001b[38;5;124mmyfile.txt\u001b[39m\u001b[38;5;124m'\u001b[39m, \u001b[38;5;124m'\u001b[39m\u001b[38;5;124mw\u001b[39m\u001b[38;5;124m'\u001b[39m)\n\u001b[0;32m----> 2\u001b[0m \u001b[43mfile_handle\u001b[49m\u001b[38;5;241;43m.\u001b[39;49m\u001b[43mread\u001b[49m\u001b[43m(\u001b[49m\u001b[43m)\u001b[49m\n",
      "\u001b[0;31mUnsupportedOperation\u001b[0m: not readable"
     ]
    }
   ],
   "source": [
    "file_handle = open('myfile.txt', 'w')\n",
    "file_handle.read()\n"
   ]
  },
  {
   "cell_type": "code",
   "execution_count": 212,
   "id": "6e34f268",
   "metadata": {},
   "outputs": [
    {
     "ename": "SyntaxError",
     "evalue": "invalid syntax (3532211595.py, line 1)",
     "output_type": "error",
     "traceback": [
      "\u001b[0;36m  Input \u001b[0;32mIn [212]\u001b[0;36m\u001b[0m\n\u001b[0;31m    def another_function\u001b[0m\n\u001b[0m                        ^\u001b[0m\n\u001b[0;31mSyntaxError\u001b[0m\u001b[0;31m:\u001b[0m invalid syntax\n"
     ]
    }
   ],
   "source": [
    "def another_function\n",
    "  print('Syntax errors are annoying.')\n",
    "   print('But at least Python tells us about them!')\n",
    "  print('So they are usually not too hard to fix.')"
   ]
  },
  {
   "cell_type": "code",
   "execution_count": 213,
   "id": "5c35f54c",
   "metadata": {},
   "outputs": [],
   "source": [
    "def another_function():\n",
    "    print('Syntax errors are annoying.')\n",
    "    print('But at least Python tells us about them!')\n",
    "    print(\"sp they are usually not too hard to fix.\")"
   ]
  },
  {
   "cell_type": "markdown",
   "id": "c3d7a383",
   "metadata": {},
   "source": [
    "**Identifying Variable Name Errors**"
   ]
  },
  {
   "cell_type": "code",
   "execution_count": 214,
   "id": "c5e6a27c",
   "metadata": {},
   "outputs": [
    {
     "ename": "NameError",
     "evalue": "name 'Number' is not defined",
     "output_type": "error",
     "traceback": [
      "\u001b[0;31m---------------------------------------------------------------------------\u001b[0m",
      "\u001b[0;31mNameError\u001b[0m                                 Traceback (most recent call last)",
      "Input \u001b[0;32mIn [214]\u001b[0m, in \u001b[0;36m<cell line: 1>\u001b[0;34m()\u001b[0m\n\u001b[1;32m      1\u001b[0m \u001b[38;5;28;01mfor\u001b[39;00m number \u001b[38;5;129;01min\u001b[39;00m \u001b[38;5;28mrange\u001b[39m(\u001b[38;5;241m10\u001b[39m):\n\u001b[1;32m      2\u001b[0m     \u001b[38;5;66;03m# use a if the number is a multiple of 3, otherwise use b\u001b[39;00m\n\u001b[0;32m----> 3\u001b[0m     \u001b[38;5;28;01mif\u001b[39;00m (\u001b[43mNumber\u001b[49m \u001b[38;5;241m%\u001b[39m \u001b[38;5;241m3\u001b[39m) \u001b[38;5;241m==\u001b[39m \u001b[38;5;241m0\u001b[39m:\n\u001b[1;32m      4\u001b[0m         message \u001b[38;5;241m=\u001b[39m message \u001b[38;5;241m+\u001b[39m a\n\u001b[1;32m      5\u001b[0m     \u001b[38;5;28;01melse\u001b[39;00m:\n",
      "\u001b[0;31mNameError\u001b[0m: name 'Number' is not defined"
     ]
    }
   ],
   "source": [
    "for number in range(10):\n",
    "    # use a if the number is a multiple of 3, otherwise use b\n",
    "    if (Number % 3) == 0:\n",
    "        message = message + a\n",
    "    else:\n",
    "        message = message + 'b'\n",
    "print(message)"
   ]
  },
  {
   "cell_type": "code",
   "execution_count": 215,
   "id": "c63f49e2",
   "metadata": {},
   "outputs": [
    {
     "name": "stdout",
     "output_type": "stream",
     "text": [
      "hello worldabbabbabba\n"
     ]
    }
   ],
   "source": [
    "message = 'hello world'\n",
    "\n",
    "for number in range(10):\n",
    "    # use a if the number is a multiple of 3, otherwise use b\n",
    "    if (number % 3) == 0:\n",
    "        message = message + 'a'\n",
    "    else:\n",
    "        message = message + 'b'\n",
    "print(message)"
   ]
  },
  {
   "cell_type": "markdown",
   "id": "efab761c",
   "metadata": {},
   "source": [
    "**Identifying Index Errors**"
   ]
  },
  {
   "cell_type": "code",
   "execution_count": 216,
   "id": "e91cc573",
   "metadata": {},
   "outputs": [
    {
     "ename": "IndexError",
     "evalue": "list index out of range",
     "output_type": "error",
     "traceback": [
      "\u001b[0;31m---------------------------------------------------------------------------\u001b[0m",
      "\u001b[0;31mIndexError\u001b[0m                                Traceback (most recent call last)",
      "Input \u001b[0;32mIn [216]\u001b[0m, in \u001b[0;36m<cell line: 2>\u001b[0;34m()\u001b[0m\n\u001b[1;32m      1\u001b[0m seasons \u001b[38;5;241m=\u001b[39m [\u001b[38;5;124m'\u001b[39m\u001b[38;5;124mSpring\u001b[39m\u001b[38;5;124m'\u001b[39m, \u001b[38;5;124m'\u001b[39m\u001b[38;5;124mSummer\u001b[39m\u001b[38;5;124m'\u001b[39m, \u001b[38;5;124m'\u001b[39m\u001b[38;5;124mFall\u001b[39m\u001b[38;5;124m'\u001b[39m, \u001b[38;5;124m'\u001b[39m\u001b[38;5;124mWinter\u001b[39m\u001b[38;5;124m'\u001b[39m]\n\u001b[0;32m----> 2\u001b[0m \u001b[38;5;28mprint\u001b[39m(\u001b[38;5;124m'\u001b[39m\u001b[38;5;124mMy favorite season is \u001b[39m\u001b[38;5;124m'\u001b[39m, \u001b[43mseasons\u001b[49m\u001b[43m[\u001b[49m\u001b[38;5;241;43m4\u001b[39;49m\u001b[43m]\u001b[49m)\n",
      "\u001b[0;31mIndexError\u001b[0m: list index out of range"
     ]
    }
   ],
   "source": [
    "seasons = ['Spring', 'Summer', 'Fall', 'Winter']\n",
    "print('My favorite season is ', seasons[4])"
   ]
  },
  {
   "cell_type": "code",
   "execution_count": 217,
   "id": "2b13a7ae",
   "metadata": {},
   "outputs": [
    {
     "name": "stdout",
     "output_type": "stream",
     "text": [
      "My favorite season is  Winter\n"
     ]
    }
   ],
   "source": [
    "seasons = ['Spring', 'Summer', 'Fall', 'Winter']\n",
    "print('My favorite season is ', seasons[-1])"
   ]
  },
  {
   "cell_type": "markdown",
   "id": "ae437124",
   "metadata": {},
   "source": [
    "# Defensive Programming"
   ]
  },
  {
   "cell_type": "markdown",
   "id": "c9615f6e",
   "metadata": {},
   "source": [
    "**Assertions**"
   ]
  },
  {
   "cell_type": "code",
   "execution_count": 218,
   "id": "3fe45a13",
   "metadata": {},
   "outputs": [
    {
     "ename": "AssertionError",
     "evalue": "Data should only contain positive values",
     "output_type": "error",
     "traceback": [
      "\u001b[0;31m---------------------------------------------------------------------------\u001b[0m",
      "\u001b[0;31mAssertionError\u001b[0m                            Traceback (most recent call last)",
      "Input \u001b[0;32mIn [218]\u001b[0m, in \u001b[0;36m<cell line: 3>\u001b[0;34m()\u001b[0m\n\u001b[1;32m      2\u001b[0m total \u001b[38;5;241m=\u001b[39m \u001b[38;5;241m0.0\u001b[39m\n\u001b[1;32m      3\u001b[0m \u001b[38;5;28;01mfor\u001b[39;00m num \u001b[38;5;129;01min\u001b[39;00m numbers:\n\u001b[0;32m----> 4\u001b[0m     \u001b[38;5;28;01massert\u001b[39;00m num \u001b[38;5;241m>\u001b[39m \u001b[38;5;241m0.0\u001b[39m, \u001b[38;5;124m'\u001b[39m\u001b[38;5;124mData should only contain positive values\u001b[39m\u001b[38;5;124m'\u001b[39m\n\u001b[1;32m      5\u001b[0m     total \u001b[38;5;241m+\u001b[39m\u001b[38;5;241m=\u001b[39m num\n\u001b[1;32m      6\u001b[0m \u001b[38;5;28mprint\u001b[39m(\u001b[38;5;124m'\u001b[39m\u001b[38;5;124mtotal is:\u001b[39m\u001b[38;5;124m'\u001b[39m, total)\n",
      "\u001b[0;31mAssertionError\u001b[0m: Data should only contain positive values"
     ]
    }
   ],
   "source": [
    "numbers = [1.5, 2.3, 0.7, -0.001, 4.4]\n",
    "total = 0.0\n",
    "for num in numbers:\n",
    "    assert num > 0.0, 'Data should only contain positive values'\n",
    "    total += num\n",
    "print('total is:', total)"
   ]
  },
  {
   "cell_type": "code",
   "execution_count": 219,
   "id": "b784ba93",
   "metadata": {},
   "outputs": [],
   "source": [
    "def normalize_rectangle(rect):\n",
    "    \"\"\"Normalizes a rectangle so that it is at the origin and 1.0 units long on its longest axis.\n",
    "    Input should be of the format (x0, y0, x1, y1).\n",
    "    (x0, y0) and (x1, y1) define the lower left and upper right corners\n",
    "    of the rectangle, respectively.\"\"\"\n",
    "    assert len(rect) == 4, 'Rectangles must contain 4 coordinates'\n",
    "    x0, y0, x1, y1 = rect\n",
    "    assert x0 < x1, 'Invalid X coordinates'\n",
    "    assert y0 < y1, 'Invalid Y coordinates'\n",
    "\n",
    "    dx = x1 - x0\n",
    "    dy = y1 - y0\n",
    "    if dx > dy:\n",
    "        scaled = dx / dy\n",
    "        upper_x, upper_y = 1.0, scaled\n",
    "    else:\n",
    "        scaled = dx / dy\n",
    "        upper_x, upper_y = scaled, 1.0\n",
    "\n",
    "    assert 0 < upper_x <= 1.0, 'Calculated upper X coordinate invalid'\n",
    "    assert 0 < upper_y <= 1.0, 'Calculated upper Y coordinate invalid'\n",
    "\n",
    "    return (0, 0, upper_x, upper_y)"
   ]
  },
  {
   "cell_type": "code",
   "execution_count": 220,
   "id": "0c2f510b",
   "metadata": {},
   "outputs": [
    {
     "ename": "AssertionError",
     "evalue": "Rectangles must contain 4 coordinates",
     "output_type": "error",
     "traceback": [
      "\u001b[0;31m---------------------------------------------------------------------------\u001b[0m",
      "\u001b[0;31mAssertionError\u001b[0m                            Traceback (most recent call last)",
      "Input \u001b[0;32mIn [220]\u001b[0m, in \u001b[0;36m<cell line: 1>\u001b[0;34m()\u001b[0m\n\u001b[0;32m----> 1\u001b[0m \u001b[38;5;28mprint\u001b[39m(\u001b[43mnormalize_rectangle\u001b[49m\u001b[43m(\u001b[49m\u001b[43m \u001b[49m\u001b[43m(\u001b[49m\u001b[38;5;241;43m0.0\u001b[39;49m\u001b[43m,\u001b[49m\u001b[43m \u001b[49m\u001b[38;5;241;43m1.0\u001b[39;49m\u001b[43m,\u001b[49m\u001b[43m \u001b[49m\u001b[38;5;241;43m2.0\u001b[39;49m\u001b[43m)\u001b[49m\u001b[43m \u001b[49m\u001b[43m)\u001b[49m)\n",
      "Input \u001b[0;32mIn [219]\u001b[0m, in \u001b[0;36mnormalize_rectangle\u001b[0;34m(rect)\u001b[0m\n\u001b[1;32m      1\u001b[0m \u001b[38;5;28;01mdef\u001b[39;00m \u001b[38;5;21mnormalize_rectangle\u001b[39m(rect):\n\u001b[1;32m      2\u001b[0m     \u001b[38;5;124;03m\"\"\"Normalizes a rectangle so that it is at the origin and 1.0 units long on its longest axis.\u001b[39;00m\n\u001b[1;32m      3\u001b[0m \u001b[38;5;124;03m    Input should be of the format (x0, y0, x1, y1).\u001b[39;00m\n\u001b[1;32m      4\u001b[0m \u001b[38;5;124;03m    (x0, y0) and (x1, y1) define the lower left and upper right corners\u001b[39;00m\n\u001b[1;32m      5\u001b[0m \u001b[38;5;124;03m    of the rectangle, respectively.\"\"\"\u001b[39;00m\n\u001b[0;32m----> 6\u001b[0m     \u001b[38;5;28;01massert\u001b[39;00m \u001b[38;5;28mlen\u001b[39m(rect) \u001b[38;5;241m==\u001b[39m \u001b[38;5;241m4\u001b[39m, \u001b[38;5;124m'\u001b[39m\u001b[38;5;124mRectangles must contain 4 coordinates\u001b[39m\u001b[38;5;124m'\u001b[39m\n\u001b[1;32m      7\u001b[0m     x0, y0, x1, y1 \u001b[38;5;241m=\u001b[39m rect\n\u001b[1;32m      8\u001b[0m     \u001b[38;5;28;01massert\u001b[39;00m x0 \u001b[38;5;241m<\u001b[39m x1, \u001b[38;5;124m'\u001b[39m\u001b[38;5;124mInvalid X coordinates\u001b[39m\u001b[38;5;124m'\u001b[39m\n",
      "\u001b[0;31mAssertionError\u001b[0m: Rectangles must contain 4 coordinates"
     ]
    }
   ],
   "source": [
    "print(normalize_rectangle( (0.0, 1.0, 2.0) )) # missing the fourth coordinate"
   ]
  },
  {
   "cell_type": "code",
   "execution_count": 221,
   "id": "2e618e95",
   "metadata": {},
   "outputs": [
    {
     "ename": "AssertionError",
     "evalue": "Invalid X coordinates",
     "output_type": "error",
     "traceback": [
      "\u001b[0;31m---------------------------------------------------------------------------\u001b[0m",
      "\u001b[0;31mAssertionError\u001b[0m                            Traceback (most recent call last)",
      "Input \u001b[0;32mIn [221]\u001b[0m, in \u001b[0;36m<cell line: 1>\u001b[0;34m()\u001b[0m\n\u001b[0;32m----> 1\u001b[0m \u001b[38;5;28mprint\u001b[39m(\u001b[43mnormalize_rectangle\u001b[49m\u001b[43m(\u001b[49m\u001b[43m \u001b[49m\u001b[43m(\u001b[49m\u001b[38;5;241;43m4.0\u001b[39;49m\u001b[43m,\u001b[49m\u001b[43m \u001b[49m\u001b[38;5;241;43m2.0\u001b[39;49m\u001b[43m,\u001b[49m\u001b[43m \u001b[49m\u001b[38;5;241;43m1.0\u001b[39;49m\u001b[43m,\u001b[49m\u001b[43m \u001b[49m\u001b[38;5;241;43m5.0\u001b[39;49m\u001b[43m)\u001b[49m\u001b[43m \u001b[49m\u001b[43m)\u001b[49m)\n",
      "Input \u001b[0;32mIn [219]\u001b[0m, in \u001b[0;36mnormalize_rectangle\u001b[0;34m(rect)\u001b[0m\n\u001b[1;32m      6\u001b[0m \u001b[38;5;28;01massert\u001b[39;00m \u001b[38;5;28mlen\u001b[39m(rect) \u001b[38;5;241m==\u001b[39m \u001b[38;5;241m4\u001b[39m, \u001b[38;5;124m'\u001b[39m\u001b[38;5;124mRectangles must contain 4 coordinates\u001b[39m\u001b[38;5;124m'\u001b[39m\n\u001b[1;32m      7\u001b[0m x0, y0, x1, y1 \u001b[38;5;241m=\u001b[39m rect\n\u001b[0;32m----> 8\u001b[0m \u001b[38;5;28;01massert\u001b[39;00m x0 \u001b[38;5;241m<\u001b[39m x1, \u001b[38;5;124m'\u001b[39m\u001b[38;5;124mInvalid X coordinates\u001b[39m\u001b[38;5;124m'\u001b[39m\n\u001b[1;32m      9\u001b[0m \u001b[38;5;28;01massert\u001b[39;00m y0 \u001b[38;5;241m<\u001b[39m y1, \u001b[38;5;124m'\u001b[39m\u001b[38;5;124mInvalid Y coordinates\u001b[39m\u001b[38;5;124m'\u001b[39m\n\u001b[1;32m     11\u001b[0m dx \u001b[38;5;241m=\u001b[39m x1 \u001b[38;5;241m-\u001b[39m x0\n",
      "\u001b[0;31mAssertionError\u001b[0m: Invalid X coordinates"
     ]
    }
   ],
   "source": [
    "print(normalize_rectangle( (4.0, 2.0, 1.0, 5.0) )) # X axis inverted"
   ]
  },
  {
   "cell_type": "code",
   "execution_count": 222,
   "id": "e0b776d7",
   "metadata": {},
   "outputs": [
    {
     "name": "stdout",
     "output_type": "stream",
     "text": [
      "(0, 0, 0.2, 1.0)\n"
     ]
    }
   ],
   "source": [
    "print(normalize_rectangle( (0.0, 0.0, 1.0, 5.0) ))\n"
   ]
  },
  {
   "cell_type": "code",
   "execution_count": 223,
   "id": "f2a8c777",
   "metadata": {},
   "outputs": [
    {
     "ename": "AssertionError",
     "evalue": "Calculated upper Y coordinate invalid",
     "output_type": "error",
     "traceback": [
      "\u001b[0;31m---------------------------------------------------------------------------\u001b[0m",
      "\u001b[0;31mAssertionError\u001b[0m                            Traceback (most recent call last)",
      "Input \u001b[0;32mIn [223]\u001b[0m, in \u001b[0;36m<cell line: 1>\u001b[0;34m()\u001b[0m\n\u001b[0;32m----> 1\u001b[0m \u001b[38;5;28mprint\u001b[39m(\u001b[43mnormalize_rectangle\u001b[49m\u001b[43m(\u001b[49m\u001b[43m \u001b[49m\u001b[43m(\u001b[49m\u001b[38;5;241;43m0.0\u001b[39;49m\u001b[43m,\u001b[49m\u001b[43m \u001b[49m\u001b[38;5;241;43m0.0\u001b[39;49m\u001b[43m,\u001b[49m\u001b[43m \u001b[49m\u001b[38;5;241;43m5.0\u001b[39;49m\u001b[43m,\u001b[49m\u001b[43m \u001b[49m\u001b[38;5;241;43m1.0\u001b[39;49m\u001b[43m)\u001b[49m\u001b[43m \u001b[49m\u001b[43m)\u001b[49m)\n",
      "Input \u001b[0;32mIn [219]\u001b[0m, in \u001b[0;36mnormalize_rectangle\u001b[0;34m(rect)\u001b[0m\n\u001b[1;32m     18\u001b[0m     upper_x, upper_y \u001b[38;5;241m=\u001b[39m scaled, \u001b[38;5;241m1.0\u001b[39m\n\u001b[1;32m     20\u001b[0m \u001b[38;5;28;01massert\u001b[39;00m \u001b[38;5;241m0\u001b[39m \u001b[38;5;241m<\u001b[39m upper_x \u001b[38;5;241m<\u001b[39m\u001b[38;5;241m=\u001b[39m \u001b[38;5;241m1.0\u001b[39m, \u001b[38;5;124m'\u001b[39m\u001b[38;5;124mCalculated upper X coordinate invalid\u001b[39m\u001b[38;5;124m'\u001b[39m\n\u001b[0;32m---> 21\u001b[0m \u001b[38;5;28;01massert\u001b[39;00m \u001b[38;5;241m0\u001b[39m \u001b[38;5;241m<\u001b[39m upper_y \u001b[38;5;241m<\u001b[39m\u001b[38;5;241m=\u001b[39m \u001b[38;5;241m1.0\u001b[39m, \u001b[38;5;124m'\u001b[39m\u001b[38;5;124mCalculated upper Y coordinate invalid\u001b[39m\u001b[38;5;124m'\u001b[39m\n\u001b[1;32m     23\u001b[0m \u001b[38;5;28;01mreturn\u001b[39;00m (\u001b[38;5;241m0\u001b[39m, \u001b[38;5;241m0\u001b[39m, upper_x, upper_y)\n",
      "\u001b[0;31mAssertionError\u001b[0m: Calculated upper Y coordinate invalid"
     ]
    }
   ],
   "source": [
    "print(normalize_rectangle( (0.0, 0.0, 5.0, 1.0) ))\n"
   ]
  },
  {
   "cell_type": "markdown",
   "id": "c09f8fc1",
   "metadata": {},
   "source": [
    "Re-reading our function, we realize that line 14 should divide dy by dx rather than dx by dy. In a Jupyter notebook, you can display line numbers by typing Ctrl+M followed by L. If we had left out the assertion at the end of the function, we would have created and returned something that had the right shape as a valid answer, but wasn’t. Detecting and debugging that would almost certainly have taken more time in the long run than writing the assertion."
   ]
  },
  {
   "cell_type": "markdown",
   "id": "28bb8e5b",
   "metadata": {},
   "source": [
    "**Test Driven Development**"
   ]
  },
  {
   "cell_type": "code",
   "execution_count": 224,
   "id": "f3144992",
   "metadata": {},
   "outputs": [],
   "source": [
    "def range_overlap(ranges):\n",
    "    pass"
   ]
  },
  {
   "cell_type": "code",
   "execution_count": 225,
   "id": "1dd3f70f",
   "metadata": {},
   "outputs": [
    {
     "ename": "AssertionError",
     "evalue": "",
     "output_type": "error",
     "traceback": [
      "\u001b[0;31m---------------------------------------------------------------------------\u001b[0m",
      "\u001b[0;31mAssertionError\u001b[0m                            Traceback (most recent call last)",
      "Input \u001b[0;32mIn [225]\u001b[0m, in \u001b[0;36m<cell line: 1>\u001b[0;34m()\u001b[0m\n\u001b[0;32m----> 1\u001b[0m \u001b[38;5;28;01massert\u001b[39;00m range_overlap([ (\u001b[38;5;241m0.0\u001b[39m, \u001b[38;5;241m1.0\u001b[39m) ]) \u001b[38;5;241m==\u001b[39m (\u001b[38;5;241m0.0\u001b[39m, \u001b[38;5;241m1.0\u001b[39m)\n\u001b[1;32m      2\u001b[0m \u001b[38;5;28;01massert\u001b[39;00m range_overlap([ (\u001b[38;5;241m2.0\u001b[39m, \u001b[38;5;241m3.0\u001b[39m), (\u001b[38;5;241m2.0\u001b[39m, \u001b[38;5;241m4.0\u001b[39m) ]) \u001b[38;5;241m==\u001b[39m (\u001b[38;5;241m2.0\u001b[39m, \u001b[38;5;241m3.0\u001b[39m)\n\u001b[1;32m      3\u001b[0m \u001b[38;5;28;01massert\u001b[39;00m range_overlap([ (\u001b[38;5;241m0.0\u001b[39m, \u001b[38;5;241m1.0\u001b[39m), (\u001b[38;5;241m0.0\u001b[39m, \u001b[38;5;241m2.0\u001b[39m), (\u001b[38;5;241m-\u001b[39m\u001b[38;5;241m1.0\u001b[39m, \u001b[38;5;241m1.0\u001b[39m) ]) \u001b[38;5;241m==\u001b[39m (\u001b[38;5;241m0.0\u001b[39m, \u001b[38;5;241m1.0\u001b[39m)\n",
      "\u001b[0;31mAssertionError\u001b[0m: "
     ]
    }
   ],
   "source": [
    "assert range_overlap([ (0.0, 1.0) ]) == (0.0, 1.0)\n",
    "assert range_overlap([ (2.0, 3.0), (2.0, 4.0) ]) == (2.0, 3.0)\n",
    "assert range_overlap([ (0.0, 1.0), (0.0, 2.0), (-1.0, 1.0) ]) == (0.0, 1.0)"
   ]
  },
  {
   "cell_type": "code",
   "execution_count": 226,
   "id": "0300a4e4",
   "metadata": {},
   "outputs": [
    {
     "ename": "SyntaxError",
     "evalue": "invalid syntax (4101968860.py, line 1)",
     "output_type": "error",
     "traceback": [
      "\u001b[0;36m  Input \u001b[0;32mIn [226]\u001b[0;36m\u001b[0m\n\u001b[0;31m    assert range_overlap([ (0.0, 1.0), (5.0, 6.0) ]) == ???\u001b[0m\n\u001b[0m                                                        ^\u001b[0m\n\u001b[0;31mSyntaxError\u001b[0m\u001b[0;31m:\u001b[0m invalid syntax\n"
     ]
    }
   ],
   "source": [
    "assert range_overlap([ (0.0, 1.0), (5.0, 6.0) ]) == ???\n"
   ]
  },
  {
   "cell_type": "code",
   "execution_count": 227,
   "id": "750ad152",
   "metadata": {},
   "outputs": [
    {
     "ename": "SyntaxError",
     "evalue": "invalid syntax (2526981338.py, line 1)",
     "output_type": "error",
     "traceback": [
      "\u001b[0;36m  Input \u001b[0;32mIn [227]\u001b[0;36m\u001b[0m\n\u001b[0;31m    assert range_overlap([ (0.0, 1.0), (1.0, 2.0) ]) == ???\u001b[0m\n\u001b[0m                                                        ^\u001b[0m\n\u001b[0;31mSyntaxError\u001b[0m\u001b[0;31m:\u001b[0m invalid syntax\n"
     ]
    }
   ],
   "source": [
    "assert range_overlap([ (0.0, 1.0), (1.0, 2.0) ]) == ???"
   ]
  },
  {
   "cell_type": "code",
   "execution_count": 228,
   "id": "ee9b659f",
   "metadata": {},
   "outputs": [],
   "source": [
    "assert range_overlap([ (0.0, 1.0), (5.0, 6.0) ]) == None\n",
    "assert range_overlap([ (0.0, 1.0), (1.0, 2.0) ]) == None"
   ]
  },
  {
   "cell_type": "code",
   "execution_count": 229,
   "id": "14a4899c",
   "metadata": {},
   "outputs": [],
   "source": [
    "def range_overlap(ranges):\n",
    "    \"\"\"Return common overlap among a set of [left, right] ranges.\"\"\"\n",
    "    max_left = 0.0\n",
    "    min_right = 1.0\n",
    "    for (left, right) in ranges:\n",
    "        max_left = max(max_left, left)\n",
    "        min_right = min(min_right, right)\n",
    "    return (max_left, min_right)"
   ]
  },
  {
   "cell_type": "code",
   "execution_count": 230,
   "id": "e6498430",
   "metadata": {},
   "outputs": [],
   "source": [
    "def test_range_overlap():\n",
    "    assert range_overlap([ (0.0, 1.0), (5.0, 6.0) ]) == None\n",
    "    assert range_overlap([ (0.0, 1.0), (1.0, 2.0) ]) == None\n",
    "    assert range_overlap([ (0.0, 1.0) ]) == (0.0, 1.0)\n",
    "    assert range_overlap([ (2.0, 3.0), (2.0, 4.0) ]) == (2.0, 3.0)\n",
    "    assert range_overlap([ (0.0, 1.0), (0.0, 2.0), (-1.0, 1.0) ]) == (0.0, 1.0)\n",
    "    assert range_overlap([]) == None"
   ]
  },
  {
   "cell_type": "code",
   "execution_count": 231,
   "id": "7fed3933",
   "metadata": {},
   "outputs": [
    {
     "ename": "AssertionError",
     "evalue": "",
     "output_type": "error",
     "traceback": [
      "\u001b[0;31m---------------------------------------------------------------------------\u001b[0m",
      "\u001b[0;31mAssertionError\u001b[0m                            Traceback (most recent call last)",
      "Input \u001b[0;32mIn [231]\u001b[0m, in \u001b[0;36m<cell line: 1>\u001b[0;34m()\u001b[0m\n\u001b[0;32m----> 1\u001b[0m \u001b[43mtest_range_overlap\u001b[49m\u001b[43m(\u001b[49m\u001b[43m)\u001b[49m\n",
      "Input \u001b[0;32mIn [230]\u001b[0m, in \u001b[0;36mtest_range_overlap\u001b[0;34m()\u001b[0m\n\u001b[1;32m      1\u001b[0m \u001b[38;5;28;01mdef\u001b[39;00m \u001b[38;5;21mtest_range_overlap\u001b[39m():\n\u001b[0;32m----> 2\u001b[0m     \u001b[38;5;28;01massert\u001b[39;00m range_overlap([ (\u001b[38;5;241m0.0\u001b[39m, \u001b[38;5;241m1.0\u001b[39m), (\u001b[38;5;241m5.0\u001b[39m, \u001b[38;5;241m6.0\u001b[39m) ]) \u001b[38;5;241m==\u001b[39m \u001b[38;5;28;01mNone\u001b[39;00m\n\u001b[1;32m      3\u001b[0m     \u001b[38;5;28;01massert\u001b[39;00m range_overlap([ (\u001b[38;5;241m0.0\u001b[39m, \u001b[38;5;241m1.0\u001b[39m), (\u001b[38;5;241m1.0\u001b[39m, \u001b[38;5;241m2.0\u001b[39m) ]) \u001b[38;5;241m==\u001b[39m \u001b[38;5;28;01mNone\u001b[39;00m\n\u001b[1;32m      4\u001b[0m     \u001b[38;5;28;01massert\u001b[39;00m range_overlap([ (\u001b[38;5;241m0.0\u001b[39m, \u001b[38;5;241m1.0\u001b[39m) ]) \u001b[38;5;241m==\u001b[39m (\u001b[38;5;241m0.0\u001b[39m, \u001b[38;5;241m1.0\u001b[39m)\n",
      "\u001b[0;31mAssertionError\u001b[0m: "
     ]
    }
   ],
   "source": [
    "test_range_overlap()"
   ]
  },
  {
   "cell_type": "markdown",
   "id": "9d2fc2f4",
   "metadata": {},
   "source": [
    "**PRE- AND POST- CONDITIONS**"
   ]
  },
  {
   "cell_type": "markdown",
   "id": "3b15ac63",
   "metadata": {},
   "source": [
    "Suppose you are writing a function called average that calculates the average of the numbers in a list. What pre-conditions and post-conditions would you write for it? Compare your answer to your neighbor’s: can you think of a function that will pass your tests but not his/hers or vice versa?"
   ]
  },
  {
   "cell_type": "code",
   "execution_count": 232,
   "id": "709ffeb9",
   "metadata": {},
   "outputs": [
    {
     "ename": "NameError",
     "evalue": "name 'input_list' is not defined",
     "output_type": "error",
     "traceback": [
      "\u001b[0;31m---------------------------------------------------------------------------\u001b[0m",
      "\u001b[0;31mNameError\u001b[0m                                 Traceback (most recent call last)",
      "Input \u001b[0;32mIn [232]\u001b[0m, in \u001b[0;36m<cell line: 2>\u001b[0;34m()\u001b[0m\n\u001b[1;32m      1\u001b[0m \u001b[38;5;66;03m# a possible pre-condition:\u001b[39;00m\n\u001b[0;32m----> 2\u001b[0m \u001b[38;5;28;01massert\u001b[39;00m \u001b[38;5;28mlen\u001b[39m(\u001b[43minput_list\u001b[49m) \u001b[38;5;241m>\u001b[39m \u001b[38;5;241m0\u001b[39m, \u001b[38;5;124m'\u001b[39m\u001b[38;5;124mList length must be non-zero\u001b[39m\u001b[38;5;124m'\u001b[39m\n\u001b[1;32m      3\u001b[0m \u001b[38;5;66;03m# a possible post-condition:\u001b[39;00m\n\u001b[1;32m      4\u001b[0m \u001b[38;5;28;01massert\u001b[39;00m numpy\u001b[38;5;241m.\u001b[39mamin(input_list) \u001b[38;5;241m<\u001b[39m\u001b[38;5;241m=\u001b[39m average \u001b[38;5;241m<\u001b[39m\u001b[38;5;241m=\u001b[39m numpy\u001b[38;5;241m.\u001b[39mamax(input_list),\u001b[38;5;124m'\u001b[39m\u001b[38;5;124mAverage should be between min and max of input values (inclusive)\u001b[39m\u001b[38;5;124m'\u001b[39m\n",
      "\u001b[0;31mNameError\u001b[0m: name 'input_list' is not defined"
     ]
    }
   ],
   "source": [
    "# a possible pre-condition:\n",
    "assert len(input_list) > 0, 'List length must be non-zero'\n",
    "# a possible post-condition:\n",
    "assert numpy.amin(input_list) <= average <= numpy.amax(input_list),'Average should be between min and max of input values (inclusive)'"
   ]
  },
  {
   "cell_type": "markdown",
   "id": "57e9e868",
   "metadata": {},
   "source": [
    "**Testing assertions**"
   ]
  },
  {
   "cell_type": "code",
   "execution_count": 233,
   "id": "87f0ed18",
   "metadata": {},
   "outputs": [],
   "source": [
    "def get_total_cars(values):\n",
    "    assert len(values) > 0\n",
    "    for element in values:\n",
    "        assert int(element)\n",
    "    values = [int(element) for element in values]\n",
    "    total = sum(values)\n",
    "    assert total > 0\n",
    "    return total"
   ]
  },
  {
   "cell_type": "code",
   "execution_count": 234,
   "id": "f3cfa0b7",
   "metadata": {},
   "outputs": [
    {
     "data": {
      "text/plain": [
       "10"
      ]
     },
     "execution_count": 234,
     "metadata": {},
     "output_type": "execute_result"
    }
   ],
   "source": [
    "get_total_cars([1, 2, 3, 4])"
   ]
  },
  {
   "cell_type": "code",
   "execution_count": 235,
   "id": "2587c52d",
   "metadata": {},
   "outputs": [
    {
     "ename": "ValueError",
     "evalue": "invalid literal for int() with base 10: 'a'",
     "output_type": "error",
     "traceback": [
      "\u001b[0;31m---------------------------------------------------------------------------\u001b[0m",
      "\u001b[0;31mValueError\u001b[0m                                Traceback (most recent call last)",
      "Input \u001b[0;32mIn [235]\u001b[0m, in \u001b[0;36m<cell line: 1>\u001b[0;34m()\u001b[0m\n\u001b[0;32m----> 1\u001b[0m \u001b[43mget_total_cars\u001b[49m\u001b[43m(\u001b[49m\u001b[43m[\u001b[49m\u001b[38;5;124;43m'\u001b[39;49m\u001b[38;5;124;43ma\u001b[39;49m\u001b[38;5;124;43m'\u001b[39;49m\u001b[43m,\u001b[49m\u001b[43m \u001b[49m\u001b[38;5;124;43m'\u001b[39;49m\u001b[38;5;124;43mb\u001b[39;49m\u001b[38;5;124;43m'\u001b[39;49m\u001b[43m,\u001b[49m\u001b[43m \u001b[49m\u001b[38;5;124;43m'\u001b[39;49m\u001b[38;5;124;43mc\u001b[39;49m\u001b[38;5;124;43m'\u001b[39;49m\u001b[43m]\u001b[49m\u001b[43m)\u001b[49m\n",
      "Input \u001b[0;32mIn [233]\u001b[0m, in \u001b[0;36mget_total_cars\u001b[0;34m(values)\u001b[0m\n\u001b[1;32m      2\u001b[0m \u001b[38;5;28;01massert\u001b[39;00m \u001b[38;5;28mlen\u001b[39m(values) \u001b[38;5;241m>\u001b[39m \u001b[38;5;241m0\u001b[39m\n\u001b[1;32m      3\u001b[0m \u001b[38;5;28;01mfor\u001b[39;00m element \u001b[38;5;129;01min\u001b[39;00m values:\n\u001b[0;32m----> 4\u001b[0m     \u001b[38;5;28;01massert\u001b[39;00m \u001b[38;5;28;43mint\u001b[39;49m\u001b[43m(\u001b[49m\u001b[43melement\u001b[49m\u001b[43m)\u001b[49m\n\u001b[1;32m      5\u001b[0m values \u001b[38;5;241m=\u001b[39m [\u001b[38;5;28mint\u001b[39m(element) \u001b[38;5;28;01mfor\u001b[39;00m element \u001b[38;5;129;01min\u001b[39;00m values]\n\u001b[1;32m      6\u001b[0m total \u001b[38;5;241m=\u001b[39m \u001b[38;5;28msum\u001b[39m(values)\n",
      "\u001b[0;31mValueError\u001b[0m: invalid literal for int() with base 10: 'a'"
     ]
    }
   ],
   "source": [
    "get_total_cars(['a', 'b', 'c'])"
   ]
  },
  {
   "cell_type": "markdown",
   "id": "bba53f18",
   "metadata": {},
   "source": [
    "# Debugging"
   ]
  },
  {
   "cell_type": "markdown",
   "id": "4edb79b2",
   "metadata": {},
   "source": [
    "**Know What It's Supposed to Do**"
   ]
  },
  {
   "cell_type": "markdown",
   "id": "043ab46b",
   "metadata": {},
   "source": [
    "1. Test with simplified data \n",
    "2. Test a simplified case \n",
    "3. Compare to an oracle \n",
    "4. Check conservation laws \n",
    "5. Visualize"
   ]
  },
  {
   "cell_type": "markdown",
   "id": "2bf0591b",
   "metadata": {},
   "source": [
    "**Make It Fail Every Time**"
   ]
  },
  {
   "cell_type": "markdown",
   "id": "fe0ebf89",
   "metadata": {},
   "source": [
    "**Make It Fail Fast**"
   ]
  },
  {
   "cell_type": "markdown",
   "id": "ccb37acf",
   "metadata": {},
   "source": [
    "**Change One Thing at a Time**"
   ]
  },
  {
   "cell_type": "markdown",
   "id": "045c964b",
   "metadata": {},
   "source": [
    "**Keep Track of What You've Done**"
   ]
  },
  {
   "cell_type": "markdown",
   "id": "ae4a5ccd",
   "metadata": {},
   "source": [
    "**Be Humble**"
   ]
  },
  {
   "cell_type": "code",
   "execution_count": 236,
   "id": "04aea07a",
   "metadata": {},
   "outputs": [
    {
     "name": "stdout",
     "output_type": "stream",
     "text": [
      "Patient's BMI is: 0.00036734693877551024\n",
      "Patient's BMI is: 0.00036734693877551024\n",
      "Patient's BMI is: 0.00036734693877551024\n"
     ]
    }
   ],
   "source": [
    "patients = [[70, 1.8], [80, 1.9], [150, 1.7]]\n",
    "\n",
    "def calculate_bmi(weight, height):\n",
    "    return weight / (height ** 2)\n",
    "\n",
    "for patient in patients:\n",
    "    weight, height = patients[0]\n",
    "    bmi = calculate_bmi(height, weight)\n",
    "    print(\"Patient's BMI is:\", bmi)"
   ]
  },
  {
   "cell_type": "markdown",
   "id": "9d6d809c",
   "metadata": {},
   "source": [
    "Suggestions for debugging\n",
    "* Add printing statement in the calculate_bmi function, like print('weight:', weight, 'height:', height), to make clear that what the BMI is based on.\n",
    "* Change print(\"Patient's BMI is: %f\" % bmi) to print(\"Patient's BMI (weight: %f, height: %f) is: %f\" % (weight, height, bmi)), in order to be able to distinguish bugs in the function from bugs in the loop.\n",
    "Bugs found\n",
    "* The loop is not being utilised correctly. height and weight are always set as the first patient’s data during each iteration of the loop.\n",
    "\n",
    "* The height/weight variables are reversed in the function call to calculate_bmi(...), the correct BMIs are 21.604938, 22.160665 and 51.903114."
   ]
  },
  {
   "cell_type": "markdown",
   "id": "8d8d1e59",
   "metadata": {},
   "source": [
    "# Command-Line Programs"
   ]
  },
  {
   "cell_type": "markdown",
   "id": "14db5967",
   "metadata": {},
   "source": [
    "SWITCHING TO SHELL COMMANDS\n",
    "In this lesson we are switching from typing commands in a Python interpreter to typing commands in a shell terminal window (such as bash). When you see a $ in front of a command that tells you to run that command in the shell rather than the Python interpreter."
   ]
  },
  {
   "cell_type": "code",
   "execution_count": 276,
   "id": "1992e989",
   "metadata": {},
   "outputs": [
    {
     "name": "stdout",
     "output_type": "stream",
     "text": [
      "5.45\r\n",
      "5.425\r\n",
      "6.1\r\n",
      "5.9\r\n",
      "5.55\r\n",
      "6.225\r\n",
      "5.975\r\n",
      "6.65\r\n",
      "6.625\r\n",
      "6.525\r\n",
      "6.775\r\n",
      "5.8\r\n",
      "6.225\r\n",
      "5.75\r\n",
      "5.225\r\n",
      "6.3\r\n",
      "6.55\r\n",
      "5.7\r\n",
      "5.85\r\n",
      "6.55\r\n",
      "5.775\r\n",
      "5.825\r\n",
      "6.175\r\n",
      "6.1\r\n",
      "5.8\r\n",
      "6.425\r\n",
      "6.05\r\n",
      "6.025\r\n",
      "6.175\r\n",
      "6.55\r\n",
      "6.175\r\n",
      "6.35\r\n",
      "6.725\r\n",
      "6.125\r\n",
      "7.075\r\n",
      "5.725\r\n",
      "5.925\r\n",
      "6.15\r\n",
      "6.075\r\n",
      "5.75\r\n",
      "5.975\r\n",
      "5.725\r\n",
      "6.3\r\n",
      "5.9\r\n",
      "6.75\r\n",
      "5.925\r\n",
      "7.225\r\n",
      "6.15\r\n",
      "5.95\r\n",
      "6.275\r\n",
      "5.7\r\n",
      "6.1\r\n",
      "6.825\r\n",
      "5.975\r\n",
      "6.725\r\n",
      "5.7\r\n",
      "6.25\r\n",
      "6.4\r\n",
      "7.05\r\n",
      "5.9\r\n"
     ]
    }
   ],
   "source": [
    "! python ../code/readings_04.py --mean inflammation-01.csv"
   ]
  },
  {
   "cell_type": "code",
   "execution_count": 277,
   "id": "08c53d6f",
   "metadata": {},
   "outputs": [
    {
     "name": "stdout",
     "output_type": "stream",
     "text": [
      "0.0\r\n",
      "0.0\r\n",
      "0.0\r\n",
      "0.0\r\n"
     ]
    }
   ],
   "source": [
    "! head -4 inflammation-01.csv | python ../code/readings_06.py --min"
   ]
  },
  {
   "cell_type": "code",
   "execution_count": 278,
   "id": "b9bc8f0d",
   "metadata": {},
   "outputs": [
    {
     "name": "stdout",
     "output_type": "stream",
     "text": [
      "18.0\r\n",
      "18.0\r\n",
      "19.0\r\n",
      "17.0\r\n",
      "17.0\r\n",
      "18.0\r\n",
      "17.0\r\n",
      "20.0\r\n",
      "17.0\r\n",
      "18.0\r\n",
      "18.0\r\n",
      "18.0\r\n",
      "17.0\r\n",
      "16.0\r\n",
      "17.0\r\n",
      "18.0\r\n",
      "19.0\r\n",
      "19.0\r\n",
      "17.0\r\n",
      "19.0\r\n",
      "19.0\r\n",
      "16.0\r\n",
      "17.0\r\n",
      "15.0\r\n",
      "17.0\r\n",
      "17.0\r\n",
      "18.0\r\n",
      "17.0\r\n",
      "20.0\r\n",
      "17.0\r\n",
      "16.0\r\n",
      "19.0\r\n",
      "15.0\r\n",
      "15.0\r\n",
      "19.0\r\n",
      "17.0\r\n",
      "16.0\r\n",
      "17.0\r\n",
      "19.0\r\n",
      "16.0\r\n",
      "18.0\r\n",
      "19.0\r\n",
      "16.0\r\n",
      "19.0\r\n",
      "18.0\r\n",
      "16.0\r\n",
      "19.0\r\n",
      "15.0\r\n",
      "16.0\r\n",
      "18.0\r\n",
      "14.0\r\n",
      "20.0\r\n",
      "17.0\r\n",
      "15.0\r\n",
      "17.0\r\n",
      "16.0\r\n",
      "17.0\r\n",
      "19.0\r\n",
      "18.0\r\n",
      "18.0\r\n",
      "15.0\r\n",
      "15.0\r\n",
      "18.0\r\n",
      "18.0\r\n",
      "19.0\r\n",
      "18.0\r\n",
      "17.0\r\n",
      "14.0\r\n",
      "14.0\r\n",
      "18.0\r\n",
      "15.0\r\n",
      "18.0\r\n",
      "19.0\r\n",
      "19.0\r\n",
      "17.0\r\n",
      "17.0\r\n",
      "15.0\r\n",
      "17.0\r\n",
      "20.0\r\n",
      "14.0\r\n",
      "14.0\r\n",
      "14.0\r\n",
      "19.0\r\n",
      "16.0\r\n",
      "17.0\r\n",
      "17.0\r\n",
      "14.0\r\n",
      "14.0\r\n",
      "15.0\r\n",
      "19.0\r\n",
      "17.0\r\n",
      "18.0\r\n",
      "19.0\r\n",
      "15.0\r\n",
      "19.0\r\n",
      "15.0\r\n",
      "17.0\r\n",
      "16.0\r\n",
      "20.0\r\n",
      "16.0\r\n",
      "17.0\r\n",
      "18.0\r\n",
      "18.0\r\n",
      "19.0\r\n",
      "17.0\r\n",
      "17.0\r\n",
      "18.0\r\n",
      "18.0\r\n",
      "17.0\r\n",
      "19.0\r\n",
      "15.0\r\n",
      "18.0\r\n",
      "14.0\r\n",
      "17.0\r\n",
      "19.0\r\n",
      "16.0\r\n",
      "17.0\r\n",
      "19.0\r\n",
      "20.0\r\n",
      "18.0\r\n",
      "15.0\r\n",
      "17.0\r\n",
      "14.0\r\n",
      "13.0\r\n",
      "15.0\r\n",
      "15.0\r\n",
      "16.0\r\n",
      "17.0\r\n",
      "16.0\r\n",
      "19.0\r\n",
      "14.0\r\n",
      "14.0\r\n",
      "16.0\r\n",
      "14.0\r\n",
      "16.0\r\n",
      "15.0\r\n",
      "14.0\r\n",
      "18.0\r\n",
      "16.0\r\n",
      "16.0\r\n",
      "20.0\r\n",
      "20.0\r\n",
      "16.0\r\n",
      "15.0\r\n",
      "16.0\r\n",
      "15.0\r\n",
      "19.0\r\n",
      "16.0\r\n",
      "17.0\r\n",
      "18.0\r\n",
      "15.0\r\n",
      "16.0\r\n",
      "20.0\r\n",
      "16.0\r\n",
      "17.0\r\n",
      "15.0\r\n",
      "20.0\r\n",
      "16.0\r\n",
      "18.0\r\n",
      "18.0\r\n",
      "17.0\r\n",
      "18.0\r\n",
      "16.0\r\n",
      "15.0\r\n",
      "19.0\r\n",
      "15.0\r\n",
      "16.0\r\n",
      "15.0\r\n",
      "16.0\r\n",
      "19.0\r\n",
      "14.0\r\n",
      "19.0\r\n",
      "13.0\r\n",
      "15.0\r\n",
      "18.0\r\n",
      "19.0\r\n",
      "14.0\r\n",
      "16.0\r\n",
      "17.0\r\n",
      "0.0\r\n",
      "17.0\r\n",
      "17.0\r\n",
      "17.0\r\n",
      "17.0\r\n",
      "18.0\r\n",
      "18.0\r\n",
      "19.0\r\n",
      "20.0\r\n",
      "16.0\r\n",
      "19.0\r\n",
      "19.0\r\n",
      "20.0\r\n",
      "16.0\r\n",
      "16.0\r\n",
      "17.0\r\n",
      "20.0\r\n",
      "19.0\r\n",
      "17.0\r\n",
      "19.0\r\n",
      "18.0\r\n",
      "19.0\r\n",
      "18.0\r\n",
      "19.0\r\n",
      "17.0\r\n",
      "17.0\r\n",
      "16.0\r\n",
      "17.0\r\n",
      "16.0\r\n",
      "17.0\r\n",
      "20.0\r\n",
      "19.0\r\n",
      "18.0\r\n",
      "16.0\r\n",
      "15.0\r\n",
      "16.0\r\n",
      "19.0\r\n",
      "17.0\r\n",
      "15.0\r\n",
      "15.0\r\n",
      "20.0\r\n",
      "16.0\r\n",
      "19.0\r\n",
      "14.0\r\n",
      "18.0\r\n",
      "18.0\r\n",
      "16.0\r\n",
      "17.0\r\n",
      "19.0\r\n",
      "17.0\r\n",
      "17.0\r\n",
      "15.0\r\n",
      "20.0\r\n",
      "20.0\r\n",
      "18.0\r\n",
      "17.0\r\n",
      "17.0\r\n",
      "18.0\r\n",
      "16.0\r\n",
      "17.0\r\n",
      "18.0\r\n",
      "15.0\r\n",
      "17.0\r\n",
      "18.0\r\n",
      "20.0\r\n",
      "18.0\r\n",
      "20.0\r\n",
      "16.0\r\n",
      "17.0\r\n",
      "16.0\r\n",
      "18.0\r\n",
      "19.0\r\n",
      "15.0\r\n",
      "16.0\r\n",
      "15.0\r\n",
      "13.0\r\n",
      "19.0\r\n",
      "18.0\r\n",
      "18.0\r\n",
      "18.0\r\n",
      "18.0\r\n",
      "17.0\r\n",
      "17.0\r\n",
      "17.0\r\n",
      "18.0\r\n",
      "16.0\r\n",
      "19.0\r\n",
      "18.0\r\n",
      "16.0\r\n",
      "16.0\r\n",
      "18.0\r\n",
      "15.0\r\n",
      "19.0\r\n",
      "19.0\r\n",
      "17.0\r\n",
      "16.0\r\n",
      "20.0\r\n",
      "16.0\r\n",
      "17.0\r\n",
      "18.0\r\n",
      "17.0\r\n",
      "15.0\r\n",
      "19.0\r\n",
      "18.0\r\n",
      "15.0\r\n",
      "14.0\r\n",
      "17.0\r\n",
      "17.0\r\n",
      "20.0\r\n",
      "17.0\r\n",
      "19.0\r\n",
      "18.0\r\n",
      "16.0\r\n",
      "17.0\r\n",
      "19.0\r\n",
      "19.0\r\n",
      "16.0\r\n",
      "12.0\r\n",
      "15.0\r\n",
      "17.0\r\n",
      "19.0\r\n",
      "19.0\r\n",
      "18.0\r\n",
      "16.0\r\n",
      "18.0\r\n",
      "18.0\r\n",
      "18.0\r\n",
      "18.0\r\n",
      "18.0\r\n",
      "16.0\r\n",
      "15.0\r\n",
      "20.0\r\n",
      "14.0\r\n",
      "18.0\r\n",
      "19.0\r\n",
      "18.0\r\n",
      "16.0\r\n",
      "18.0\r\n",
      "18.0\r\n",
      "19.0\r\n",
      "19.0\r\n",
      "16.0\r\n",
      "17.0\r\n",
      "17.0\r\n",
      "17.0\r\n",
      "17.0\r\n",
      "14.0\r\n",
      "11.0\r\n",
      "18.0\r\n",
      "17.0\r\n",
      "18.0\r\n",
      "17.0\r\n",
      "16.0\r\n",
      "16.0\r\n",
      "17.0\r\n",
      "18.0\r\n",
      "19.0\r\n",
      "17.0\r\n",
      "17.0\r\n",
      "18.0\r\n",
      "18.0\r\n",
      "20.0\r\n",
      "18.0\r\n",
      "17.0\r\n",
      "17.0\r\n",
      "15.0\r\n",
      "18.0\r\n",
      "17.0\r\n",
      "18.0\r\n",
      "16.0\r\n",
      "17.0\r\n",
      "18.0\r\n",
      "17.0\r\n",
      "17.0\r\n",
      "15.0\r\n",
      "18.0\r\n",
      "16.0\r\n",
      "14.0\r\n",
      "18.0\r\n",
      "18.0\r\n",
      "16.0\r\n",
      "18.0\r\n",
      "16.0\r\n",
      "14.0\r\n",
      "18.0\r\n",
      "17.0\r\n",
      "17.0\r\n",
      "19.0\r\n",
      "18.0\r\n",
      "16.0\r\n",
      "17.0\r\n",
      "14.0\r\n",
      "16.0\r\n",
      "18.0\r\n",
      "17.0\r\n",
      "19.0\r\n",
      "13.0\r\n",
      "16.0\r\n",
      "17.0\r\n",
      "17.0\r\n",
      "20.0\r\n",
      "20.0\r\n",
      "16.0\r\n",
      "16.0\r\n",
      "20.0\r\n",
      "17.0\r\n",
      "19.0\r\n",
      "19.0\r\n",
      "19.0\r\n",
      "17.0\r\n",
      "19.0\r\n",
      "16.0\r\n",
      "15.0\r\n",
      "17.0\r\n",
      "16.0\r\n",
      "16.0\r\n",
      "19.0\r\n",
      "16.0\r\n",
      "18.0\r\n",
      "18.0\r\n",
      "13.0\r\n",
      "18.0\r\n",
      "18.0\r\n",
      "17.0\r\n",
      "17.0\r\n",
      "14.0\r\n",
      "19.0\r\n",
      "20.0\r\n",
      "15.0\r\n",
      "19.0\r\n",
      "16.0\r\n",
      "16.0\r\n",
      "20.0\r\n",
      "17.0\r\n",
      "17.0\r\n",
      "18.0\r\n",
      "17.0\r\n",
      "16.0\r\n",
      "19.0\r\n",
      "18.0\r\n",
      "16.0\r\n",
      "15.0\r\n",
      "17.0\r\n",
      "14.0\r\n",
      "13.0\r\n",
      "15.0\r\n",
      "15.0\r\n",
      "16.0\r\n",
      "17.0\r\n",
      "16.0\r\n",
      "19.0\r\n",
      "14.0\r\n",
      "14.0\r\n",
      "16.0\r\n",
      "14.0\r\n",
      "16.0\r\n",
      "15.0\r\n",
      "14.0\r\n",
      "18.0\r\n",
      "16.0\r\n",
      "16.0\r\n",
      "20.0\r\n",
      "20.0\r\n",
      "16.0\r\n",
      "15.0\r\n",
      "16.0\r\n",
      "15.0\r\n",
      "19.0\r\n",
      "16.0\r\n",
      "17.0\r\n",
      "18.0\r\n",
      "15.0\r\n",
      "16.0\r\n",
      "20.0\r\n",
      "16.0\r\n",
      "17.0\r\n",
      "15.0\r\n",
      "20.0\r\n",
      "16.0\r\n",
      "18.0\r\n",
      "18.0\r\n",
      "17.0\r\n",
      "18.0\r\n",
      "16.0\r\n",
      "15.0\r\n",
      "19.0\r\n",
      "15.0\r\n",
      "16.0\r\n",
      "15.0\r\n",
      "16.0\r\n",
      "19.0\r\n",
      "14.0\r\n",
      "19.0\r\n",
      "13.0\r\n",
      "15.0\r\n",
      "18.0\r\n",
      "19.0\r\n",
      "14.0\r\n",
      "16.0\r\n",
      "17.0\r\n",
      "0.0\r\n",
      "17.0\r\n",
      "15.0\r\n",
      "19.0\r\n",
      "17.0\r\n",
      "17.0\r\n",
      "18.0\r\n",
      "18.0\r\n",
      "18.0\r\n",
      "16.0\r\n",
      "14.0\r\n",
      "19.0\r\n",
      "19.0\r\n",
      "20.0\r\n",
      "20.0\r\n",
      "18.0\r\n",
      "18.0\r\n",
      "17.0\r\n",
      "19.0\r\n",
      "17.0\r\n",
      "16.0\r\n",
      "16.0\r\n",
      "17.0\r\n",
      "17.0\r\n",
      "16.0\r\n",
      "15.0\r\n",
      "18.0\r\n",
      "15.0\r\n",
      "17.0\r\n",
      "18.0\r\n",
      "17.0\r\n",
      "17.0\r\n",
      "15.0\r\n",
      "18.0\r\n",
      "13.0\r\n",
      "17.0\r\n",
      "19.0\r\n",
      "18.0\r\n",
      "14.0\r\n",
      "18.0\r\n",
      "14.0\r\n",
      "16.0\r\n",
      "18.0\r\n",
      "15.0\r\n",
      "20.0\r\n",
      "17.0\r\n",
      "17.0\r\n",
      "16.0\r\n",
      "16.0\r\n",
      "18.0\r\n",
      "18.0\r\n",
      "17.0\r\n",
      "20.0\r\n",
      "20.0\r\n",
      "19.0\r\n",
      "18.0\r\n",
      "14.0\r\n",
      "17.0\r\n",
      "17.0\r\n",
      "18.0\r\n",
      "18.0\r\n",
      "17.0\r\n",
      "16.0\r\n",
      "17.0\r\n",
      "15.0\r\n",
      "16.0\r\n",
      "19.0\r\n",
      "18.0\r\n",
      "17.0\r\n",
      "13.0\r\n",
      "13.0\r\n",
      "19.0\r\n",
      "16.0\r\n",
      "18.0\r\n",
      "20.0\r\n",
      "19.0\r\n",
      "16.0\r\n",
      "18.0\r\n",
      "16.0\r\n",
      "17.0\r\n",
      "18.0\r\n",
      "16.0\r\n",
      "19.0\r\n",
      "17.0\r\n",
      "16.0\r\n",
      "20.0\r\n",
      "19.0\r\n",
      "14.0\r\n",
      "14.0\r\n",
      "16.0\r\n",
      "18.0\r\n",
      "17.0\r\n",
      "16.0\r\n",
      "18.0\r\n",
      "19.0\r\n",
      "15.0\r\n",
      "18.0\r\n",
      "18.0\r\n",
      "17.0\r\n",
      "19.0\r\n",
      "18.0\r\n",
      "18.0\r\n",
      "17.0\r\n",
      "17.0\r\n",
      "18.0\r\n",
      "16.0\r\n",
      "18.0\r\n",
      "19.0\r\n",
      "16.0\r\n",
      "18.0\r\n",
      "18.0\r\n",
      "16.0\r\n",
      "14.0\r\n",
      "18.0\r\n",
      "19.0\r\n",
      "15.0\r\n",
      "17.0\r\n",
      "18.0\r\n",
      "15.0\r\n",
      "18.0\r\n",
      "16.0\r\n",
      "15.0\r\n",
      "17.0\r\n",
      "14.0\r\n",
      "13.0\r\n",
      "15.0\r\n",
      "15.0\r\n",
      "16.0\r\n",
      "17.0\r\n",
      "16.0\r\n",
      "19.0\r\n",
      "14.0\r\n",
      "14.0\r\n",
      "16.0\r\n",
      "14.0\r\n",
      "16.0\r\n",
      "15.0\r\n",
      "14.0\r\n",
      "18.0\r\n",
      "16.0\r\n",
      "16.0\r\n",
      "20.0\r\n",
      "20.0\r\n",
      "16.0\r\n",
      "15.0\r\n",
      "16.0\r\n",
      "15.0\r\n",
      "19.0\r\n",
      "16.0\r\n",
      "17.0\r\n",
      "18.0\r\n",
      "15.0\r\n",
      "16.0\r\n",
      "20.0\r\n",
      "16.0\r\n",
      "17.0\r\n",
      "15.0\r\n",
      "20.0\r\n",
      "16.0\r\n",
      "18.0\r\n",
      "18.0\r\n",
      "17.0\r\n",
      "18.0\r\n",
      "16.0\r\n",
      "15.0\r\n",
      "19.0\r\n",
      "15.0\r\n",
      "16.0\r\n",
      "15.0\r\n",
      "16.0\r\n",
      "19.0\r\n",
      "14.0\r\n",
      "19.0\r\n",
      "13.0\r\n",
      "15.0\r\n",
      "18.0\r\n",
      "19.0\r\n",
      "14.0\r\n",
      "16.0\r\n",
      "17.0\r\n",
      "0.0\r\n",
      "18.0\r\n",
      "17.0\r\n",
      "18.0\r\n",
      "17.0\r\n",
      "18.0\r\n",
      "15.0\r\n",
      "16.0\r\n",
      "19.0\r\n",
      "18.0\r\n",
      "17.0\r\n",
      "17.0\r\n",
      "17.0\r\n",
      "15.0\r\n",
      "16.0\r\n",
      "17.0\r\n",
      "14.0\r\n",
      "18.0\r\n",
      "17.0\r\n",
      "17.0\r\n",
      "17.0\r\n",
      "17.0\r\n",
      "14.0\r\n",
      "17.0\r\n",
      "14.0\r\n",
      "20.0\r\n",
      "18.0\r\n",
      "17.0\r\n",
      "19.0\r\n",
      "18.0\r\n",
      "18.0\r\n",
      "16.0\r\n",
      "18.0\r\n",
      "15.0\r\n",
      "19.0\r\n",
      "17.0\r\n",
      "16.0\r\n",
      "19.0\r\n",
      "16.0\r\n",
      "17.0\r\n",
      "15.0\r\n",
      "17.0\r\n",
      "14.0\r\n",
      "16.0\r\n",
      "18.0\r\n",
      "17.0\r\n",
      "19.0\r\n",
      "17.0\r\n",
      "19.0\r\n",
      "19.0\r\n",
      "18.0\r\n",
      "17.0\r\n",
      "15.0\r\n",
      "18.0\r\n",
      "18.0\r\n",
      "15.0\r\n",
      "16.0\r\n",
      "20.0\r\n",
      "18.0\r\n",
      "18.0\r\n",
      "17.0\r\n"
     ]
    }
   ],
   "source": [
    "! python ../code/readings_04.py --max inflammation-*.csv"
   ]
  },
  {
   "cell_type": "markdown",
   "id": "8c7d5d71",
   "metadata": {},
   "source": [
    "**Command-Line Arguments**"
   ]
  },
  {
   "cell_type": "code",
   "execution_count": 279,
   "id": "42d024f2",
   "metadata": {},
   "outputs": [
    {
     "name": "stdout",
     "output_type": "stream",
     "text": [
      "version is 3.9.12 (main, Apr  5 2022, 01:53:17) \n",
      "[Clang 12.0.0 ]\n"
     ]
    }
   ],
   "source": [
    "import sys\n",
    "print('version is', sys.version)"
   ]
  },
  {
   "cell_type": "code",
   "execution_count": 280,
   "id": "8a1efe64",
   "metadata": {},
   "outputs": [
    {
     "name": "stdout",
     "output_type": "stream",
     "text": [
      "python: can't open file '/Users/lexivanmetre/Desktop/Fall 2023/PSYC 4215/swc-python/data/sys_version.py': [Errno 2] No such file or directory\r\n"
     ]
    }
   ],
   "source": [
    "! python sys_version.py"
   ]
  },
  {
   "cell_type": "code",
   "execution_count": 281,
   "id": "0fb906ac",
   "metadata": {},
   "outputs": [
    {
     "name": "stdout",
     "output_type": "stream",
     "text": [
      "sys.argv is ['/Users/lexivanmetre/opt/anaconda3/lib/python3.9/site-packages/ipykernel_launcher.py', '-f', '/Users/lexivanmetre/Library/Jupyter/runtime/kernel-5b93fd18-67c2-4b9a-bb76-1897117eaf00.json']\n"
     ]
    }
   ],
   "source": [
    "import sys\n",
    "print('sys.argv is', sys.argv)"
   ]
  },
  {
   "cell_type": "code",
   "execution_count": 282,
   "id": "b82055e0",
   "metadata": {},
   "outputs": [
    {
     "name": "stdout",
     "output_type": "stream",
     "text": [
      "python: can't open file '/Users/lexivanmetre/Desktop/Fall 2023/PSYC 4215/swc-python/data/argv_list.py': [Errno 2] No such file or directory\r\n"
     ]
    }
   ],
   "source": [
    "! python argv_list.py"
   ]
  },
  {
   "cell_type": "code",
   "execution_count": 283,
   "id": "df21f2c4",
   "metadata": {},
   "outputs": [
    {
     "name": "stdout",
     "output_type": "stream",
     "text": [
      "python: can't open file '/Users/lexivanmetre/Desktop/Fall 2023/PSYC 4215/swc-python/data/argv_list.py': [Errno 2] No such file or directory\r\n"
     ]
    }
   ],
   "source": [
    "! python argv_list.py first second third"
   ]
  },
  {
   "cell_type": "code",
   "execution_count": 284,
   "id": "fef37fbc",
   "metadata": {},
   "outputs": [
    {
     "name": "stdout",
     "output_type": "stream",
     "text": [
      "import sys\r\n",
      "import numpy\r\n",
      "\r\n",
      "\r\n",
      "def main():\r\n",
      "    script = sys.argv[0]\r\n",
      "    filename = sys.argv[1]\r\n",
      "    data = numpy.loadtxt(filename, delimiter=',')\r\n",
      "    for row_mean in numpy.mean(data, axis=1):\r\n",
      "        print(row_mean)\r\n"
     ]
    }
   ],
   "source": [
    "! cat ../code/readings_01.py"
   ]
  },
  {
   "cell_type": "code",
   "execution_count": 285,
   "id": "6a133ada",
   "metadata": {},
   "outputs": [],
   "source": [
    "import sys\n",
    "import numpy\n",
    "\n",
    "\n",
    "def main():\n",
    "    script = sys.argv[0]\n",
    "    filename = sys.argv[1]\n",
    "    data = numpy.loadtxt(filename, delimiter=',')\n",
    "    for row_mean in numpy.mean(data, axis=1):\n",
    "        print(row_mean)"
   ]
  },
  {
   "cell_type": "code",
   "execution_count": 286,
   "id": "af94fe37",
   "metadata": {},
   "outputs": [],
   "source": [
    "! python ../code/readings_01.py inflammation-01.csv"
   ]
  },
  {
   "cell_type": "code",
   "execution_count": 287,
   "id": "f396ae03",
   "metadata": {},
   "outputs": [
    {
     "name": "stdout",
     "output_type": "stream",
     "text": [
      "import sys\r\n",
      "import numpy\r\n",
      "\r\n",
      "def main():\r\n",
      "    script = sys.argv[0]\r\n",
      "    filename = sys.argv[1]\r\n",
      "    data = numpy.loadtxt(filename, delimiter=',')\r\n",
      "    for row_mean in numpy.mean(data, axis=1):\r\n",
      "        print(row_mean)\r\n",
      "\r\n",
      "\r\n",
      "if __name__ == '__main__':\r\n",
      "    main()\r\n"
     ]
    }
   ],
   "source": [
    "! cat ../code/readings_02.py"
   ]
  },
  {
   "cell_type": "code",
   "execution_count": 289,
   "id": "7c3a5b1d",
   "metadata": {},
   "outputs": [
    {
     "name": "stdout",
     "output_type": "stream",
     "text": [
      "5.45\n",
      "5.425\n",
      "6.1\n",
      "5.9\n",
      "5.55\n",
      "6.225\n",
      "5.975\n",
      "6.65\n",
      "6.625\n",
      "6.525\n",
      "6.775\n",
      "5.8\n",
      "6.225\n",
      "5.75\n",
      "5.225\n",
      "6.3\n",
      "6.55\n",
      "5.7\n",
      "5.85\n",
      "6.55\n",
      "5.775\n",
      "5.825\n",
      "6.175\n",
      "6.1\n",
      "5.8\n",
      "6.425\n",
      "6.05\n",
      "6.025\n",
      "6.175\n",
      "6.55\n",
      "6.175\n",
      "6.35\n",
      "6.725\n",
      "6.125\n",
      "7.075\n",
      "5.725\n",
      "5.925\n",
      "6.15\n",
      "6.075\n",
      "5.75\n",
      "5.975\n",
      "5.725\n",
      "6.3\n",
      "5.9\n",
      "6.75\n",
      "5.925\n",
      "7.225\n",
      "6.15\n",
      "5.95\n",
      "6.275\n",
      "5.7\n",
      "6.1\n",
      "6.825\n",
      "5.975\n",
      "6.725\n",
      "5.7\n",
      "6.25\n",
      "6.4\n",
      "7.05\n",
      "5.9\n"
     ]
    }
   ],
   "source": [
    "! python ../code/readings_02.py inflammation-01.csv"
   ]
  },
  {
   "cell_type": "markdown",
   "id": "2b4225c2",
   "metadata": {},
   "source": [
    "**Running Versus Importing**"
   ]
  },
  {
   "cell_type": "code",
   "execution_count": 290,
   "id": "c178a47e",
   "metadata": {},
   "outputs": [
    {
     "ename": "OSError",
     "evalue": "-f not found.",
     "output_type": "error",
     "traceback": [
      "\u001b[0;31m---------------------------------------------------------------------------\u001b[0m",
      "\u001b[0;31mOSError\u001b[0m                                   Traceback (most recent call last)",
      "Input \u001b[0;32mIn [290]\u001b[0m, in \u001b[0;36m<cell line: 1>\u001b[0;34m()\u001b[0m\n\u001b[1;32m      1\u001b[0m \u001b[38;5;28;01mif\u001b[39;00m \u001b[38;5;18m__name__\u001b[39m \u001b[38;5;241m==\u001b[39m \u001b[38;5;124m'\u001b[39m\u001b[38;5;124m__main__\u001b[39m\u001b[38;5;124m'\u001b[39m:\n\u001b[0;32m----> 2\u001b[0m     \u001b[43mmain\u001b[49m\u001b[43m(\u001b[49m\u001b[43m)\u001b[49m\n",
      "Input \u001b[0;32mIn [288]\u001b[0m, in \u001b[0;36mmain\u001b[0;34m()\u001b[0m\n\u001b[1;32m      5\u001b[0m script \u001b[38;5;241m=\u001b[39m sys\u001b[38;5;241m.\u001b[39margv[\u001b[38;5;241m0\u001b[39m]\n\u001b[1;32m      6\u001b[0m filename \u001b[38;5;241m=\u001b[39m sys\u001b[38;5;241m.\u001b[39margv[\u001b[38;5;241m1\u001b[39m]\n\u001b[0;32m----> 7\u001b[0m data \u001b[38;5;241m=\u001b[39m \u001b[43mnumpy\u001b[49m\u001b[38;5;241;43m.\u001b[39;49m\u001b[43mloadtxt\u001b[49m\u001b[43m(\u001b[49m\u001b[43mfilename\u001b[49m\u001b[43m,\u001b[49m\u001b[43m \u001b[49m\u001b[43mdelimiter\u001b[49m\u001b[38;5;241;43m=\u001b[39;49m\u001b[38;5;124;43m'\u001b[39;49m\u001b[38;5;124;43m,\u001b[39;49m\u001b[38;5;124;43m'\u001b[39;49m\u001b[43m)\u001b[49m\n\u001b[1;32m      8\u001b[0m \u001b[38;5;28;01mfor\u001b[39;00m row_mean \u001b[38;5;129;01min\u001b[39;00m numpy\u001b[38;5;241m.\u001b[39mmean(data, axis\u001b[38;5;241m=\u001b[39m\u001b[38;5;241m1\u001b[39m):\n\u001b[1;32m      9\u001b[0m     \u001b[38;5;28mprint\u001b[39m(row_mean)\n",
      "File \u001b[0;32m~/opt/anaconda3/lib/python3.9/site-packages/numpy/lib/npyio.py:1067\u001b[0m, in \u001b[0;36mloadtxt\u001b[0;34m(fname, dtype, comments, delimiter, converters, skiprows, usecols, unpack, ndmin, encoding, max_rows, like)\u001b[0m\n\u001b[1;32m   1065\u001b[0m     fname \u001b[38;5;241m=\u001b[39m os_fspath(fname)\n\u001b[1;32m   1066\u001b[0m \u001b[38;5;28;01mif\u001b[39;00m _is_string_like(fname):\n\u001b[0;32m-> 1067\u001b[0m     fh \u001b[38;5;241m=\u001b[39m \u001b[43mnp\u001b[49m\u001b[38;5;241;43m.\u001b[39;49m\u001b[43mlib\u001b[49m\u001b[38;5;241;43m.\u001b[39;49m\u001b[43m_datasource\u001b[49m\u001b[38;5;241;43m.\u001b[39;49m\u001b[43mopen\u001b[49m\u001b[43m(\u001b[49m\u001b[43mfname\u001b[49m\u001b[43m,\u001b[49m\u001b[43m \u001b[49m\u001b[38;5;124;43m'\u001b[39;49m\u001b[38;5;124;43mrt\u001b[39;49m\u001b[38;5;124;43m'\u001b[39;49m\u001b[43m,\u001b[49m\u001b[43m \u001b[49m\u001b[43mencoding\u001b[49m\u001b[38;5;241;43m=\u001b[39;49m\u001b[43mencoding\u001b[49m\u001b[43m)\u001b[49m\n\u001b[1;32m   1068\u001b[0m     fencoding \u001b[38;5;241m=\u001b[39m \u001b[38;5;28mgetattr\u001b[39m(fh, \u001b[38;5;124m'\u001b[39m\u001b[38;5;124mencoding\u001b[39m\u001b[38;5;124m'\u001b[39m, \u001b[38;5;124m'\u001b[39m\u001b[38;5;124mlatin1\u001b[39m\u001b[38;5;124m'\u001b[39m)\n\u001b[1;32m   1069\u001b[0m     fh \u001b[38;5;241m=\u001b[39m \u001b[38;5;28miter\u001b[39m(fh)\n",
      "File \u001b[0;32m~/opt/anaconda3/lib/python3.9/site-packages/numpy/lib/_datasource.py:193\u001b[0m, in \u001b[0;36mopen\u001b[0;34m(path, mode, destpath, encoding, newline)\u001b[0m\n\u001b[1;32m    156\u001b[0m \u001b[38;5;124;03m\"\"\"\u001b[39;00m\n\u001b[1;32m    157\u001b[0m \u001b[38;5;124;03mOpen `path` with `mode` and return the file object.\u001b[39;00m\n\u001b[1;32m    158\u001b[0m \n\u001b[0;32m   (...)\u001b[0m\n\u001b[1;32m    189\u001b[0m \n\u001b[1;32m    190\u001b[0m \u001b[38;5;124;03m\"\"\"\u001b[39;00m\n\u001b[1;32m    192\u001b[0m ds \u001b[38;5;241m=\u001b[39m DataSource(destpath)\n\u001b[0;32m--> 193\u001b[0m \u001b[38;5;28;01mreturn\u001b[39;00m \u001b[43mds\u001b[49m\u001b[38;5;241;43m.\u001b[39;49m\u001b[43mopen\u001b[49m\u001b[43m(\u001b[49m\u001b[43mpath\u001b[49m\u001b[43m,\u001b[49m\u001b[43m \u001b[49m\u001b[43mmode\u001b[49m\u001b[43m,\u001b[49m\u001b[43m \u001b[49m\u001b[43mencoding\u001b[49m\u001b[38;5;241;43m=\u001b[39;49m\u001b[43mencoding\u001b[49m\u001b[43m,\u001b[49m\u001b[43m \u001b[49m\u001b[43mnewline\u001b[49m\u001b[38;5;241;43m=\u001b[39;49m\u001b[43mnewline\u001b[49m\u001b[43m)\u001b[49m\n",
      "File \u001b[0;32m~/opt/anaconda3/lib/python3.9/site-packages/numpy/lib/_datasource.py:533\u001b[0m, in \u001b[0;36mDataSource.open\u001b[0;34m(self, path, mode, encoding, newline)\u001b[0m\n\u001b[1;32m    530\u001b[0m     \u001b[38;5;28;01mreturn\u001b[39;00m _file_openers[ext](found, mode\u001b[38;5;241m=\u001b[39mmode,\n\u001b[1;32m    531\u001b[0m                               encoding\u001b[38;5;241m=\u001b[39mencoding, newline\u001b[38;5;241m=\u001b[39mnewline)\n\u001b[1;32m    532\u001b[0m \u001b[38;5;28;01melse\u001b[39;00m:\n\u001b[0;32m--> 533\u001b[0m     \u001b[38;5;28;01mraise\u001b[39;00m \u001b[38;5;167;01mIOError\u001b[39;00m(\u001b[38;5;124m\"\u001b[39m\u001b[38;5;132;01m%s\u001b[39;00m\u001b[38;5;124m not found.\u001b[39m\u001b[38;5;124m\"\u001b[39m \u001b[38;5;241m%\u001b[39m path)\n",
      "\u001b[0;31mOSError\u001b[0m: -f not found."
     ]
    }
   ],
   "source": [
    "if __name__ == '__main__':\n",
    "    main()  # Or whatever function produces output"
   ]
  },
  {
   "cell_type": "markdown",
   "id": "852d133c",
   "metadata": {},
   "source": [
    "**Handling Multiple Files**"
   ]
  },
  {
   "cell_type": "code",
   "execution_count": 291,
   "id": "371adf5e",
   "metadata": {},
   "outputs": [
    {
     "name": "stdout",
     "output_type": "stream",
     "text": [
      "small-01.csv small-02.csv small-03.csv\r\n"
     ]
    }
   ],
   "source": [
    "! ls small-*.csv"
   ]
  },
  {
   "cell_type": "code",
   "execution_count": 292,
   "id": "2fc1d368",
   "metadata": {},
   "outputs": [
    {
     "name": "stdout",
     "output_type": "stream",
     "text": [
      "0,0,1\r\n",
      "0,1,2\r\n"
     ]
    }
   ],
   "source": [
    "! cat small-01.csv"
   ]
  },
  {
   "cell_type": "code",
   "execution_count": 293,
   "id": "8d1accf0",
   "metadata": {},
   "outputs": [
    {
     "name": "stdout",
     "output_type": "stream",
     "text": [
      "0.3333333333333333\r\n",
      "1.0\r\n"
     ]
    }
   ],
   "source": [
    "! python ../code/readings_02.py small-01.csv"
   ]
  },
  {
   "cell_type": "code",
   "execution_count": 294,
   "id": "3c07ed4b",
   "metadata": {},
   "outputs": [
    {
     "name": "stdout",
     "output_type": "stream",
     "text": [
      "import sys\r\n",
      "import numpy\r\n",
      "\r\n",
      "\r\n",
      "def main():\r\n",
      "    script = sys.argv[0]\r\n",
      "    for filename in sys.argv[1:]:\r\n",
      "        data = numpy.loadtxt(filename, delimiter=',')\r\n",
      "        for row_mean in numpy.mean(data, axis=1):\r\n",
      "            print(row_mean)\r\n",
      "\r\n",
      "\r\n",
      "if __name__ == '__main__':\r\n",
      "    main()\r\n"
     ]
    }
   ],
   "source": [
    "! cat ../code/readings_03.py"
   ]
  },
  {
   "cell_type": "code",
   "execution_count": 300,
   "id": "b0432ee3",
   "metadata": {},
   "outputs": [
    {
     "name": "stdout",
     "output_type": "stream",
     "text": [
      "0.3333333333333333\r\n",
      "1.0\r\n",
      "13.666666666666666\r\n",
      "11.0\r\n"
     ]
    }
   ],
   "source": [
    "! python ../code/readings_03.py small-01.csv small-02.csv"
   ]
  },
  {
   "cell_type": "markdown",
   "id": "5fb48537",
   "metadata": {},
   "source": [
    "**Handling Command-Line Flags**"
   ]
  },
  {
   "cell_type": "code",
   "execution_count": 301,
   "id": "29b1359a",
   "metadata": {},
   "outputs": [
    {
     "name": "stdout",
     "output_type": "stream",
     "text": [
      "import sys\r\n",
      "import numpy\r\n",
      "\r\n",
      "\r\n",
      "def main():\r\n",
      "    script = sys.argv[0]\r\n",
      "    action = sys.argv[1]\r\n",
      "    filenames = sys.argv[2:]\r\n",
      "\r\n",
      "    for filename in filenames:\r\n",
      "        data = numpy.loadtxt(filename, delimiter=',')\r\n",
      "\r\n",
      "        if action == '--min':\r\n",
      "            values = numpy.min(data, axis=1)\r\n",
      "        elif action == '--mean':\r\n",
      "            values = numpy.mean(data, axis=1)\r\n",
      "        elif action == '--max':\r\n",
      "            values = numpy.max(data, axis=1)\r\n",
      "\r\n",
      "        for val in values:\r\n",
      "            print(val)\r\n",
      "\r\n",
      "\r\n",
      "if __name__ == '__main__':\r\n",
      "    main()\r\n"
     ]
    }
   ],
   "source": [
    "! cat ../code/readings_04.py"
   ]
  },
  {
   "cell_type": "code",
   "execution_count": 302,
   "id": "ce4ed0bf",
   "metadata": {},
   "outputs": [
    {
     "name": "stdout",
     "output_type": "stream",
     "text": [
      "1.0\r\n",
      "2.0\r\n"
     ]
    }
   ],
   "source": [
    "! python ../code/readings_04.py --max small-01.csv"
   ]
  },
  {
   "cell_type": "code",
   "execution_count": 303,
   "id": "9881248f",
   "metadata": {},
   "outputs": [
    {
     "name": "stdout",
     "output_type": "stream",
     "text": [
      "import sys\r\n",
      "import numpy\r\n",
      "\r\n",
      "def main():\r\n",
      "    script = sys.argv[0]\r\n",
      "    action = sys.argv[1]\r\n",
      "    filenames = sys.argv[2:]\r\n",
      "    assert action in ['--min', '--mean', '--max'], \\\r\n",
      "           'Action is not one of --min, --mean, or --max: ' + action\r\n",
      "    for filename in filenames:\r\n",
      "        process(filename, action)\r\n",
      "\r\n",
      "def process(filename, action):\r\n",
      "    data = numpy.loadtxt(filename, delimiter=',')\r\n",
      "\r\n",
      "    if action == '--min':\r\n",
      "        values = numpy.min(data, axis=1)\r\n",
      "    elif action == '--mean':\r\n",
      "        values = numpy.mean(data, axis=1)\r\n",
      "    elif action == '--max':\r\n",
      "        values = numpy.max(data, axis=1)\r\n",
      "\r\n",
      "    for val in values:\r\n",
      "        print(val)\r\n",
      "\r\n",
      "if __name__ == '__main__':\r\n",
      "   main()\r\n"
     ]
    }
   ],
   "source": [
    "! cat ../code/readings_05.py"
   ]
  },
  {
   "cell_type": "markdown",
   "id": "fddfcd83",
   "metadata": {},
   "source": [
    "**Handling Standard Input**"
   ]
  },
  {
   "cell_type": "code",
   "execution_count": 304,
   "id": "8976768a",
   "metadata": {},
   "outputs": [
    {
     "name": "stdout",
     "output_type": "stream",
     "text": [
      "import sys\r\n",
      "\r\n",
      "count = 0\r\n",
      "for line in sys.stdin:\r\n",
      "    count += 1\r\n",
      "\r\n",
      "print(count, 'lines in standard input')\r\n"
     ]
    }
   ],
   "source": [
    "! cat ../code/count_stdin.py"
   ]
  },
  {
   "cell_type": "code",
   "execution_count": 306,
   "id": "fd2a65eb",
   "metadata": {},
   "outputs": [
    {
     "name": "stdout",
     "output_type": "stream",
     "text": [
      "2 lines in standard input\r\n"
     ]
    }
   ],
   "source": [
    "! python ../code/count_stdin.py < small-01.csv"
   ]
  },
  {
   "cell_type": "code",
   "execution_count": null,
   "id": "e571a9e4",
   "metadata": {},
   "outputs": [],
   "source": [
    "! python ../code/count_stdin.py small-01.csv # common mistake is to forget the <"
   ]
  },
  {
   "cell_type": "code",
   "execution_count": null,
   "id": "23d3e1dd",
   "metadata": {},
   "outputs": [],
   "source": [
    "! cat ../code/readings_06.py"
   ]
  },
  {
   "cell_type": "code",
   "execution_count": null,
   "id": "9b8d53c5",
   "metadata": {},
   "outputs": [],
   "source": [
    "import sys\n",
    "import numpy\n",
    "\n",
    "def main():\n",
    "    script = sys.argv[0]\n",
    "    action = sys.argv[1]\n",
    "    filenames = sys.argv[2:]\n",
    "    assert action in ['--min', '--mean', '--max'], \\\n",
    "           'Action is not one of --min, --mean, or --max: ' + action\n",
    "    if len(filenames) == 0:\n",
    "        process(sys.stdin, action)\n",
    "    else:\n",
    "        for filename in filenames:\n",
    "            process(filename, action)\n",
    "\n",
    "def process(filename, action):\n",
    "    data = numpy.loadtxt(filename, delimiter=',')\n",
    "\n",
    "    if action == '--min':\n",
    "        values = numpy.amin(data, axis=1)\n",
    "    elif action == '--mean':\n",
    "        values = numpy.mean(data, axis=1)\n",
    "    elif action == '--max':\n",
    "        values = numpy.amax(data, axis=1)\n",
    "\n",
    "    for val in values:\n",
    "        print(val)\n",
    "\n",
    "if __name__ == '__main__':\n",
    "   main()"
   ]
  },
  {
   "cell_type": "code",
   "execution_count": null,
   "id": "77697690",
   "metadata": {},
   "outputs": [],
   "source": [
    "! python ../code/readings_06.py --mean < small-01.csv"
   ]
  },
  {
   "cell_type": "markdown",
   "id": "e6492d90",
   "metadata": {},
   "source": [
    "**Arithmetic on the Command Line**"
   ]
  },
  {
   "cell_type": "code",
   "execution_count": null,
   "id": "4a39003e",
   "metadata": {},
   "outputs": [],
   "source": [
    "! python arith.py -- add 1 2"
   ]
  },
  {
   "cell_type": "code",
   "execution_count": null,
   "id": "7ac70c10",
   "metadata": {},
   "outputs": [],
   "source": [
    "! python arith.py --subtract 3 4"
   ]
  },
  {
   "cell_type": "markdown",
   "id": "756dadff",
   "metadata": {},
   "source": [
    "**Finding Particular Files**"
   ]
  },
  {
   "cell_type": "code",
   "execution_count": null,
   "id": "7bcc4f4d",
   "metadata": {},
   "outputs": [],
   "source": [
    "! python my_ls.py py"
   ]
  },
  {
   "cell_type": "markdown",
   "id": "4e4b3a87",
   "metadata": {},
   "source": [
    "**Changing Flags**"
   ]
  },
  {
   "cell_type": "markdown",
   "id": "fda23cfa",
   "metadata": {},
   "source": [
    "Rewrite readings.py so that it uses -n, -m, and -x instead of --min, --mean, and --max respectively. Is the code easier to read? Is the program easier to understand?"
   ]
  },
  {
   "cell_type": "code",
   "execution_count": null,
   "id": "2ceb7d65",
   "metadata": {},
   "outputs": [],
   "source": [
    "\n",
    "def main():\n",
    "    script = sys.argv[0]\n",
    "    action = sys.argv[1]\n",
    "    filenames = sys.argv[2:]\n",
    "    assert action in ['-n', '-m', '-x'], \\\n",
    "           'Action is not one of -n, -m, or -x: ' + action\n",
    "    if len(filenames) == 0:\n",
    "        process(sys.stdin, action)\n",
    "    else:\n",
    "        for filename in filenames:\n",
    "            process(filename, action)\n",
    "\n",
    "def process(filename, action):\n",
    "    data = numpy.loadtxt(filename, delimiter=',')\n",
    "\n",
    "    if action == '-n':\n",
    "        values = numpy.amin(data, axis=1)\n",
    "    elif action == '-m':\n",
    "        values = numpy.mean(data, axis=1)\n",
    "    elif action == '-x':\n",
    "        values = numpy.amax(data, axis=1)\n",
    "\n",
    "    for val in values:\n",
    "        print(val)\n",
    "\n",
    "main()"
   ]
  },
  {
   "cell_type": "markdown",
   "id": "6da5b752",
   "metadata": {},
   "source": [
    "**Adding a Help Message**"
   ]
  },
  {
   "cell_type": "markdown",
   "id": "63ab540d",
   "metadata": {},
   "source": [
    "Separately, modify readings.py so that if no parameters are given (i.e., no action is specified and no filenames are given), it prints a message explaining how it should be used."
   ]
  },
  {
   "cell_type": "code",
   "execution_count": null,
   "id": "0a872271",
   "metadata": {},
   "outputs": [],
   "source": [
    "# this is code/readings_08.py\n",
    "import sys\n",
    "import numpy\n",
    "\n",
    "def main():\n",
    "    script = sys.argv[0]\n",
    "    if len(sys.argv) == 1:  # no arguments, so print help message\n",
    "        print(\"Usage: python readings_08.py action filenames\\n\"\n",
    "              \"Action:\\n\"\n",
    "              \"    Must be one of --min, --mean, or --max.\\n\"\n",
    "              \"Filenames:\\n\"\n",
    "              \"    If blank, input is taken from standard input (stdin).\\n\"\n",
    "              \"    Otherwise, each filename in the list of arguments is processed in turn.\")\n",
    "        return\n",
    "\n",
    "    action = sys.argv[1]\n",
    "    filenames = sys.argv[2:]\n",
    "    assert action in ['--min', '--mean', '--max'], (\n",
    "        'Action is not one of --min, --mean, or --max: ' + action)\n",
    "    if len(filenames) == 0:\n",
    "        process(sys.stdin, action)\n",
    "    else:\n",
    "        for filename in filenames:\n",
    "            process(filename, action)\n",
    "\n",
    "def process(filename, action):\n",
    "    data = numpy.loadtxt(filename, delimiter=',')\n",
    "\n",
    "    if action == '--min':\n",
    "        values = numpy.amin(data, axis=1)\n",
    "    elif action == '--mean':\n",
    "        values = numpy.mean(data, axis=1)\n",
    "    elif action == '--max':\n",
    "        values = numpy.amax(data, axis=1)\n",
    "\n",
    "    for val in values:\n",
    "        print(val)\n",
    "\n",
    "if __name__ == '__main__':\n",
    "    main()"
   ]
  },
  {
   "cell_type": "markdown",
   "id": "2fddb15f",
   "metadata": {},
   "source": [
    "**Adding a Default Action**"
   ]
  },
  {
   "cell_type": "markdown",
   "id": "a41f8cee",
   "metadata": {},
   "source": [
    "Separately, modify readings.py so that if no action is given it displays the means of the data."
   ]
  },
  {
   "cell_type": "code",
   "execution_count": null,
   "id": "bbec8563",
   "metadata": {},
   "outputs": [],
   "source": [
    "# this is code/readings_09.py\n",
    "import sys\n",
    "import numpy\n",
    "\n",
    "def main():\n",
    "    script = sys.argv[0]\n",
    "    action = sys.argv[1]\n",
    "    if action not in ['--min', '--mean', '--max']: # if no action given\n",
    "        action = '--mean'    # set a default action, that being mean\n",
    "        filenames = sys.argv[1:] # start the filenames one place earlier in the argv list\n",
    "    else:\n",
    "        filenames = sys.argv[2:]\n",
    "\n",
    "    if len(filenames) == 0:\n",
    "        process(sys.stdin, action)\n",
    "    else:\n",
    "        for filename in filenames:\n",
    "            process(filename, action)\n",
    "\n",
    "def process(filename, action):\n",
    "    data = numpy.loadtxt(filename, delimiter=',')\n",
    "\n",
    "    if action == '--min':\n",
    "        values = numpy.amin(data, axis=1)\n",
    "    elif action == '--mean':\n",
    "        values = numpy.mean(data, axis=1)\n",
    "    elif action == '--max':\n",
    "        values = numpy.amax(data, axis=1)\n",
    "\n",
    "    for val in values:\n",
    "        print(val)\n",
    "\n",
    "main()"
   ]
  },
  {
   "cell_type": "markdown",
   "id": "791f465c",
   "metadata": {},
   "source": [
    "**A File-Checker**"
   ]
  },
  {
   "cell_type": "markdown",
   "id": "6ae274df",
   "metadata": {},
   "source": [
    "Write a program called check.py that takes the names of one or more inflammation data files as arguments and checks that all the files have the same number of rows and columns. What is the best way to test your program?"
   ]
  },
  {
   "cell_type": "code",
   "execution_count": null,
   "id": "57ac1343",
   "metadata": {},
   "outputs": [],
   "source": [
    "import sys\n",
    "import numpy\n",
    "\n",
    "def main():\n",
    "    script = sys.argv[0]\n",
    "    filenames = sys.argv[1:]\n",
    "    if len(filenames) <=1: #nothing to check\n",
    "        print('Only 1 file specified on input')\n",
    "    else:\n",
    "        nrow0, ncol0 = row_col_count(filenames[0])\n",
    "        print('First file %s: %d rows and %d columns' % (filenames[0], nrow0, ncol0))\n",
    "        for filename in filenames[1:]:\n",
    "            nrow, ncol = row_col_count(filename)\n",
    "            if nrow != nrow0 or ncol != ncol0:\n",
    "                print('File %s does not check: %d rows and %d columns' % (filename, nrow, ncol))\n",
    "            else:\n",
    "                print('File %s checks' % filename)\n",
    "        return\n",
    "\n",
    "def row_col_count(filename):\n",
    "    try:\n",
    "        nrow, ncol = numpy.loadtxt(filename, delimiter=',').shape\n",
    "    except ValueError:\n",
    "        # 'ValueError' error is raised when numpy encounters lines that\n",
    "        # have different number of data elements in them than the rest of the lines,\n",
    "        # or when lines have non-numeric elements\n",
    "        nrow, ncol = (0, 0)\n",
    "    return nrow, ncol\n",
    "\n",
    "main()"
   ]
  },
  {
   "cell_type": "markdown",
   "id": "020a56e7",
   "metadata": {},
   "source": [
    "**Counting Lines**"
   ]
  },
  {
   "cell_type": "markdown",
   "id": "316429a1",
   "metadata": {},
   "source": [
    "Write a program called line_count.py that works like the Unix wc command:\n",
    "\n",
    "* If no filenames are given, it reports the number of lines in standard input.\n",
    "* If one or more filenames are given, it reports the number of lines in each, followed by the total number of lines."
   ]
  },
  {
   "cell_type": "code",
   "execution_count": null,
   "id": "d7cb284a",
   "metadata": {},
   "outputs": [],
   "source": [
    "import sys\n",
    "\n",
    "def main():\n",
    "    \"\"\"print each input filename and the number of lines in it,\n",
    "       and print the sum of the number of lines\"\"\"\n",
    "    filenames = sys.argv[1:]\n",
    "    sum_nlines = 0 #initialize counting variable\n",
    "\n",
    "    if len(filenames) == 0: # no filenames, just stdin\n",
    "        sum_nlines = count_file_like(sys.stdin)\n",
    "        print('stdin: %d' % sum_nlines)\n",
    "    else:\n",
    "        for filename in filenames:\n",
    "            nlines = count_file(filename)\n",
    "            print('%s %d' % (filename, nlines))\n",
    "            sum_nlines += nlines\n",
    "        print('total: %d' % sum_nlines)\n",
    "\n",
    "def count_file(filename):\n",
    "    \"\"\"count the number of lines in a file\"\"\"\n",
    "    f = open(filename,'r')\n",
    "    nlines = len(f.readlines())\n",
    "    f.close()\n",
    "    return(nlines)\n",
    "\n",
    "def count_file_like(file_like):\n",
    "    \"\"\"count the number of lines in a file-like object (eg stdin)\"\"\"\n",
    "    n = 0\n",
    "    for line in file_like:\n",
    "        n = n+1\n",
    "    return n\n",
    "\n",
    "main()"
   ]
  },
  {
   "cell_type": "markdown",
   "id": "f5e06ad4",
   "metadata": {},
   "source": [
    "**Generate an Error Message**"
   ]
  },
  {
   "cell_type": "markdown",
   "id": "1db692f7",
   "metadata": {},
   "source": [
    "Write a program called check_arguments.py that prints usage then exits the program if no arguments are provided. (Hint: You can use sys.exit() to exit the program.)"
   ]
  },
  {
   "cell_type": "code",
   "execution_count": null,
   "id": "2d970e96",
   "metadata": {},
   "outputs": [],
   "source": [
    "! python check_arguments.py"
   ]
  },
  {
   "cell_type": "code",
   "execution_count": null,
   "id": "4a971664",
   "metadata": {},
   "outputs": [],
   "source": [
    "! python check_arguments.py filename.txt"
   ]
  }
 ],
 "metadata": {
  "kernelspec": {
   "display_name": "Python 3 (ipykernel)",
   "language": "python",
   "name": "python3"
  },
  "language_info": {
   "codemirror_mode": {
    "name": "ipython",
    "version": 3
   },
   "file_extension": ".py",
   "mimetype": "text/x-python",
   "name": "python",
   "nbconvert_exporter": "python",
   "pygments_lexer": "ipython3",
   "version": "3.9.12"
  }
 },
 "nbformat": 4,
 "nbformat_minor": 5
}
